{
 "cells": [
  {
   "cell_type": "markdown",
   "metadata": {},
   "source": [
    "# Workbook 1: Programming I\n",
    "\n",
    "Workbooks are meant to be interactive - so work together! They are also meant to be exploratory. There are broad questions in the notebook that you should explore, and try to answer - but you are also very much encouraged to explore other related ideas as you go! \n",
    "\n",
    "If you have a question about how something works / what something does - try it out, and see what happens!"
   ]
  },
  {
   "cell_type": "markdown",
   "metadata": {},
   "source": [
    "## Part 1: Variables\n",
    "\n",
    "Variables are used in Python to store values. "
   ]
  },
  {
   "cell_type": "markdown",
   "metadata": {},
   "source": [
    "### Defining Variables\n",
    "\n",
    "Declare a int, float, string, and boolean. Fill them with with any values you want. \n",
    "\n",
    "Call them `my_int`, `my_float`, `my_string` and `my_boolean`. "
   ]
  },
  {
   "cell_type": "code",
   "execution_count": null,
   "metadata": {
    "collapsed": true
   },
   "outputs": [],
   "source": [
    "## YOUR CODE HERE\n"
   ]
  },
  {
   "cell_type": "markdown",
   "metadata": {},
   "source": [
    "Use the following cells to check the types of the variables you write are as expected"
   ]
  },
  {
   "cell_type": "code",
   "execution_count": null,
   "metadata": {
    "collapsed": true
   },
   "outputs": [],
   "source": [
    "type(my_int)"
   ]
  },
  {
   "cell_type": "code",
   "execution_count": null,
   "metadata": {
    "collapsed": true
   },
   "outputs": [],
   "source": [
    "type(my_float)"
   ]
  },
  {
   "cell_type": "code",
   "execution_count": null,
   "metadata": {
    "collapsed": true
   },
   "outputs": [],
   "source": [
    "type(my_string)"
   ]
  },
  {
   "cell_type": "code",
   "execution_count": null,
   "metadata": {
    "collapsed": true
   },
   "outputs": [],
   "source": [
    "type(my_boolean)"
   ]
  },
  {
   "cell_type": "markdown",
   "metadata": {},
   "source": [
    "## Part 2: Operators & Comparisons\n",
    "\n",
    "Operators are used in Python to do things with variables. "
   ]
  },
  {
   "cell_type": "markdown",
   "metadata": {},
   "source": [
    "### Operator Questions"
   ]
  },
  {
   "cell_type": "markdown",
   "metadata": {},
   "source": [
    "First - explore using Python operators. Make sure you can add and subtract numbers, concatenate strings, do boolean comparisons, etc."
   ]
  },
  {
   "cell_type": "code",
   "execution_count": null,
   "metadata": {
    "collapsed": true
   },
   "outputs": [],
   "source": [
    "## Do some exploring!\n",
    "\n"
   ]
  },
  {
   "cell_type": "markdown",
   "metadata": {},
   "source": [
    "Once you have explored using operators, try to answer some quesions using them. \n",
    "\n",
    "Let's start with an example: is the multiplication of 13 and 15 greater than 200?"
   ]
  },
  {
   "cell_type": "code",
   "execution_count": null,
   "metadata": {
    "collapsed": true
   },
   "outputs": [],
   "source": [
    "13 * 15 > 200"
   ]
  },
  {
   "cell_type": "markdown",
   "metadata": {},
   "source": [
    "Similar to that example, try to answer the following questions using Python variables & comparisons:\n",
    "- Is the remainder of dividing 323 by 13 greater than 6?\n",
    "- Is 7 to the power of 3 greater than or equal to 300?\n",
    "- Is 49 squared greater than 2500 or (boolean comparison) is 14 to the power of 3 greater than 2500\n",
    "- Is 49 modulus 9 equal to 67 modulus 9 and (boolean comparison) is the sum 49 & 67 modulus 9 greater than 7"
   ]
  },
  {
   "cell_type": "code",
   "execution_count": null,
   "metadata": {
    "collapsed": true
   },
   "outputs": [],
   "source": [
    "## YOUR CODE HERE\n",
    "\n",
    "\n"
   ]
  },
  {
   "cell_type": "markdown",
   "metadata": {},
   "source": [
    "### Operator Challenges\n",
    "\n",
    "The following are more challenging operator related questions. If they seem too tricky for now, just skip ahead to the next section.\n",
    "\n",
    "Some more comparisons, with variable assignment:\n",
    "- Set the variable `comp_1` to the result of whether 17 squared is not the same as 867 divided by 3\n",
    "- Set the variable `comp_2` to the result of whether 4^3 is less than 3^4 and also greater than the remainder of dividing 1234 by 99\n",
    "\n",
    "Bonus: both of the above questions can be written in (at least) two ways. \n",
    "\n",
    "If you found an answer to them, see if you can update the construction, changing at least one operator, to answer the question in a different way. \n",
    "\n",
    "Note: x^y indicates 'x to the power of y'"
   ]
  },
  {
   "cell_type": "code",
   "execution_count": null,
   "metadata": {
    "collapsed": true
   },
   "outputs": [],
   "source": [
    "## YOUR CODE HERE\n",
    "\n",
    "\n"
   ]
  },
  {
   "cell_type": "markdown",
   "metadata": {},
   "source": [
    "### Operator Explorations.\n",
    "\n",
    "For each of the following questions, start by writing out a guess of what you think it might do. \n",
    "\n",
    "Then, test out each one by writing out some code. \n",
    "\n",
    "Finally, once you have answered the question, using some code, add a comment in the markdown here with the answer. \n",
    "\n",
    "Questions:\n",
    "- If you divide a float by an int, what is the type of the outcome? What about dividing an int by a float?\n",
    "- What happens if you multiply a string with a number?\n",
    "- The '+' sign works if you for adding numbers, and for concatenating strings. Can you use '+' with a number and string?\n",
    "- Since you can use '+' and '*' with strings, can you use '-'?"
   ]
  },
  {
   "cell_type": "code",
   "execution_count": null,
   "metadata": {
    "collapsed": true
   },
   "outputs": [],
   "source": [
    "## EXPLORATION CODE HERE\n",
    "\n",
    "\n"
   ]
  },
  {
   "cell_type": "markdown",
   "metadata": {},
   "source": [
    "## Part 3: Asserts\n",
    "\n",
    "You will notice, through the coding labs and assignments, code that looks somehing like `assert True`, in which the assert statement is used.\n",
    "\n",
    "Using assert basically says to `assert that the following code is True`.\n",
    "\n",
    "Or, slightly more formally `assert that the following code evaluates as True`.\n",
    "\n",
    "If the asserted code does not evaluate as True, it raises an error - meaning it interrupts the code execution because something went wrong.\n",
    "\n",
    "This can be used as a way to test that code does what you expect it to do - and is therefore part of how we will text your code programmatically. \n",
    "\n",
    "Because the use of `assert` will be common in course materials, let's take a moment to explore how it works and what happens when we use it."
   ]
  },
  {
   "cell_type": "code",
   "execution_count": null,
   "metadata": {
    "collapsed": true
   },
   "outputs": [],
   "source": [
    "# Declare a variable called `boolean` that  has type boolean, and passes the assert in the next cell\n",
    "\n",
    "## YOUR CODE HERE\n"
   ]
  },
  {
   "cell_type": "code",
   "execution_count": null,
   "metadata": {
    "collapsed": true
   },
   "outputs": [],
   "source": [
    "# Check that there is variable called `boolean` that is a boolean\n",
    "assert type(boolean) == bool"
   ]
  },
  {
   "cell_type": "code",
   "execution_count": null,
   "metadata": {
    "collapsed": true
   },
   "outputs": [],
   "source": [
    "# Check that the variable called `boolean` passes the assert\n",
    "assert boolean"
   ]
  },
  {
   "cell_type": "code",
   "execution_count": null,
   "metadata": {
    "collapsed": true
   },
   "outputs": [],
   "source": [
    "boolean"
   ]
  },
  {
   "cell_type": "markdown",
   "metadata": {},
   "source": [
    "###  Assert Explorations\n",
    "\n",
    "Now, explore using assert. What happens if you assert an integer, or a string? \n",
    "\n",
    "What happens if you assert None?\n",
    "\n",
    "Find at least one integer that raises an assertion error. "
   ]
  },
  {
   "cell_type": "code",
   "execution_count": 1,
   "metadata": {
    "collapsed": true
   },
   "outputs": [],
   "source": [
    "## EXPLORATION CODE HERE\n",
    "\n",
    "\n"
   ]
  }
 ],
 "metadata": {
  "kernelspec": {
   "display_name": "Python 3",
   "language": "python",
   "name": "python3"
  },
  "language_info": {
   "codemirror_mode": {
    "name": "ipython",
    "version": 3
   },
   "file_extension": ".py",
   "mimetype": "text/x-python",
   "name": "python",
   "nbconvert_exporter": "python",
   "pygments_lexer": "ipython3",
   "version": "3.7.3"
  }
 },
 "nbformat": 4,
 "nbformat_minor": 2
}
