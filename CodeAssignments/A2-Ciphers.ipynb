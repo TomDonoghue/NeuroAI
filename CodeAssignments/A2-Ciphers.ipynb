{
 "cells": [
  {
   "cell_type": "markdown",
   "metadata": {
    "deletable": false,
    "editable": false,
    "nbgrader": {
     "checksum": "2cee273f36510d32a7b2ef6c8bc59f3b",
     "grade": false,
     "grade_id": "cell-08eae0a733656950",
     "locked": true,
     "schema_version": 1,
     "solution": false
    }
   },
   "source": [
    "# A2-Ciphers"
   ]
  },
  {
   "cell_type": "markdown",
   "metadata": {
    "deletable": false,
    "editable": false,
    "nbgrader": {
     "checksum": "7f618ca77ea939e71e35c5517073461c",
     "grade": false,
     "grade_id": "cell-a58f937c696fa18d",
     "locked": true,
     "schema_version": 1,
     "solution": false
    }
   },
   "source": [
    "## Overview\n",
    "\n",
    "This assignment covers Collections, Loops & Encodings, and builds up to the application of Ciphers. \n",
    "\n",
    "This assignment is out of 8 points, worth 8% of your grade.\n",
    "\n",
    "Make sure your completed assignment passes all the asserts. This assignment also has hidden tests - which means that passing all the asserts you see does not guarantee that you have the correct answer! Make sure to double check and re-run your code to make sure it does what you expect, and that the variables you define end up with values you'd expect. \n",
    "\n",
    "Also note that some questions use a `%%writefile` line to help grade them. You don't have to do anything with these lines (you can basically ignore them), but just make sure you do not delete them! You must leave them in for your assignment to grade properly. "
   ]
  },
  {
   "cell_type": "markdown",
   "metadata": {
    "deletable": false,
    "editable": false,
    "nbgrader": {
     "checksum": "2fd992ceac1da4b516761915b00ee214",
     "grade": false,
     "grade_id": "cell-a11c701a459782ac",
     "locked": true,
     "schema_version": 1,
     "solution": false
    }
   },
   "source": [
    "## Part 1: Collection Types\n",
    "\n",
    "This part covers collection types: lists, tuples and dictionaries. "
   ]
  },
  {
   "cell_type": "markdown",
   "metadata": {
    "deletable": false,
    "editable": false,
    "nbgrader": {
     "checksum": "6b1a18b386595443d4070b66c3ed1738",
     "grade": false,
     "grade_id": "cell-c53af2db4923d356",
     "locked": true,
     "schema_version": 1,
     "solution": false
    }
   },
   "source": [
    "### Q1 - Lists (0.25 points)\n",
    "\n",
    "Below are the results of a hypothetical experiment of measuring the height of a class in a land far away:\n",
    "\n",
    "- Mario is 5.6 feet tall\n",
    "- Sarai is 5.4 feet tall\n",
    "- Demi is 6.2 feet tall\n",
    "- Ian is 5.8 feet tall\n",
    "- Dawn is 5.7 feet tall\n",
    "\n",
    "Create a list, called `class_names` and fill it with the names of each person in the class. \n",
    "\n",
    "Create another list, called `class_heights` and fill it with the heights of each person in the class. \n",
    "\n",
    "Remember that the order of lists matters, and so make sure to keep the order of items the same as listed above!"
   ]
  },
  {
   "cell_type": "code",
   "execution_count": null,
   "metadata": {
    "deletable": false,
    "nbgrader": {
     "checksum": "b5ee8a7d3fd526f06ef188d4d7371f9f",
     "grade": false,
     "grade_id": "cell-653ac226fd7e65c4",
     "locked": false,
     "schema_version": 1,
     "solution": true
    }
   },
   "outputs": [],
   "source": [
    "# YOUR CODE HERE\n",
    "raise NotImplementedError()"
   ]
  },
  {
   "cell_type": "code",
   "execution_count": null,
   "metadata": {
    "deletable": false,
    "editable": false,
    "nbgrader": {
     "checksum": "a2cc505d0e0de63bee8487246de5f1c3",
     "grade": true,
     "grade_id": "cell-7ed89774a93617f3",
     "locked": true,
     "points": 0.25,
     "schema_version": 1,
     "solution": false
    }
   },
   "outputs": [],
   "source": [
    "# Tests for Q1\n",
    "\n",
    "# Check both lists are defined\n",
    "assert isinstance(class_names, list)\n",
    "assert isinstance(class_heights, list)\n",
    "\n",
    "# Check both lists have the same length, and are of length 5\n",
    "assert len(class_names) == len(class_heights) == 5\n"
   ]
  },
  {
   "cell_type": "markdown",
   "metadata": {
    "deletable": false,
    "editable": false,
    "nbgrader": {
     "checksum": "b1bd1716906f10b1455a5b55803dfa06",
     "grade": false,
     "grade_id": "cell-3d40595d954cc6c6",
     "locked": true,
     "schema_version": 1,
     "solution": false
    }
   },
   "source": [
    "Now that we have the data stored in lists, we will explore other collection types. "
   ]
  },
  {
   "cell_type": "markdown",
   "metadata": {
    "deletable": false,
    "editable": false,
    "nbgrader": {
     "checksum": "4ac709e9724d7410fa1f0019a858dd5f",
     "grade": false,
     "grade_id": "cell-1a926ed978b6ea69",
     "locked": true,
     "schema_version": 1,
     "solution": false
    }
   },
   "source": [
    "### Q2 - Tuples (0.25 points)\n",
    "\n",
    "Create a tuple, that contains just the names of the people in the experiment. Call this tuple 'names_tuple'. "
   ]
  },
  {
   "cell_type": "code",
   "execution_count": null,
   "metadata": {
    "deletable": false,
    "nbgrader": {
     "checksum": "95056d9685e5ff805ffc0b08f959c14e",
     "grade": false,
     "grade_id": "cell-fb210f0469973e5a",
     "locked": false,
     "schema_version": 1,
     "solution": true
    }
   },
   "outputs": [],
   "source": [
    "# YOUR CODE HERE\n",
    "raise NotImplementedError()"
   ]
  },
  {
   "cell_type": "code",
   "execution_count": null,
   "metadata": {
    "deletable": false,
    "editable": false,
    "nbgrader": {
     "checksum": "a4ba4be6d9088b85744165a1d157d1b4",
     "grade": true,
     "grade_id": "cell-5969238aefebc1dd",
     "locked": true,
     "points": 0.25,
     "schema_version": 1,
     "solution": false
    }
   },
   "outputs": [],
   "source": [
    "assert isinstance(names_tuple, tuple)\n"
   ]
  },
  {
   "cell_type": "markdown",
   "metadata": {
    "deletable": false,
    "editable": false,
    "nbgrader": {
     "checksum": "08c277db99e3d8fdc916f6abb9554853",
     "grade": false,
     "grade_id": "cell-e98a1bc50367e340",
     "locked": true,
     "schema_version": 1,
     "solution": false
    }
   },
   "source": [
    "### Q3 - Dictionaries (0.25 points)\n",
    "\n",
    "Next, store the data into a dictionary, where each student's name is the key and their height is the value.\n",
    "\n",
    "Call this dictionary `results_dictionary`. "
   ]
  },
  {
   "cell_type": "code",
   "execution_count": null,
   "metadata": {
    "deletable": false,
    "nbgrader": {
     "checksum": "60a2ca6b4ef3375e173715fa51478acd",
     "grade": false,
     "grade_id": "cell-d1afd11046ada78c",
     "locked": false,
     "schema_version": 1,
     "solution": true
    }
   },
   "outputs": [],
   "source": [
    "# YOUR CODE HERE\n",
    "raise NotImplementedError()"
   ]
  },
  {
   "cell_type": "code",
   "execution_count": null,
   "metadata": {
    "deletable": false,
    "editable": false,
    "nbgrader": {
     "checksum": "81b2ae6eaf0f9c80e274717815489de3",
     "grade": true,
     "grade_id": "cell-a823da59fce8614b",
     "locked": true,
     "points": 0.25,
     "schema_version": 1,
     "solution": false
    }
   },
   "outputs": [],
   "source": [
    "assert isinstance(results_dictionary, dict)\n"
   ]
  },
  {
   "cell_type": "markdown",
   "metadata": {
    "deletable": false,
    "editable": false,
    "nbgrader": {
     "checksum": "38dd205bc13fb4edb2ad15d731554fce",
     "grade": false,
     "grade_id": "cell-0b5c5d936d63f444",
     "locked": true,
     "schema_version": 1,
     "solution": false
    }
   },
   "source": [
    "### Q4 - Lists of Lists (0.25 points)\n",
    "\n",
    "You can also make lists, that are filled with lists! List-ception. \n",
    "\n",
    "First, create three different lists:\n",
    "- A list called `string_list` that contains three strings (can be any strings)\n",
    "- A list called `number_list` that contains three numbers (can be any numbers - int or float)\n",
    "- A list called `boolean_list` that contains three boolean (can be any booleans)\n",
    "\n",
    "Then, create a new list, called `nested_list` which contains the three lists you created above. "
   ]
  },
  {
   "cell_type": "code",
   "execution_count": null,
   "metadata": {
    "deletable": false,
    "nbgrader": {
     "checksum": "0029582236e07166f8ffd190931519a3",
     "grade": false,
     "grade_id": "cell-49a40611dcdbbea0",
     "locked": false,
     "schema_version": 1,
     "solution": true
    }
   },
   "outputs": [],
   "source": [
    "# YOUR CODE HERE\n",
    "raise NotImplementedError()"
   ]
  },
  {
   "cell_type": "code",
   "execution_count": null,
   "metadata": {
    "deletable": false,
    "editable": false,
    "nbgrader": {
     "checksum": "e7c040bb9a2a063a03116642b03b449f",
     "grade": true,
     "grade_id": "cell-51ffc8b55e7f36fc",
     "locked": true,
     "points": 0.125,
     "schema_version": 1,
     "solution": false
    }
   },
   "outputs": [],
   "source": [
    "assert isinstance(string_list, list)\n",
    "assert len(string_list) == 3\n",
    "assert isinstance(string_list[0], str)\n",
    "\n",
    "assert isinstance(number_list, list)\n",
    "assert len(number_list) == 3\n",
    "assert isinstance(number_list[0], int) or isinstance(number_list[0], float)\n",
    "\n",
    "assert isinstance(boolean_list, list)\n",
    "assert len(boolean_list) == 3\n",
    "assert isinstance(boolean_list[0], bool)"
   ]
  },
  {
   "cell_type": "code",
   "execution_count": null,
   "metadata": {
    "deletable": false,
    "editable": false,
    "nbgrader": {
     "checksum": "d37a7addd06cdeb8610b880e624eae2d",
     "grade": true,
     "grade_id": "cell-04845071d9603b3d",
     "locked": true,
     "points": 0.125,
     "schema_version": 1,
     "solution": false
    }
   },
   "outputs": [],
   "source": [
    "assert isinstance(nested_list, list)\n",
    "assert len(nested_list) == 3\n",
    "assert isinstance(nested_list[0], list)"
   ]
  },
  {
   "cell_type": "markdown",
   "metadata": {
    "deletable": false,
    "editable": false,
    "nbgrader": {
     "checksum": "92300117ae75d0ec206a90aa8fc8e171",
     "grade": false,
     "grade_id": "cell-fea426585a5f88c8",
     "locked": true,
     "schema_version": 1,
     "solution": false
    }
   },
   "source": [
    "## Part 2: Working With Collections\n",
    "\n",
    "This part covers working with collections and indexing."
   ]
  },
  {
   "cell_type": "code",
   "execution_count": null,
   "metadata": {
    "deletable": false,
    "editable": false,
    "nbgrader": {
     "checksum": "538e490877bf8a2c472612ccf6df18ac",
     "grade": false,
     "grade_id": "cell-3793759b4aa62a90",
     "locked": true,
     "schema_version": 1,
     "solution": false
    }
   },
   "outputs": [],
   "source": [
    "# For Q5 & Q6, the following lists are provided for you\n",
    "list_1 = [10, 20, 40, 50]\n",
    "list_2 = [13, 15, 17, 19, 22, 25]\n",
    "list_3 = [1, 2, 3, 4, 5, 6, 7, 8, 9, 10, 11]\n",
    "list_4 = [21, 9, 98, 289, 938]"
   ]
  },
  {
   "cell_type": "markdown",
   "metadata": {
    "deletable": false,
    "editable": false,
    "nbgrader": {
     "checksum": "24f9d3753e1d38d30ccdcfb15ea7d1c2",
     "grade": false,
     "grade_id": "cell-e9aede81e57b6dfe",
     "locked": true,
     "schema_version": 1,
     "solution": false
    }
   },
   "source": [
    "### Q5 - Indexing (0.5 points)\n",
    "\n",
    "Do the following using indexing:\n",
    "- Store the first value in `list_1` to `index_1`\n",
    "- Store the last value in `list_2` to `index_2`\n",
    "- Store the first four values of `list_2` to `index_3`\n",
    "- Store the last four values of `list_3` to `index_4` "
   ]
  },
  {
   "cell_type": "code",
   "execution_count": null,
   "metadata": {
    "deletable": false,
    "nbgrader": {
     "checksum": "fd77c9e18b443390fee43cbcd6bccd19",
     "grade": false,
     "grade_id": "cell-650e61f820451347",
     "locked": false,
     "schema_version": 1,
     "solution": true
    }
   },
   "outputs": [],
   "source": [
    "# YOUR CODE HERE\n",
    "raise NotImplementedError()"
   ]
  },
  {
   "cell_type": "code",
   "execution_count": null,
   "metadata": {
    "deletable": false,
    "editable": false,
    "nbgrader": {
     "checksum": "978196c3d4b0e816f67c1a53dcc43e39",
     "grade": true,
     "grade_id": "cell-2468c24a17df0b96",
     "locked": true,
     "points": 0.125,
     "schema_version": 1,
     "solution": false
    }
   },
   "outputs": [],
   "source": [
    "assert isinstance(index_1, int)\n"
   ]
  },
  {
   "cell_type": "code",
   "execution_count": null,
   "metadata": {
    "deletable": false,
    "editable": false,
    "nbgrader": {
     "checksum": "aaaa20059fe9cf408c11c371373eabb7",
     "grade": true,
     "grade_id": "cell-d2488aa0f0a84e65",
     "locked": true,
     "points": 0.125,
     "schema_version": 1,
     "solution": false
    }
   },
   "outputs": [],
   "source": [
    "assert isinstance(index_2, int)\n"
   ]
  },
  {
   "cell_type": "code",
   "execution_count": null,
   "metadata": {
    "deletable": false,
    "editable": false,
    "nbgrader": {
     "checksum": "9da8835ffae4c6d36147731e17898946",
     "grade": true,
     "grade_id": "cell-3ae0d083dd79537d",
     "locked": true,
     "points": 0.125,
     "schema_version": 1,
     "solution": false
    }
   },
   "outputs": [],
   "source": [
    "assert isinstance(index_3, list)\n",
    "assert len(index_3) == 4\n"
   ]
  },
  {
   "cell_type": "code",
   "execution_count": null,
   "metadata": {
    "deletable": false,
    "editable": false,
    "nbgrader": {
     "checksum": "e2fb8b475c8bc2ccea35acc96bd52788",
     "grade": true,
     "grade_id": "cell-f591dd9f036b0ffe",
     "locked": true,
     "points": 0.125,
     "schema_version": 1,
     "solution": false
    }
   },
   "outputs": [],
   "source": [
    "assert isinstance(index_4, list)\n",
    "assert len(index_4) == 4\n"
   ]
  },
  {
   "cell_type": "markdown",
   "metadata": {
    "deletable": false,
    "editable": false,
    "nbgrader": {
     "checksum": "2b9f9b167765f9802c5254d8274238b4",
     "grade": false,
     "grade_id": "cell-c8d61ad2ee7afecd",
     "locked": true,
     "schema_version": 1,
     "solution": false
    }
   },
   "source": [
    "### Q6 - Comparisons using Indexing (0.5 points)\n",
    "\n",
    "Do the following comparisons using indexing:\n",
    "- Check if the first value of `list_1` is one of the last three values in `list_3` (Hint: remember operator 'in')\n",
    "    - Store the result in `comp_result_1`\n",
    "    \n",
    "    \n",
    "- Check if the third value of `list_4` is greater than the fourth value in `list_4`\n",
    "    - Store the result in `comp_result_2`\n",
    "    \n",
    "    \n",
    "- Check if the last value of `list_4` is less than the second value in `list_4`\n",
    "    - Store the result in `comp_result_3`\n",
    "    \n",
    "    \n",
    "- Check if the second value of `list_2` multiplied by the seventh value of `list_3` is greater than the second to last value in `list_4`\n",
    "    - Store the result in `comp_result_4`\n",
    "    \n",
    "Keep in mind that you are storing the result of a comparison to a variable, so resulting variables should all be booleans. "
   ]
  },
  {
   "cell_type": "code",
   "execution_count": null,
   "metadata": {
    "deletable": false,
    "nbgrader": {
     "checksum": "890fcf70cc9ce4598869c78f6a7d3d2c",
     "grade": false,
     "grade_id": "cell-58d83066fbe5dfa8",
     "locked": false,
     "schema_version": 1,
     "solution": true
    }
   },
   "outputs": [],
   "source": [
    "# YOUR CODE HERE\n",
    "raise NotImplementedError()"
   ]
  },
  {
   "cell_type": "code",
   "execution_count": null,
   "metadata": {
    "deletable": false,
    "editable": false,
    "nbgrader": {
     "checksum": "c8b2398b1419a3e78dfe46dd8b1616c4",
     "grade": true,
     "grade_id": "cell-2209a4edc72a8364",
     "locked": true,
     "points": 0.125,
     "schema_version": 1,
     "solution": false
    }
   },
   "outputs": [],
   "source": [
    "assert isinstance(comp_result_1, bool)\n"
   ]
  },
  {
   "cell_type": "code",
   "execution_count": null,
   "metadata": {
    "deletable": false,
    "editable": false,
    "nbgrader": {
     "checksum": "b826361ceb49f846d30f34c8bcd1441f",
     "grade": true,
     "grade_id": "cell-6353d9279a80e98f",
     "locked": true,
     "points": 0.125,
     "schema_version": 1,
     "solution": false
    }
   },
   "outputs": [],
   "source": [
    "assert isinstance(comp_result_2, bool)\n"
   ]
  },
  {
   "cell_type": "code",
   "execution_count": null,
   "metadata": {
    "deletable": false,
    "editable": false,
    "nbgrader": {
     "checksum": "9789b583d89d4d1e08a3eba0b7cfd62d",
     "grade": true,
     "grade_id": "cell-d75011cb18874b17",
     "locked": true,
     "points": 0.125,
     "schema_version": 1,
     "solution": false
    }
   },
   "outputs": [],
   "source": [
    "assert isinstance(comp_result_3, bool)\n"
   ]
  },
  {
   "cell_type": "code",
   "execution_count": null,
   "metadata": {
    "deletable": false,
    "editable": false,
    "nbgrader": {
     "checksum": "fa7179fe24f0b91396fc5999c911a43a",
     "grade": true,
     "grade_id": "cell-244b969301ac73e8",
     "locked": true,
     "points": 0.125,
     "schema_version": 1,
     "solution": false
    }
   },
   "outputs": [],
   "source": [
    "assert isinstance(comp_result_4, bool)\n"
   ]
  },
  {
   "cell_type": "markdown",
   "metadata": {
    "deletable": false,
    "editable": false,
    "nbgrader": {
     "checksum": "4eb5836d883be2371e8a738f305242bb",
     "grade": false,
     "grade_id": "cell-67c76df06249fd85",
     "locked": true,
     "schema_version": 1,
     "solution": false
    }
   },
   "source": [
    "## Part 3: Loops\n",
    "\n",
    "This part covers using loops. "
   ]
  },
  {
   "cell_type": "markdown",
   "metadata": {
    "deletable": false,
    "editable": false,
    "nbgrader": {
     "checksum": "e98b8155b875bc013aad13c85d4eee34",
     "grade": false,
     "grade_id": "cell-d1c02544b309c059",
     "locked": true,
     "schema_version": 1,
     "solution": false
    }
   },
   "source": [
    "### Q7 - Loop Questions (0.5 points)\n",
    "\n",
    "For each of the scenarios below, indicate whether it is a procedure best done with a for loop, a while loop, or if the task is not something best done with a loop. \n",
    "\n",
    "For each question, answer by setting a string to requested variable name, that stores one of 'for', 'while' or 'not_a_loop' to indicate your answer.\n",
    "\n",
    "- a) You want to apply a transform to every piece of data in a list. \n",
    "    - Answer in a variable called `loop_q_a`\n",
    "- b) You want to continuously update the position of a character displayed on a screen, as long as the status of the character is 'alive'.\n",
    "    - Answer in a variable called `loop_q_b`\n",
    "- c) You want to check three different value comparisons are all true together, each checking a different variable.\n",
    "    - Answer in a variable called `loop_q_c`\n",
    "- d) You want your computer to connect to an external network. As long as your connection status is False, you want to try and re-connect. \n",
    "    - Answer in a variable called `loop_q_d`"
   ]
  },
  {
   "cell_type": "code",
   "execution_count": null,
   "metadata": {
    "deletable": false,
    "nbgrader": {
     "checksum": "c4f230e67146d4b90ef03c43dffbdac2",
     "grade": false,
     "grade_id": "cell-eb8a52c2ab3e909b",
     "locked": false,
     "schema_version": 1,
     "solution": true
    }
   },
   "outputs": [],
   "source": [
    "# YOUR CODE HERE\n",
    "raise NotImplementedError()"
   ]
  },
  {
   "cell_type": "code",
   "execution_count": null,
   "metadata": {
    "deletable": false,
    "editable": false,
    "nbgrader": {
     "checksum": "6f83cd29f4f6d52cf3816cdf9665d4b4",
     "grade": true,
     "grade_id": "cell-78ffc841fc725614",
     "locked": true,
     "points": 0.125,
     "schema_version": 1,
     "solution": false
    }
   },
   "outputs": [],
   "source": [
    "assert loop_q_a in ['for', 'while', 'not_a_loop']\n"
   ]
  },
  {
   "cell_type": "code",
   "execution_count": null,
   "metadata": {
    "deletable": false,
    "editable": false,
    "nbgrader": {
     "checksum": "23e7d406bf836300cd74dc202b2242c3",
     "grade": true,
     "grade_id": "cell-b4743cbf55530c66",
     "locked": true,
     "points": 0.125,
     "schema_version": 1,
     "solution": false
    }
   },
   "outputs": [],
   "source": [
    "assert loop_q_b in ['for', 'while', 'not_a_loop']\n"
   ]
  },
  {
   "cell_type": "code",
   "execution_count": null,
   "metadata": {
    "deletable": false,
    "editable": false,
    "nbgrader": {
     "checksum": "dc74cc4760dd255aad077f63fbcaecbe",
     "grade": true,
     "grade_id": "cell-474f765b4c8b51bb",
     "locked": true,
     "points": 0.125,
     "schema_version": 1,
     "solution": false
    }
   },
   "outputs": [],
   "source": [
    "assert loop_q_c in ['for', 'while', 'not_a_loop']\n"
   ]
  },
  {
   "cell_type": "code",
   "execution_count": null,
   "metadata": {
    "deletable": false,
    "editable": false,
    "nbgrader": {
     "checksum": "0d1d4b55166fce77b5511b601f1da969",
     "grade": true,
     "grade_id": "cell-3f8ff16491f2e035",
     "locked": true,
     "points": 0.125,
     "schema_version": 1,
     "solution": false
    }
   },
   "outputs": [],
   "source": [
    "assert loop_q_d in ['for', 'while', 'not_a_loop']\n"
   ]
  },
  {
   "cell_type": "markdown",
   "metadata": {
    "deletable": false,
    "editable": false,
    "nbgrader": {
     "checksum": "3c245ec566a0df01a767b660950a9f70",
     "grade": false,
     "grade_id": "cell-6787a1cddd91c8e2",
     "locked": true,
     "schema_version": 1,
     "solution": false
    }
   },
   "source": [
    "### Q8 - For Loop (0.5 points)\n",
    "\n",
    "What is the sum of all even numbers between 19 and 35?\n",
    "\n",
    "Answer this question using a for loop, and using `range`. \n",
    "\n",
    "Save the result out to a variable called `sum_result`. "
   ]
  },
  {
   "cell_type": "code",
   "execution_count": null,
   "metadata": {
    "deletable": false,
    "nbgrader": {
     "checksum": "764c6ef553269c9a88f612fc0dd9ebe1",
     "grade": false,
     "grade_id": "cell-749ae260cbdc082d",
     "locked": false,
     "schema_version": 1,
     "solution": true
    }
   },
   "outputs": [],
   "source": [
    "# YOUR CODE HERE\n",
    "raise NotImplementedError()"
   ]
  },
  {
   "cell_type": "code",
   "execution_count": null,
   "metadata": {
    "deletable": false,
    "editable": false,
    "nbgrader": {
     "checksum": "40fc535c3fcdd09428070e2c355cf43b",
     "grade": true,
     "grade_id": "cell-6b415de65a9332be",
     "locked": true,
     "points": 0.5,
     "schema_version": 1,
     "solution": false
    }
   },
   "outputs": [],
   "source": [
    "assert isinstance(sum_result, int)\n"
   ]
  },
  {
   "cell_type": "markdown",
   "metadata": {
    "deletable": false,
    "editable": false,
    "nbgrader": {
     "checksum": "1e048c56f7e1d827fbf3c65d9b2068d4",
     "grade": false,
     "grade_id": "cell-c300db24a54d4a1c",
     "locked": true,
     "schema_version": 1,
     "solution": false
    }
   },
   "source": [
    "### Q9 - While Loop (0.5 points)\n",
    "\n",
    "Write a while loop that adds the first 100 numbers (from 1 to 100) together.\n",
    "\n",
    "To do so, use a while loop that continues while the condition of `cur_num` being less than or equal to `stop_num` is `True`. \n",
    "\n",
    "Inside the loop, it should add `cur_num` to the running `total` variable, and also add 1 to `cur_num`. \n",
    "\n",
    "Make sure to check at the end that the value of `total` reflects the total summation. "
   ]
  },
  {
   "cell_type": "code",
   "execution_count": null,
   "metadata": {
    "deletable": false,
    "nbgrader": {
     "checksum": "462c51aa3140337a4814d67a5b563d16",
     "grade": false,
     "grade_id": "cell-fdabc8d0323473dd",
     "locked": false,
     "schema_version": 1,
     "solution": true
    }
   },
   "outputs": [],
   "source": [
    "# These variables provided for you - use them in your solution\n",
    "total = 0\n",
    "cur_num = 1\n",
    "stop_num = 100\n",
    "\n",
    "# YOUR CODE HERE\n",
    "raise NotImplementedError()"
   ]
  },
  {
   "cell_type": "code",
   "execution_count": null,
   "metadata": {
    "deletable": false,
    "editable": false,
    "nbgrader": {
     "checksum": "774f11291fef7affeda290b7dec20c02",
     "grade": true,
     "grade_id": "cell-f6513546d3afb423",
     "locked": true,
     "points": 0.5,
     "schema_version": 1,
     "solution": false
    }
   },
   "outputs": [],
   "source": [
    "assert isinstance(cur_num, int)\n",
    "assert isinstance(total, int)\n",
    "\n",
    "# This will check that the `cur_num` increment variable ended at the right value\n",
    "assert cur_num == 101\n"
   ]
  },
  {
   "cell_type": "markdown",
   "metadata": {
    "deletable": false,
    "editable": false,
    "nbgrader": {
     "checksum": "946d10100b583c7c62dbe16da92e3b0b",
     "grade": false,
     "grade_id": "cell-725bfa3cd3b18281",
     "locked": true,
     "schema_version": 1,
     "solution": false
    }
   },
   "source": [
    "### Example: Append\n",
    "\n",
    "In the following examples we will need to use an operation to add something to a list. Some examples for doing so are provided. \n",
    "\n",
    "Given a list, `my_list` to add an item `my_item` to the end of the list, you can do `my_list.append(my_item)`. "
   ]
  },
  {
   "cell_type": "code",
   "execution_count": null,
   "metadata": {
    "deletable": false,
    "editable": false,
    "nbgrader": {
     "checksum": "299a76432a03ac71eab8b84739e77376",
     "grade": false,
     "grade_id": "cell-ed0ba20eb0e3b5a2",
     "locked": true,
     "schema_version": 1,
     "solution": false
    }
   },
   "outputs": [],
   "source": [
    "# Example of appending to a list\n",
    "my_list = ['a', 12, None]\n",
    "\n",
    "print('Before Append: ', my_list)\n",
    "\n",
    "my_list.append(True)\n",
    "\n",
    "print('After  Append: ', my_list)"
   ]
  },
  {
   "cell_type": "code",
   "execution_count": null,
   "metadata": {
    "deletable": false,
    "editable": false,
    "nbgrader": {
     "checksum": "d449c0124cb0f3010ee18fc30e7ae974",
     "grade": false,
     "grade_id": "cell-7f4539e95e27279e",
     "locked": true,
     "schema_version": 1,
     "solution": false
    }
   },
   "outputs": [],
   "source": [
    "# Example of using append with loops\n",
    "list_of_values = [0, 1, 2, 3]\n",
    "\n",
    "# Initialize an empty list that will be used to store outputs\n",
    "outputs = []\n",
    "\n",
    "# Loop through all items in `list_of_items`\n",
    "for item in list_of_values:\n",
    "    \n",
    "    # Add incremented item to the list of outputs\n",
    "    outputs.append(item + 1)\n",
    "\n",
    "# Check what outputs ends up as\n",
    "print(outputs)"
   ]
  },
  {
   "cell_type": "markdown",
   "metadata": {
    "deletable": false,
    "editable": false,
    "nbgrader": {
     "checksum": "9a1918189c3b94b8f8e204e70ee14376",
     "grade": false,
     "grade_id": "cell-2cc1336ae40f8b46",
     "locked": true,
     "schema_version": 1,
     "solution": false
    }
   },
   "source": [
    "### Q10 - Loops: Multiplication (0.5 points)\n",
    "\n",
    "Using the provided variable `num_list`, write a for loop to loop across each value, multiplying it by -1. \n",
    "\n",
    "Store the result for each value, in a list called `eval_1`, by defining `eval_1` before the loop, and using `append` inside the loop. "
   ]
  },
  {
   "cell_type": "code",
   "execution_count": null,
   "metadata": {
    "deletable": false,
    "editable": false,
    "nbgrader": {
     "checksum": "7ad18930b0a829df33acaf6ab89cbcd4",
     "grade": false,
     "grade_id": "cell-641140b560032dba",
     "locked": true,
     "schema_version": 1,
     "solution": false
    }
   },
   "outputs": [],
   "source": [
    "# This creates a list of all numbers from 1-12, inclusive\n",
    "num_list = list(range(1, 13))"
   ]
  },
  {
   "cell_type": "code",
   "execution_count": null,
   "metadata": {
    "deletable": false,
    "nbgrader": {
     "checksum": "b7d4abf9da0d0760f3d622ef8011bfe3",
     "grade": false,
     "grade_id": "cell-c3c8595879347f24",
     "locked": false,
     "schema_version": 1,
     "solution": true
    }
   },
   "outputs": [],
   "source": [
    "# YOUR CODE HERE\n",
    "raise NotImplementedError()"
   ]
  },
  {
   "cell_type": "code",
   "execution_count": null,
   "metadata": {
    "deletable": false,
    "editable": false,
    "nbgrader": {
     "checksum": "b477eb2a67445ece6d39bd94e4adabc9",
     "grade": true,
     "grade_id": "cell-09e1d8d99d175d45",
     "locked": true,
     "points": 0.5,
     "schema_version": 1,
     "solution": false
    }
   },
   "outputs": [],
   "source": [
    "assert isinstance(eval_1, list)\n",
    "assert isinstance(eval_1[0], int)\n"
   ]
  },
  {
   "cell_type": "markdown",
   "metadata": {
    "deletable": false,
    "editable": false,
    "nbgrader": {
     "checksum": "2ea844217e12d01468418f8e89737d0a",
     "grade": false,
     "grade_id": "cell-2e620f0d0d3c43bb",
     "locked": true,
     "schema_version": 1,
     "solution": false
    }
   },
   "source": [
    "## Part 4: Combining Loops & Conditionals\n",
    "\n",
    "This part covers integrating collections and loops with conditional and operators. "
   ]
  },
  {
   "cell_type": "code",
   "execution_count": null,
   "metadata": {
    "deletable": false,
    "editable": false,
    "nbgrader": {
     "checksum": "b5e106b3fdf48f226f016d8f62d5d81d",
     "grade": false,
     "grade_id": "cell-6ac768f5a66199a4",
     "locked": true,
     "schema_version": 1,
     "solution": false
    }
   },
   "outputs": [],
   "source": [
    "# This list provided to use for the following questions\n",
    "data_list = [-1, 20, -100, -40, 33, 97, -101, 45, -79, 96]"
   ]
  },
  {
   "cell_type": "markdown",
   "metadata": {
    "deletable": false,
    "editable": false,
    "nbgrader": {
     "checksum": "6e584a1dddccfadc958f034f00f7a5d8",
     "grade": false,
     "grade_id": "cell-eb367ec505b710ab",
     "locked": true,
     "schema_version": 1,
     "solution": false
    }
   },
   "source": [
    "### Q11 - Loops: Division (0.5 points)\n",
    "\n",
    "Write some code that uses a loop to find all the values from `data_list` that are perfectly divisible by 3. \n",
    "\n",
    "Use a for loop with a conditional to do this, and save any values from `data_list` that meet this condition into a new list called `div_3`. "
   ]
  },
  {
   "cell_type": "code",
   "execution_count": null,
   "metadata": {
    "deletable": false,
    "nbgrader": {
     "checksum": "202e703e47664533129cb7debd2ac083",
     "grade": false,
     "grade_id": "cell-b3adf3ba9e29eb9f",
     "locked": false,
     "schema_version": 1,
     "solution": true
    }
   },
   "outputs": [],
   "source": [
    "# YOUR CODE HERE\n",
    "raise NotImplementedError()"
   ]
  },
  {
   "cell_type": "code",
   "execution_count": null,
   "metadata": {
    "deletable": false,
    "editable": false,
    "nbgrader": {
     "checksum": "b61d2869020116b6398698308361c2d7",
     "grade": true,
     "grade_id": "cell-bb9b4796b7db8253",
     "locked": true,
     "points": 0.5,
     "schema_version": 1,
     "solution": false
    }
   },
   "outputs": [],
   "source": [
    "assert isinstance(div_3, list)\n",
    "assert(len(div_3) == 3)\n"
   ]
  },
  {
   "cell_type": "markdown",
   "metadata": {
    "deletable": false,
    "editable": false,
    "nbgrader": {
     "checksum": "6ba66f6926255bd232427fe1cbf34fdf",
     "grade": false,
     "grade_id": "cell-73a2d63f3ccd671f",
     "locked": true,
     "schema_version": 1,
     "solution": false
    }
   },
   "source": [
    "### Q12 - Loops: Odd or Even (0.5 points)\n",
    "\n",
    "Write a for loop that is going to check whether the values in `data_list` are even or odd. \n",
    "\n",
    "Use a for loop with a conditional to do this. \n",
    "\n",
    "For each value, it should add `True` to a new list `is_even` if the value is even, and `False` to `is_even` if the value is odd. "
   ]
  },
  {
   "cell_type": "code",
   "execution_count": null,
   "metadata": {
    "deletable": false,
    "nbgrader": {
     "checksum": "41ef55d5db8f8c834abe91a71110e86c",
     "grade": false,
     "grade_id": "cell-af4c9eabb79396f1",
     "locked": false,
     "schema_version": 1,
     "solution": true
    }
   },
   "outputs": [],
   "source": [
    "# YOUR CODE HERE\n",
    "raise NotImplementedError()"
   ]
  },
  {
   "cell_type": "code",
   "execution_count": null,
   "metadata": {
    "deletable": false,
    "editable": false,
    "nbgrader": {
     "checksum": "98fde2c142ea99f0323ae81238e4b03e",
     "grade": true,
     "grade_id": "cell-3b8896dd294ccc5a",
     "locked": true,
     "points": 0.5,
     "schema_version": 1,
     "solution": false
    }
   },
   "outputs": [],
   "source": [
    "assert isinstance(is_even, list)\n",
    "assert(len(is_even) == len(data_list))\n"
   ]
  },
  {
   "cell_type": "markdown",
   "metadata": {
    "deletable": false,
    "editable": false,
    "nbgrader": {
     "checksum": "587293382d1c43f4ae74996f0059f560",
     "grade": false,
     "grade_id": "cell-a7a142ffaa3fd919",
     "locked": true,
     "schema_version": 1,
     "solution": false
    }
   },
   "source": [
    "### Q13 - Loops: Multiple Conditions (0.5 points)\n",
    "\n",
    "Write a for loop that will check each value in `data_list` to see if they are even or odd and whether they are positive or negative.\n",
    "- If they are both positive and even, encode this as the number 1\n",
    "- If they are both negative and odd, encode this as the number -1\n",
    "- Otherwise, encode this as the number 0\n",
    "\n",
    "- Store the result for each value into a list called `num_type`"
   ]
  },
  {
   "cell_type": "code",
   "execution_count": null,
   "metadata": {
    "deletable": false,
    "nbgrader": {
     "checksum": "442268afa769ca100d8f5b073c088445",
     "grade": false,
     "grade_id": "cell-c55e1457c131cb10",
     "locked": false,
     "schema_version": 1,
     "solution": true
    }
   },
   "outputs": [],
   "source": [
    "# YOUR CODE HERE\n",
    "raise NotImplementedError()"
   ]
  },
  {
   "cell_type": "code",
   "execution_count": null,
   "metadata": {
    "deletable": false,
    "editable": false,
    "nbgrader": {
     "checksum": "557ad66835bd22bb5dd02b25aeb027e3",
     "grade": true,
     "grade_id": "cell-552f3b912ed4e050",
     "locked": true,
     "points": 0.5,
     "schema_version": 1,
     "solution": false
    }
   },
   "outputs": [],
   "source": [
    "assert isinstance(num_type, list)\n",
    "assert(len(num_type) == len(data_list))\n"
   ]
  },
  {
   "cell_type": "markdown",
   "metadata": {
    "deletable": false,
    "editable": false,
    "nbgrader": {
     "checksum": "bea01705a703b7f0cace1f2ca0f7e3d4",
     "grade": false,
     "grade_id": "cell-a3a7547d21a6280e",
     "locked": true,
     "schema_version": 1,
     "solution": false
    }
   },
   "source": [
    "### Example: Looping through Dictionaries"
   ]
  },
  {
   "cell_type": "code",
   "execution_count": null,
   "metadata": {
    "deletable": false,
    "editable": false,
    "nbgrader": {
     "checksum": "398b241563418675fa33a60e4b439fc0",
     "grade": false,
     "grade_id": "cell-bd6757d215cb7de1",
     "locked": true,
     "schema_version": 1,
     "solution": false
    }
   },
   "outputs": [],
   "source": [
    "# This example of looping through dictionaries provided\n",
    "dictionary = {\n",
    "    'key1' : 'value1', \n",
    "    'key2' : 'value2'\n",
    "}\n",
    "\n",
    "for item in dictionary:\n",
    "    \n",
    "    # When you loop through a dictionary like this, `item` is the key \n",
    "    key = item\n",
    "    \n",
    "    # Using the key, you can access the associated value of the dictionary from within the loop\n",
    "    value = dictionary[item]\n",
    "    \n",
    "    # Print out data for each loop iteration\n",
    "    print('New Loop Iteration')\n",
    "    print('\\tKey is:\\t', item)\n",
    "    print('\\tVal is:\\t', value)"
   ]
  },
  {
   "cell_type": "markdown",
   "metadata": {
    "deletable": false,
    "editable": false,
    "nbgrader": {
     "checksum": "f44def260ec6efb5284deac13053dbbc",
     "grade": false,
     "grade_id": "cell-1694dc598d6bbca5",
     "locked": true,
     "schema_version": 1,
     "solution": false
    }
   },
   "source": [
    "### Q14 - Loops: Dictionaries (0.5 points)\n",
    "\n",
    "Using the `subjects` dictionary, write a for loop that loops across the dictionary and collects all subject numbers (ex. 'S2') where the dictionary value is False. \n",
    "\n",
    "Imagine, for example, the dictionary indicates whether processing is complete, and we wanted to get a list of the subjects that need more analyses. \n",
    "\n",
    "To answer this question, use a for loop across the `subjects` dictionary. You then need to get the associated value in each iteration, and check if it is `True`. If it is `True`, you can use `continue` to skip ahead to the next iteration. Otherwise, append the subject number (ex 'S2') to a list called `not_finished`. "
   ]
  },
  {
   "cell_type": "code",
   "execution_count": null,
   "metadata": {
    "deletable": false,
    "editable": false,
    "nbgrader": {
     "checksum": "b4147954e75c764e4063bb3af76af1b1",
     "grade": false,
     "grade_id": "cell-5bf21a3d8e202cdd",
     "locked": true,
     "schema_version": 1,
     "solution": false
    }
   },
   "outputs": [],
   "source": [
    "# This dictionary provided for you\n",
    "subjects = {\n",
    "    'S1' : True,\n",
    "    'S2' : False,\n",
    "    'S3' : True,\n",
    "    'S4' : False,\n",
    "}"
   ]
  },
  {
   "cell_type": "code",
   "execution_count": null,
   "metadata": {
    "deletable": false,
    "nbgrader": {
     "checksum": "096c62755cea3b6b6fd6b2d5913c72cd",
     "grade": false,
     "grade_id": "cell-1118d6a4ac43e87d",
     "locked": false,
     "schema_version": 1,
     "solution": true
    }
   },
   "outputs": [],
   "source": [
    "# YOUR CODE HERE\n",
    "raise NotImplementedError()"
   ]
  },
  {
   "cell_type": "code",
   "execution_count": null,
   "metadata": {
    "deletable": false,
    "editable": false,
    "nbgrader": {
     "checksum": "80fcdc94af8d9f9f586b35ea51f9f2c5",
     "grade": true,
     "grade_id": "cell-36d719f579df1fe3",
     "locked": true,
     "points": 0.5,
     "schema_version": 1,
     "solution": false
    }
   },
   "outputs": [],
   "source": [
    "assert isinstance(not_finished, list)\n",
    "assert len(not_finished) == 2\n"
   ]
  },
  {
   "cell_type": "markdown",
   "metadata": {
    "deletable": false,
    "editable": false,
    "nbgrader": {
     "checksum": "3ca2a39584b934eb3ff38b59c3fa1762",
     "grade": false,
     "grade_id": "cell-ad7046936e9e00e4",
     "locked": true,
     "schema_version": 1,
     "solution": false
    }
   },
   "source": [
    "## Part 5:  Ciphers\n",
    "\n",
    "This part is an application of all the tools we have covered so far, to the problem of creating and using ciphers. \n",
    "\n",
    "A cipher is procedure for encoding and decoding secret messages (or encrypted data). \n",
    "\n",
    "To work on this application, we are going to need to use loops and collections. \n",
    "\n",
    "It also uses concepts and ideas from encoding and decoding - and in particular the operators `ord` and `chr`. "
   ]
  },
  {
   "cell_type": "code",
   "execution_count": null,
   "metadata": {
    "deletable": false,
    "editable": false,
    "nbgrader": {
     "checksum": "84ffedbce4d116453c1c8ff5fee48f13",
     "grade": false,
     "grade_id": "cell-53b9584b1a10f99d",
     "locked": true,
     "schema_version": 1,
     "solution": false
    }
   },
   "outputs": [],
   "source": [
    "# Setup - run this cell before doing the next part of the assignment\n",
    "import os\n",
    "if not os.path.exists('A2Code'):\n",
    "    os.mkdir('A2Code')"
   ]
  },
  {
   "cell_type": "code",
   "execution_count": null,
   "metadata": {
    "deletable": false,
    "editable": false,
    "nbgrader": {
     "checksum": "fb424a6a8730a8778a12f752f5020f85",
     "grade": false,
     "grade_id": "cell-68ddb79404b001e6",
     "locked": true,
     "schema_version": 1,
     "solution": false
    }
   },
   "outputs": [],
   "source": [
    "# Example / outline of writing a cipher\n",
    "#   The following shows a layout of writing a cipher.\n",
    "#   You will be writing code to actually do the encoding / decoding.\n",
    "\n",
    "# Create a message\n",
    "original_message = 'Hello from Tom.'\n",
    "print('Original Message:\\t', original_message)\n",
    "\n",
    "# First, Apply Encoding Code, to convert to an encoded message\n",
    "encoded = 'ĐĭĴĴķèĮĺķĵèĜķĵö'\n",
    "print('Encoded Message:\\t', encoded)\n",
    "\n",
    "# Then, Apply Decoding Code, to decode into an interpretable message\n",
    "decoded = 'Hello from Tom.'\n",
    "print('Decoded Message:\\t', decoded)"
   ]
  },
  {
   "cell_type": "markdown",
   "metadata": {
    "deletable": false,
    "editable": false,
    "nbgrader": {
     "checksum": "ccec37f21c8a6dcccf6bd5bf4213567e",
     "grade": false,
     "grade_id": "cell-ab7b89763863cab9",
     "locked": true,
     "schema_version": 1,
     "solution": false
    }
   },
   "source": [
    "### Q15 - Creating an Encoder (0.5 points)\n",
    "\n",
    "Write a code block to encode strings into a secret message.\n",
    "\n",
    "Your code will presume a number, stored in `key`, and a message to encode, as a string variable called `message`. Don't define these variables in your code - they will be defined when you run the tests.\n",
    "\n",
    "To do so:\n",
    "- Initialize a variable called `encoded` as an empty string\n",
    "- Use a for loop to loop across all characters of a string variable `message`\n",
    "    - Inside the loop, convert the character to another character:\n",
    "        - Get the unicode code point for the character (using `ord`)\n",
    "        - Add the value of `key` to that code point (which should be an int)\n",
    "        - Convert this new int back to a character (using `chr`).\n",
    "    - Also inside the loop, add this converted char to the string `encoded`"
   ]
  },
  {
   "cell_type": "code",
   "execution_count": null,
   "metadata": {
    "deletable": false,
    "nbgrader": {
     "checksum": "24c3bc66d9dc5e247c5956273fc1c1de",
     "grade": false,
     "grade_id": "cell-d77bc7ed64441ebc",
     "locked": false,
     "schema_version": 1,
     "solution": true
    }
   },
   "outputs": [],
   "source": [
    "%%writefile A2Code/encoder.py\n",
    "\n",
    "# YOUR CODE HERE\n",
    "raise NotImplementedError()"
   ]
  },
  {
   "cell_type": "code",
   "execution_count": null,
   "metadata": {
    "deletable": false,
    "editable": false,
    "nbgrader": {
     "checksum": "1f9debc94d9d745a05cba289c478acf0",
     "grade": true,
     "grade_id": "cell-8dbc526034a66ab8",
     "locked": true,
     "points": 0.5,
     "schema_version": 1,
     "solution": false
    }
   },
   "outputs": [],
   "source": [
    "key = 200\n",
    "message = 'hello'\n",
    "\n",
    "%run -i ./A2Code/encoder.py  \n",
    "\n",
    "assert isinstance(encoded, str)\n",
    "assert encoded == 'İĭĴĴķ'\n",
    "\n",
    "print('Original Message: \\t', message)\n",
    "print('Encoded Message: \\t', encoded)"
   ]
  },
  {
   "cell_type": "markdown",
   "metadata": {
    "deletable": false,
    "editable": false,
    "nbgrader": {
     "checksum": "fcda0346edec88d6fc94081964766cf8",
     "grade": false,
     "grade_id": "cell-be1de673d67eba1e",
     "locked": true,
     "schema_version": 1,
     "solution": false
    }
   },
   "source": [
    "### Q16 - Decoder (0.5 points)\n",
    "\n",
    "Write a code block to decode strings from secret encodings back to readable messages.\n",
    "\n",
    "To do so:\n",
    "- Initialize a variable called `decoded` as an empty string\n",
    "- Use a for loop to loop across all characters of a presumed string variable called `encoded`\n",
    "    - Inside the loop, convert the character to another character:\n",
    "        - Get the unicode code point for the character (using `ord`)\n",
    "        - Subtract the value of `key` to that code point (which should be an int)\n",
    "            - This undoes the secret encoding of the character, getting back to the original value\n",
    "        - Convert this new int back to a character (using `chr`).\n",
    "    - Also inside the loop, add this converted char to the string `decoded`\n",
    "    \n",
    "Note that the code to answer this question should look very similar to how you answered the encoding question. \n",
    "\n",
    "In fact, you can even copy over the encoding code, and make some small changes to make it function as a decoder. "
   ]
  },
  {
   "cell_type": "code",
   "execution_count": null,
   "metadata": {
    "deletable": false,
    "nbgrader": {
     "checksum": "4a534009f9be1387110f07410e185633",
     "grade": false,
     "grade_id": "cell-b629dac4beccd5f1",
     "locked": false,
     "schema_version": 1,
     "solution": true
    }
   },
   "outputs": [],
   "source": [
    "%%writefile A2Code/decoder.py\n",
    "\n",
    "# YOUR CODE HERE\n",
    "raise NotImplementedError()"
   ]
  },
  {
   "cell_type": "code",
   "execution_count": null,
   "metadata": {
    "deletable": false,
    "editable": false,
    "nbgrader": {
     "checksum": "86f5ef43c4e35e7472da36694c3841bc",
     "grade": true,
     "grade_id": "cell-ddf1c25663771ad8",
     "locked": true,
     "points": 0.5,
     "schema_version": 1,
     "solution": false
    }
   },
   "outputs": [],
   "source": [
    "key = 200\n",
    "encoded = 'İĭĴĴķ'\n",
    "\n",
    "%run -i ./A2Code/decoder.py  \n",
    "\n",
    "assert isinstance(decoded, str)\n",
    "assert decoded == 'hello'\n",
    "\n",
    "print('Encoded Message: \\t', encoded)\n",
    "print('Decoded Message: \\t', decoded)"
   ]
  },
  {
   "cell_type": "markdown",
   "metadata": {
    "deletable": false,
    "editable": false,
    "nbgrader": {
     "checksum": "7f0e99a6d08ee7749e432e306229720f",
     "grade": false,
     "grade_id": "cell-49c1def4bac243df",
     "locked": true,
     "schema_version": 1,
     "solution": false
    }
   },
   "source": [
    "### Using the encoder and decoder together\n",
    "\n",
    "The following are a couple examples of using the encoder and decoder together. "
   ]
  },
  {
   "cell_type": "code",
   "execution_count": null,
   "metadata": {
    "deletable": false,
    "editable": false,
    "nbgrader": {
     "checksum": "b015cc80943ab9078230b58fa749b580",
     "grade": false,
     "grade_id": "cell-420d2e0fa1938e1c",
     "locked": true,
     "schema_version": 1,
     "solution": false
    }
   },
   "outputs": [],
   "source": [
    "# Using the encoder\n",
    "key = 500\n",
    "message = 'This is a secret message'\n",
    "\n",
    "%run -i ./A2Code/encoder.py  \n",
    "%run -i ./A2Code/decoder.py\n",
    "\n",
    "print('\\nOriginal Message: \\t', message)\n",
    "print('\\nEncoded Message: \\t', encoded)\n",
    "print('\\nDecoded Message: \\t', decoded, '\\n')\n",
    "\n",
    "assert message == decoded"
   ]
  },
  {
   "cell_type": "code",
   "execution_count": null,
   "metadata": {
    "deletable": false,
    "editable": false,
    "nbgrader": {
     "checksum": "284e24bceddb374654c943f022940429",
     "grade": false,
     "grade_id": "cell-95d08670ebc7cb33",
     "locked": true,
     "schema_version": 1,
     "solution": false
    }
   },
   "outputs": [],
   "source": [
    "# Using the encoder\n",
    "key = 1000\n",
    "message = 'Python is pretty cool, eh?'\n",
    "\n",
    "%run -i ./A2Code/encoder.py  \n",
    "%run -i ./A2Code/decoder.py\n",
    "\n",
    "print('\\nOriginal Message: \\t', message)\n",
    "print('\\nEncoded Message: \\t', encoded)\n",
    "print('\\nDecoded Message: \\t', decoded, '\\n')\n",
    "\n",
    "assert message == decoded"
   ]
  },
  {
   "cell_type": "markdown",
   "metadata": {
    "deletable": false,
    "editable": false,
    "nbgrader": {
     "checksum": "a586b56ba98718b810eadb19269353d2",
     "grade": false,
     "grade_id": "cell-33767095feda58a6",
     "locked": true,
     "schema_version": 1,
     "solution": false
    }
   },
   "source": [
    "### Using a Custom Encoder\n",
    "\n",
    "The encoder & decoding we created above is built on conversions based on manipulating unicode code points.\n",
    "\n",
    "If a potential attacker wanted to decode our messages, and happened to know we were using this approach, there are some relatively simple ways that they could try to figure out our encoding key, and then, if successful decode our messages. \n",
    "\n",
    "Thought experiment: can you think of ways to decode messages that use this encoding?\n",
    "\n",
    "To thwart this potential attacker, let's now explore using a custom encoding. Instead of manipulating code points, we are going to use a custom mapping to switch out characters to encode our messages. "
   ]
  },
  {
   "cell_type": "code",
   "execution_count": null,
   "metadata": {
    "deletable": false,
    "editable": false,
    "nbgrader": {
     "checksum": "113302943aadedcba2e615da11e93a20",
     "grade": false,
     "grade_id": "cell-20abeb97a9593a92",
     "locked": true,
     "schema_version": 1,
     "solution": false
    }
   },
   "outputs": [],
   "source": [
    "# Custom encoding dictionary provided - make sure you run this cell\n",
    "#   In this encoding, each key will get switched out for the associated value\n",
    "#     So, for example, whenever we see an 'a', we want to switch it out for an 'r'. \n",
    "custom_encodings = {\n",
    "    'a' : 'r', \n",
    "    'e' : 'p', \n",
    "    'i' : 'm',\n",
    "    'o' : 'n',\n",
    "    'u' : 's'\n",
    "}"
   ]
  },
  {
   "cell_type": "markdown",
   "metadata": {
    "deletable": false,
    "editable": false,
    "nbgrader": {
     "checksum": "b27126b74fd0f0a55101f31efd0c8884",
     "grade": false,
     "grade_id": "cell-b100f42a04e547a9",
     "locked": true,
     "schema_version": 1,
     "solution": false
    }
   },
   "source": [
    "### Q17 - Custom Encoder (0.5 points)\n",
    "\n",
    "Write a code block to encode strings from original messages, using our custom encoding.\n",
    "\n",
    "To do so:\n",
    "- Initialize a variable called `custom_encoded` as an empty string\n",
    "- Use a for loop to loop across all characters of a presumed string variable called `custom_message`\n",
    "    - Inside the loop, check if the current character is in the `custom_encodings` dictionary\n",
    "        - If it is, use the current char to get the value from `custom_encodings`, and concatenate it to `custom_encoded`\n",
    "            - The line inside the if should look something like `out = out + dictionary[char]`\n",
    "            \n",
    "        - Otherwise, concatenate the current character to `custom_encoded`"
   ]
  },
  {
   "cell_type": "code",
   "execution_count": null,
   "metadata": {
    "deletable": false,
    "nbgrader": {
     "checksum": "b8c56c6740113a374b46316180e0ead3",
     "grade": false,
     "grade_id": "cell-c71c52f6393468cd",
     "locked": false,
     "schema_version": 1,
     "solution": true
    }
   },
   "outputs": [],
   "source": [
    "%%writefile A2Code/custom_encoder.py\n",
    "\n",
    "# YOUR CODE HERE\n",
    "raise NotImplementedError()"
   ]
  },
  {
   "cell_type": "code",
   "execution_count": null,
   "metadata": {
    "deletable": false,
    "editable": false,
    "nbgrader": {
     "checksum": "2ab7eff5cb7a6ae37c3fbc48859a9b4f",
     "grade": true,
     "grade_id": "cell-66b937622cc2a5f6",
     "locked": true,
     "points": 0.5,
     "schema_version": 1,
     "solution": false
    }
   },
   "outputs": [],
   "source": [
    "custom_message = 'vowels aint great'\n",
    "\n",
    "%run -i ./A2Code/custom_encoder.py\n",
    "\n",
    "assert isinstance(custom_encoded, str)\n",
    "assert custom_encoded == 'vnwpls rmnt grprt'\n",
    "\n",
    "print('\\nOriginal Message: \\t', custom_message)\n",
    "print('\\nEncoded Message: \\t', custom_encoded, '\\n')"
   ]
  },
  {
   "cell_type": "markdown",
   "metadata": {
    "deletable": false,
    "editable": false,
    "nbgrader": {
     "checksum": "38e3a57b38061106c935ba8b1f63d32f",
     "grade": false,
     "grade_id": "cell-7802d01bbd915a1c",
     "locked": true,
     "schema_version": 1,
     "solution": false
    }
   },
   "source": [
    "### Using Variable Keys\n",
    "\n",
    "Part of the reason the unicode code point conversation can be easy to decode is that character always get encoded to the same output. So, if you know a pattern of the language, for example that 'e' is usually the most common letter, you can use this to make an educated guess that the most common character in the encoded message is probable 'e', and from there figure out the encoding key. \n",
    "\n",
    "One way around this is to use a procedure to use different transforms for each character, or, basically, use a different key for each time you encode a character. This breaks the 1-to-1 mapping between original and encoded characters, and makes the encoding harder to crack. As long as the decoder knows a pattern of how update keys, then it is still decodable, by knowing the first key, and the pattern to get to the next keys. "
   ]
  },
  {
   "cell_type": "markdown",
   "metadata": {
    "collapsed": true,
    "deletable": false,
    "editable": false,
    "nbgrader": {
     "checksum": "fcb5e035060008e61fec5354bfcf07c1",
     "grade": false,
     "grade_id": "cell-ad2a410017a10fa3",
     "locked": true,
     "schema_version": 1,
     "solution": false
    }
   },
   "source": [
    "### Q18 - Encodings with variable keys (0.5 points)\n",
    "\n",
    "Here we will write an encoder that using a variable keys, whereby each time a key is applied, the key itself is also updated, by adding a number. \n",
    "\n",
    "This code will presume two numbers, `start_key` and `key_increment`. \n",
    "\n",
    "This code will look very similar to the code for the encoder in Q15. Copy that code in and you are going to `key = start_key` before the loop. The loop will contain the same code to encode each character, and you need to add a line within the loop, after the encoding, that update the `key` variable to increment it by the value stored in `key_increment`. "
   ]
  },
  {
   "cell_type": "code",
   "execution_count": null,
   "metadata": {
    "deletable": false,
    "nbgrader": {
     "checksum": "568ec1f58b74119cef46d843c9f8d918",
     "grade": false,
     "grade_id": "cell-06e54039038018ff",
     "locked": false,
     "schema_version": 1,
     "solution": true
    }
   },
   "outputs": [],
   "source": [
    "%%writefile A2Code/variable_encoder.py\n",
    "\n",
    "# YOUR CODE HERE\n",
    "raise NotImplementedError()"
   ]
  },
  {
   "cell_type": "code",
   "execution_count": null,
   "metadata": {
    "deletable": false,
    "editable": false,
    "nbgrader": {
     "checksum": "adb8bfe239b8f460eb40bc2c8d7779fb",
     "grade": true,
     "grade_id": "cell-929fe5d77dbe70be",
     "locked": true,
     "points": 0.5,
     "schema_version": 1,
     "solution": false
    }
   },
   "outputs": [],
   "source": [
    "message = \"By the way, what we're doing here basically the same as encryption\"\n",
    "\n",
    "start_key = 150\n",
    "key_increment = 3\n",
    "\n",
    "%run -i ./A2Code/variable_encoder.py\n",
    "\n",
    "assert isinstance(encoded, str)\n",
    "assert encoded == \"ØĒ¼ēĊĊÈĢďĪà×ıĥġķæŀıöńĺøĿōŊŒŎĊŕŕťśęŞŠŵŮūŬźŽƍķƎƅƅŃƙƊƙƔŒƖƫśƣƯƧƹǃƽǄƼǅǇ\"\n",
    "\n",
    "print('\\nOriginal Message: \\t', message)\n",
    "print('\\nEncoded Message: \\t', encoded, '\\n')"
   ]
  },
  {
   "cell_type": "markdown",
   "metadata": {
    "deletable": false,
    "editable": false,
    "nbgrader": {
     "checksum": "959508a863d7740b9c693ec50cd9bbf5",
     "grade": false,
     "grade_id": "cell-853d707bf2388ec1",
     "locked": true,
     "schema_version": 1,
     "solution": false
    }
   },
   "source": [
    "### Breaking a Variable Encoder\n",
    "\n",
    "#### Extra (optional) Information for the Curious - on Cryptography & Alan Turing\n",
    "\n",
    "This kind of 'variable encoder' in which the encoding transform updates every time it is applied is much harder for an outside attacker to break (if they do not know the initial key, and the way it changes every application). \n",
    "\n",
    "This is, broadly, the kind of encryption which was used by German forces in World War II to encode messages - the ENIGMA code. \n",
    "\n",
    "This approach is, however, still breakable - it just takes a lot of clever analysis and number crunching. During World War II, Alan Turing, having already at that point done fundamental work developing the very concept of a digital computer, developed machines and algorithms to try to break the German Enigma code, eventually managing to decode it with his team at Bletchley Park.\n",
    "\n",
    "Cracking this code was a huge development in the war - it is estimated this code breaking work, which allowed the Allies to decode messages and anticipate German actions, may have shortened the war by up 2 to 3 years, saving millions of lives in the process.\n",
    "\n",
    "By the early 1950s, though his codebreaking work was still strictly confidential and he was largely unknown by the general public, Alan Turing had gone on to make other huge contributions to the fields of computation and artificial intelligence, amongst others, that would go on to have massive impact on the modern world. \n",
    "\n",
    "The British government, who years before had employed him as a codebreaker, then prosecuted Alan Turing for homosexual activity, and forced him to undergo chemical castration. Alan Turing died of suicide in 1954, at the age of 41. \n",
    "\n",
    "For more information on Alan Turing, check out the article linked below, and/or look into the movie `The Imitation Game`, a dramatization of his work on code breaking during the war. \n",
    "\n",
    "Short Article on Alan Turing: https://www.bbc.com/news/technology-18419691"
   ]
  },
  {
   "cell_type": "markdown",
   "metadata": {
    "deletable": false,
    "editable": false,
    "nbgrader": {
     "checksum": "d73ed1a32f70b75230a0d37bf6bade59",
     "grade": false,
     "grade_id": "cell-f6c8677ae268ef0c",
     "locked": true,
     "schema_version": 1,
     "solution": false
    }
   },
   "source": [
    "### Variable Decoder\n",
    "\n",
    "The code below is provided for you, that performs decoding of a variable decoder. \n",
    "\n",
    "To do so, it needs to know the `start_key` and `key_increment` that were used."
   ]
  },
  {
   "cell_type": "code",
   "execution_count": null,
   "metadata": {
    "deletable": false,
    "editable": false,
    "nbgrader": {
     "checksum": "08c42c3dccc4b840e4fb39eb54b8fd33",
     "grade": false,
     "grade_id": "cell-6c4c97678e235460",
     "locked": true,
     "schema_version": 1,
     "solution": false
    }
   },
   "outputs": [],
   "source": [
    "%%writefile A2Code/variable_decoder.py\n",
    "\n",
    "# Knowing the start key, and the length of the message, we can reconstruct the current key\n",
    "key = start_key + (len(encoded) * key_increment)\n",
    "\n",
    "decoded = ''\n",
    "\n",
    "# Note that this decodes the message backwards, stepping back along key values\n",
    "for char in encoded[::-1]:\n",
    "    \n",
    "    # Step the key back one step, and apply to current character\n",
    "    key = key - key_increment\n",
    "    decoded = decoded + chr(ord(char) - key)\n",
    "    \n",
    "# Having decoded backwards, flip the message back around\n",
    "decoded = decoded[::-1]"
   ]
  },
  {
   "cell_type": "markdown",
   "metadata": {
    "deletable": false,
    "editable": false,
    "nbgrader": {
     "checksum": "a82e66beefa70a8cf6bf924684fefca4",
     "grade": false,
     "grade_id": "cell-416d486e4a812411",
     "locked": true,
     "schema_version": 1,
     "solution": false
    }
   },
   "source": [
    "### Decoding a provided message\n",
    "\n",
    "The cell below has an encoded message, using variable encoding, and the `start_key` and `key_increment` needed to decode. \n",
    "\n",
    "Run the following cell to execute the decoding code from above, and decode the message. "
   ]
  },
  {
   "cell_type": "code",
   "execution_count": null,
   "metadata": {
    "deletable": false,
    "editable": false,
    "nbgrader": {
     "checksum": "599512f18546ae5c6dde7d13afddada3",
     "grade": false,
     "grade_id": "cell-a2860aa46a9d8762",
     "locked": true,
     "schema_version": 1,
     "solution": false
    }
   },
   "outputs": [],
   "source": [
    "# Do decoding on message above\n",
    "encoded = \"\"\"Ãâø¡ü¬èõ÷­¼±ÜµÿĈċĂ¿ĚĒĚÇĊĝĒÏĖġğĦĲĤīĦáķĭĬéĬŀłĺĺŃńľŉőĀëíĪŐŝœŒšđŪŖŰęŴŬŴġŤŷŬĩůżŽŶĳƃƆƐŇĽƒƐŃƈƖ\\\n",
    "ƗƒƟƐƥƦŕƦƧśƱƧƢƷŦőœƍǆůǅƻƺŷǐƼǖƋƁǌǋƇǢǚǢƏǙǔǥǧǞǩƝǳǰƣǷǬǪǷǹȈƱǿǾȂǾƻȑȇȊȖǅȊȒțȕȔȣǓȨȫȮȡȣǟǮǣȫȶȵȷȼɆȺɁȼǷɎɋǽɎɏȃəɏɒ\\\n",
    "ɞȍɢɥɨɛɝșɲɦɫɭȣɧɬȩɬȭɿʃʂɿɼɼʏȽʎʑʗʎʖʗəȷȹɷʥʤʤɥɛʑʮʮ\"\"\"\n",
    "\n",
    "start_key = 123\n",
    "key_increment = 2\n",
    "\n",
    "%run -i ./A2Code/variable_decoder.py\n",
    "\n",
    "print(decoded)"
   ]
  },
  {
   "cell_type": "markdown",
   "metadata": {
    "deletable": false,
    "editable": false,
    "nbgrader": {
     "checksum": "c1fa3944cc1625068f6e6cd7e426721b",
     "grade": false,
     "grade_id": "cell-40d37bfa22765f04",
     "locked": true,
     "schema_version": 1,
     "solution": false
    }
   },
   "source": [
    "## The End!\n",
    "\n",
    "This is the end of the assignment!\n",
    "Have a look back over your answers, and also make sure to Restart & Run All from the kernel menu to double check that everything is working properly. \n",
    "\n",
    "When you are ready to submit your assignment, upload it to TritonED under Assignment-2."
   ]
  }
 ],
 "metadata": {
  "kernelspec": {
   "display_name": "Python 3",
   "language": "python",
   "name": "python3"
  },
  "language_info": {
   "codemirror_mode": {
    "name": "ipython",
    "version": 3
   },
   "file_extension": ".py",
   "mimetype": "text/x-python",
   "name": "python",
   "nbconvert_exporter": "python",
   "pygments_lexer": "ipython3",
   "version": "3.6.3"
  }
 },
 "nbformat": 4,
 "nbformat_minor": 2
}
