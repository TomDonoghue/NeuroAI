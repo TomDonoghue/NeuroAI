{
 "cells": [
  {
   "cell_type": "markdown",
   "metadata": {},
   "source": [
    "# Perceptron"
   ]
  },
  {
   "cell_type": "markdown",
   "metadata": {},
   "source": [
    "In 1958, Frank Rosenblatt published a paper on the 'Perceptron', the next iteration of a mathematical model of a neuron.\n",
    "\n",
    "Some key developments of the perceptron, building from the McCulloch-Pitts Neuron, incluce that it allows for non-boolean values, with real valued weights on inputs, and a proposed learning mechanism to learn the weight values for desired performance. \n",
    "\n",
    "The perceptron, as a model that includes a procedure to learn weights to achieve desired performance on known examples, can therefore a supervised learning algorithm."
   ]
  },
  {
   "cell_type": "markdown",
   "metadata": {},
   "source": [
    "The Perceptron model can be visualized like this:"
   ]
  },
  {
   "cell_type": "markdown",
   "metadata": {},
   "source": [
    "<img src=\"img/Perceptron.png\" width=\"750px\">"
   ]
  },
  {
   "cell_type": "markdown",
   "metadata": {},
   "source": [
    "## Perceptron Code\n",
    "\n",
    "The following is a basic implementation of a perceptron, using numpy. "
   ]
  },
  {
   "cell_type": "code",
   "execution_count": 39,
   "metadata": {},
   "outputs": [],
   "source": [
    "import numpy as np"
   ]
  },
  {
   "cell_type": "code",
   "execution_count": 40,
   "metadata": {},
   "outputs": [],
   "source": [
    "class Perceptron():\n",
    "\n",
    "    def __init__(self, n_inputs, n_iterations=100, learning_rate=0.01):\n",
    "\n",
    "        self.bias = 0\n",
    "        self.weights = np.zeros(n_inputs)\n",
    "        self.n_iterations = n_iterations\n",
    "        self.learning_rate = learning_rate\n",
    "\n",
    "           \n",
    "    def predict(self, inputs):\n",
    "        \n",
    "        activation = self.bias + np.dot(inputs, self.weights)\n",
    "        output = self.threshold(activation)\n",
    "\n",
    "        return output\n",
    "\n",
    "    def threshold(self, activation):\n",
    "        \n",
    "        if activation > 0:\n",
    "            output = 1\n",
    "        else:\n",
    "            output = 0            \n",
    "            \n",
    "        return output\n",
    "    \n",
    "    def train(self, training_inputs, labels):\n",
    "        \n",
    "        for iteration in range(self.n_iterations):\n",
    "            \n",
    "            for inputs, label in zip(training_inputs, labels):\n",
    "                \n",
    "                prediction = self.predict(inputs)\n",
    "                \n",
    "                # Calculate the error and update bias and weights\n",
    "                self.bias += self.learning_rate * (label - prediction)\n",
    "                self.weights += self.learning_rate * (label - prediction) * inputs"
   ]
  },
  {
   "cell_type": "markdown",
   "metadata": {},
   "source": [
    "### Perceptron: AND\n",
    "\n",
    "Here let's explore if and how a perceptron can be trained to perform logical 'AND'. "
   ]
  },
  {
   "cell_type": "code",
   "execution_count": 41,
   "metadata": {},
   "outputs": [],
   "source": [
    "# Initialize a perceptron\n",
    "perceptron = Perceptron(2)"
   ]
  },
  {
   "cell_type": "code",
   "execution_count": 42,
   "metadata": {},
   "outputs": [],
   "source": [
    "# Set up training data and labels\n",
    "training_inputs = [np.array([1, 1]), np.array([1, 0]), np.array([0, 1]), np.array([0, 0])]\n",
    "labels = np.array([1, 0, 0, 0])"
   ]
  },
  {
   "cell_type": "code",
   "execution_count": 43,
   "metadata": {},
   "outputs": [],
   "source": [
    "# Train a perceptron\n",
    "perceptron.train(training_inputs, labels)"
   ]
  },
  {
   "cell_type": "code",
   "execution_count": 44,
   "metadata": {},
   "outputs": [
    {
     "name": "stdout",
     "output_type": "stream",
     "text": [
      "bias\t -0.02\n",
      "weights\t [0.01 0.02]\n"
     ]
    }
   ],
   "source": [
    "# Check the learned bias and weight values\n",
    "print('bias\\t', perceptron.bias)\n",
    "print('weights\\t', perceptron.weights)"
   ]
  },
  {
   "cell_type": "code",
   "execution_count": 45,
   "metadata": {},
   "outputs": [
    {
     "data": {
      "text/plain": [
       "1"
      ]
     },
     "execution_count": 45,
     "metadata": {},
     "output_type": "execute_result"
    }
   ],
   "source": [
    "# Check the prediction of the trained perceptron\n",
    "perceptron.predict(np.array([1, 1])) "
   ]
  },
  {
   "cell_type": "code",
   "execution_count": 46,
   "metadata": {},
   "outputs": [
    {
     "data": {
      "text/plain": [
       "0"
      ]
     },
     "execution_count": 46,
     "metadata": {},
     "output_type": "execute_result"
    }
   ],
   "source": [
    "# Check the prediction of the trained perceptron\n",
    "perceptron.predict(np.array([0, 1])) "
   ]
  },
  {
   "cell_type": "markdown",
   "metadata": {},
   "source": [
    "### Perceptron: OR\n",
    "\n",
    "Now let's explore if and how a perceptron can be trained to perform logical 'AND'. "
   ]
  },
  {
   "cell_type": "code",
   "execution_count": 47,
   "metadata": {},
   "outputs": [],
   "source": [
    "# Initialize a perceptron\n",
    "perceptron = Perceptron(2)"
   ]
  },
  {
   "cell_type": "code",
   "execution_count": 48,
   "metadata": {},
   "outputs": [],
   "source": [
    "# Set up training data and labels\n",
    "training_inputs = [np.array([1, 1]), np.array([1, 0]), np.array([0, 1]), np.array([0, 0])]\n",
    "labels = np.array([1, 1, 1, 0])"
   ]
  },
  {
   "cell_type": "code",
   "execution_count": 49,
   "metadata": {},
   "outputs": [],
   "source": [
    "# Train a perceptron\n",
    "perceptron.train(training_inputs, labels)"
   ]
  },
  {
   "cell_type": "code",
   "execution_count": 50,
   "metadata": {},
   "outputs": [
    {
     "name": "stdout",
     "output_type": "stream",
     "text": [
      "bias\t 0.0\n",
      "weights\t [0.01 0.01]\n"
     ]
    }
   ],
   "source": [
    "# Check the learned bias and weight values\n",
    "print('bias\\t', perceptron.bias)\n",
    "print('weights\\t', perceptron.weights)"
   ]
  },
  {
   "cell_type": "code",
   "execution_count": 51,
   "metadata": {},
   "outputs": [
    {
     "data": {
      "text/plain": [
       "1"
      ]
     },
     "execution_count": 51,
     "metadata": {},
     "output_type": "execute_result"
    }
   ],
   "source": [
    "# Check the prediction of the trained perceptron\n",
    "perceptron.predict(np.array([1, 1])) "
   ]
  },
  {
   "cell_type": "code",
   "execution_count": 52,
   "metadata": {},
   "outputs": [
    {
     "data": {
      "text/plain": [
       "0"
      ]
     },
     "execution_count": 52,
     "metadata": {},
     "output_type": "execute_result"
    }
   ],
   "source": [
    "# Check the prediction of the trained perceptron\n",
    "perceptron.predict(np.array([0, 0])) "
   ]
  }
 ],
 "metadata": {
  "kernelspec": {
   "display_name": "Python 3",
   "language": "python",
   "name": "python3"
  },
  "language_info": {
   "codemirror_mode": {
    "name": "ipython",
    "version": 3
   },
   "file_extension": ".py",
   "mimetype": "text/x-python",
   "name": "python",
   "nbconvert_exporter": "python",
   "pygments_lexer": "ipython3",
   "version": "3.7.3"
  }
 },
 "nbformat": 4,
 "nbformat_minor": 2
}
