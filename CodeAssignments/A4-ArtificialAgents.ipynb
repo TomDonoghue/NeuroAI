{
 "cells": [
  {
   "cell_type": "markdown",
   "metadata": {
    "deletable": false,
    "editable": false,
    "nbgrader": {
     "checksum": "dd658ce2cc584dbb95ae7627ce52dfcc",
     "grade": false,
     "grade_id": "cell-08eae0a733656950",
     "locked": true,
     "schema_version": 1,
     "solution": false
    }
   },
   "source": [
    "# Assignment 4: Artificial Agents"
   ]
  },
  {
   "cell_type": "markdown",
   "metadata": {
    "deletable": false,
    "editable": false,
    "nbgrader": {
     "checksum": "ee205f7d3656d70705bbfd0100e9ce89",
     "grade": false,
     "grade_id": "cell-b4c4b21a3b1a250b",
     "locked": true,
     "schema_version": 1,
     "solution": false
    }
   },
   "source": [
    "## Overview\n",
    "\n",
    "This assignment covers Classes & Objects, and builds up to the application of Artificial Agents.\n",
    "\n",
    "This assignment is out of 8 points, worth 8% of your grade.\n",
    "\n",
    "Make sure your completed assignment passes all the asserts. This assignment also has some hidden tests - which means that passing all the asserts you see does not guarantee that you have the correct answer! Make sure to double check and re-run your code to make sure it does what you expect."
   ]
  },
  {
   "cell_type": "markdown",
   "metadata": {
    "deletable": false,
    "editable": false,
    "nbgrader": {
     "checksum": "38e16ce5554c1deabb2625792abb0488",
     "grade": false,
     "grade_id": "cell-564134b0a1d0a91a",
     "locked": true,
     "schema_version": 1,
     "solution": false
    }
   },
   "source": [
    "## Setup"
   ]
  },
  {
   "cell_type": "markdown",
   "metadata": {
    "deletable": false,
    "editable": false,
    "nbgrader": {
     "checksum": "79d7323efebde8b1e59745040aa05512",
     "grade": false,
     "grade_id": "cell-07c8f958ea9f47b5",
     "locked": true,
     "schema_version": 1,
     "solution": false
    }
   },
   "source": [
    "#### Code Imports\n",
    "\n",
    "You must run the following cell before proceeding with the assignment. "
   ]
  },
  {
   "cell_type": "code",
   "execution_count": null,
   "metadata": {
    "deletable": false,
    "editable": false,
    "nbgrader": {
     "checksum": "a16e2ad8c8fb6a0c255890da1decb30c",
     "grade": false,
     "grade_id": "cell-d79eb9b76b42d8ac",
     "locked": true,
     "schema_version": 1,
     "solution": false
    }
   },
   "outputs": [],
   "source": [
    "# Setup - run this cell before doing the next part of the assignment\n",
    "#   This cell imports some extra code, making it available for us to use later\n",
    "\n",
    "import random\n",
    "import string\n",
    "\n",
    "from time import sleep\n",
    "from IPython.display import clear_output"
   ]
  },
  {
   "cell_type": "markdown",
   "metadata": {
    "deletable": false,
    "editable": false,
    "nbgrader": {
     "checksum": "98a2efd8d5c36915844bf9fe7a154474",
     "grade": false,
     "grade_id": "cell-a11c701a459782ac",
     "locked": true,
     "schema_version": 1,
     "solution": false
    }
   },
   "source": [
    "## Part 1: Functions & Methods (re-visited) \n",
    "\n",
    "In this part, we will revisit and extend some work on using functions and methods.\n",
    "\n",
    "We will also write some functions that we will use later in the assignment for the 'bots' application."
   ]
  },
  {
   "cell_type": "markdown",
   "metadata": {
    "deletable": false,
    "editable": false,
    "nbgrader": {
     "checksum": "f4ef59210b240669aef96d8a398d07fc",
     "grade": false,
     "grade_id": "cell-3b1a92c80c19a06a",
     "locked": true,
     "schema_version": 1,
     "solution": false
    }
   },
   "source": [
    "### Q1 - String Methods  (1 point)\n",
    "\n",
    "First, we will explore some of methods from the `str` class."
   ]
  },
  {
   "cell_type": "markdown",
   "metadata": {
    "deletable": false,
    "editable": false,
    "nbgrader": {
     "checksum": "ec05e987093f555b14eac98644d48d2f",
     "grade": false,
     "grade_id": "cell-1d916e71b3aaba84",
     "locked": true,
     "schema_version": 1,
     "solution": false
    }
   },
   "source": [
    "#### a) `join`\n",
    "\n",
    "During the last assignment you made a function that echoed a string several times with a seperator between each repetition. \n",
    "\n",
    "Here we will achieve a similar goal through the use of the `join()` method of the `str` class. \n",
    "\n",
    "When `join()` is called on a `str` object (let's call it `seperator`) with a `list` as its argument, it joins the elements of the `list`, seperating each one by `seperator`. \n",
    "\n",
    "Below we define a a list `my_list`. Use the `join()` method on the string you define as `seperator = '~'` to join the elements in `my_list` seperated by the `'~'` character. \n",
    "\n",
    "Save the output to a new variable called `joined_string`. The output should look as follows:\n",
    "\n",
    "`'Python~is~so~much~fun'`"
   ]
  },
  {
   "cell_type": "code",
   "execution_count": null,
   "metadata": {
    "deletable": false,
    "nbgrader": {
     "checksum": "9566877816970da42180494493b1de92",
     "grade": false,
     "grade_id": "cell-7d04b9cb5370f827",
     "locked": false,
     "schema_version": 1,
     "solution": true
    }
   },
   "outputs": [],
   "source": [
    "# This variable provided for you\n",
    "my_list = ['Python', 'is', 'so', 'much', 'fun']\n",
    "\n",
    "# YOUR CODE HERE\n",
    "raise NotImplementedError()"
   ]
  },
  {
   "cell_type": "code",
   "execution_count": null,
   "metadata": {
    "deletable": false,
    "editable": false,
    "nbgrader": {
     "checksum": "1a801940e1d46091f20a6453e52839db",
     "grade": true,
     "grade_id": "cell-b9dadc5b8b236e5f",
     "locked": true,
     "points": 0.25,
     "schema_version": 1,
     "solution": false
    }
   },
   "outputs": [],
   "source": [
    "assert isinstance(joined_string, str)\n",
    "assert joined_string == 'Python~is~so~much~fun'"
   ]
  },
  {
   "cell_type": "markdown",
   "metadata": {
    "deletable": false,
    "editable": false,
    "nbgrader": {
     "checksum": "6ab2a85e235c76fabf29b1b9f4d42034",
     "grade": false,
     "grade_id": "cell-6c49fcce496b0d24",
     "locked": true,
     "schema_version": 1,
     "solution": false
    }
   },
   "source": [
    "#### b) `replace`\n",
    "\n",
    "Now try to use the `replace` method to update the string `statement` such that it replaces `UCLA` to `UCSD`. \n",
    "\n",
    "If you are unsure how use `replace` you can run `str.replace?` to look at documentation.\n",
    "\n",
    "Note that using `replace` returns a new string that you need to assign to a variable if you want to keep a reference to it (`replace` is not 'inplace'). \n",
    "\n",
    "For this question, overwrite `statement` as the assignment to the output of the `replace` call."
   ]
  },
  {
   "cell_type": "code",
   "execution_count": null,
   "metadata": {
    "deletable": false,
    "nbgrader": {
     "checksum": "1b354477714467d98f02ee13159cf7c5",
     "grade": false,
     "grade_id": "cell-35d75fa4311a7841",
     "locked": false,
     "schema_version": 1,
     "solution": true
    }
   },
   "outputs": [],
   "source": [
    "# This code provided for you\n",
    "statement = 'UCLA is the best UC in Southern California.'\n",
    "\n",
    "# YOUR CODE HERE\n",
    "raise NotImplementedError()"
   ]
  },
  {
   "cell_type": "code",
   "execution_count": null,
   "metadata": {
    "deletable": false,
    "editable": false,
    "nbgrader": {
     "checksum": "a412ce5a656a791dfdae4ef8d03f2237",
     "grade": true,
     "grade_id": "cell-506599af8e056bda",
     "locked": true,
     "points": 0.25,
     "schema_version": 1,
     "solution": false
    }
   },
   "outputs": [],
   "source": [
    "assert isinstance(statement, str)\n",
    "assert statement == 'UCSD is the best UC in Southern California.'"
   ]
  },
  {
   "cell_type": "markdown",
   "metadata": {
    "deletable": false,
    "editable": false,
    "nbgrader": {
     "checksum": "51e126f02d876f362c982f10a14d9cd7",
     "grade": false,
     "grade_id": "cell-25040db08b9a7462",
     "locked": true,
     "schema_version": 1,
     "solution": false
    }
   },
   "source": [
    "#### c) `replace` for dropping characters\n",
    "\n",
    "Use the `replace` method to remove all the exclamation points in the string `excessive`.\n",
    "\n",
    "Assign the output of doing this to a variable called `fixed`.\n",
    "\n",
    "Hint: you can drop characters with `replace` by 'replacing' them with an empty string."
   ]
  },
  {
   "cell_type": "code",
   "execution_count": null,
   "metadata": {
    "deletable": false,
    "nbgrader": {
     "checksum": "724187a4641d2d49d62dbd93b621c3db",
     "grade": false,
     "grade_id": "cell-e5318d55cea7c11c",
     "locked": false,
     "schema_version": 1,
     "solution": true
    }
   },
   "outputs": [],
   "source": [
    "# This variable provided for you\n",
    "excessive = 'using!!! excessive!!! exclamation points!! is the best!!!!!!'\n",
    "\n",
    "# YOUR CODE HERE\n",
    "raise NotImplementedError()"
   ]
  },
  {
   "cell_type": "code",
   "execution_count": null,
   "metadata": {
    "deletable": false,
    "editable": false,
    "nbgrader": {
     "checksum": "e81a60cbf9037d990027f6e875059d20",
     "grade": true,
     "grade_id": "cell-abd4bac11d40442c",
     "locked": true,
     "points": 0.25,
     "schema_version": 1,
     "solution": false
    }
   },
   "outputs": [],
   "source": [
    "assert isinstance(fixed, str)\n",
    "assert fixed == 'using excessive exclamation points is the best'"
   ]
  },
  {
   "cell_type": "markdown",
   "metadata": {
    "deletable": false,
    "editable": false,
    "nbgrader": {
     "checksum": "74719bbe9ba4785efd73bc2c65b99d1d",
     "grade": false,
     "grade_id": "cell-025a581f59c40ed6",
     "locked": true,
     "schema_version": 1,
     "solution": false
    }
   },
   "source": [
    "#### d) Clearing all punctuation with `replace`\n",
    "\n",
    "Now we want to generalize what we did in 'c)' to remove all punctuation using the `replace()` method.\n",
    "\n",
    "Write a `for` loop to loop over every character in `string.punctuation`. Inside the loop, call `replace` on `too_much` with the current punctuation character to remove it, like we did in 'c)'.\n",
    "\n",
    "To do this, inside the loop, re-assign `too_much` to be the ouput of calling `replace` on `too_much`, so that you are replacing `too_much` with it's updated version every time."
   ]
  },
  {
   "cell_type": "code",
   "execution_count": null,
   "metadata": {
    "deletable": false,
    "nbgrader": {
     "checksum": "133459ae4d209b188b1e0ea40238954c",
     "grade": false,
     "grade_id": "cell-00ed147a1b77a88d",
     "locked": false,
     "schema_version": 1,
     "solution": true
    }
   },
   "outputs": [],
   "source": [
    "# This variable provided for you\n",
    "too_much = 'I, think th@at!! punctuation... may?>> be the bes$$$t th!ing thats: ever! been! invented!!!!!!'\n",
    "\n",
    "# YOUR CODE HERE\n",
    "raise NotImplementedError()"
   ]
  },
  {
   "cell_type": "code",
   "execution_count": null,
   "metadata": {
    "deletable": false,
    "editable": false,
    "nbgrader": {
     "checksum": "c73e4951acac75374c7f6e3de4fb1d92",
     "grade": true,
     "grade_id": "cell-8303f7ea10d06b5a",
     "locked": true,
     "points": 0.25,
     "schema_version": 1,
     "solution": false
    }
   },
   "outputs": [],
   "source": [
    "assert isinstance(too_much, str)\n",
    "assert too_much == 'I think that punctuation may be the best thing thats ever been invented'"
   ]
  },
  {
   "cell_type": "markdown",
   "metadata": {
    "deletable": false,
    "editable": false,
    "nbgrader": {
     "checksum": "ec8eca1354550341951b1b5f884323ed",
     "grade": false,
     "grade_id": "cell-1b82709889d03621",
     "locked": true,
     "schema_version": 1,
     "solution": false
    }
   },
   "source": [
    "### Example: Functions with Default Values\n",
    "\n",
    "Note that functions can also have inputs with default values.\n",
    "\n",
    "This means you don't necessarily need to provide an input with a specific value, since if you don't provide it explicitly, it will take on the default value. \n",
    "\n",
    "The following is an example of a function with a default value, provided to you, so you can see what it looks like.\n",
    "\n",
    "You don't need to do anything with this function."
   ]
  },
  {
   "cell_type": "code",
   "execution_count": null,
   "metadata": {
    "deletable": false,
    "editable": false,
    "nbgrader": {
     "checksum": "b02f20861b09fe28e7c79cf5e2713a17",
     "grade": false,
     "grade_id": "cell-723fafc097c2595a",
     "locked": true,
     "schema_version": 1,
     "solution": false
    }
   },
   "outputs": [],
   "source": [
    "def default_function(input_number, n_value=2):\n",
    "    \"\"\"Multiplies an input number n times. Default value for n=2\n",
    "    \n",
    "    Parameters\n",
    "    ----------\n",
    "    input_number : float\n",
    "        Number to be multiplied.\n",
    "    n_value : int, optional\n",
    "        Number of times to multiply input.\n",
    "        \n",
    "    Returns\n",
    "    -------\n",
    "    output : float\n",
    "        Result of the multiplication. \n",
    "    \"\"\"\n",
    "    \n",
    "    # Multiple the input n times\n",
    "    output = input_number * n_value\n",
    "    \n",
    "    return output"
   ]
  },
  {
   "cell_type": "code",
   "execution_count": null,
   "metadata": {
    "deletable": false,
    "editable": false,
    "nbgrader": {
     "checksum": "b4a46db3fc62a0e0e7e022e79f3bc0db",
     "grade": false,
     "grade_id": "cell-13ba8bb63ec78e3e",
     "locked": true,
     "schema_version": 1,
     "solution": false
    }
   },
   "outputs": [],
   "source": [
    "# Test using `default_function`\n",
    "print(default_function(2))\n",
    "print(default_function(2, 10))"
   ]
  },
  {
   "cell_type": "code",
   "execution_count": null,
   "metadata": {
    "deletable": false,
    "editable": false,
    "nbgrader": {
     "checksum": "cf22aaabcfc2db26ada6bcae510dcda5",
     "grade": false,
     "grade_id": "cell-fa146b4b89b7fbd6",
     "locked": true,
     "schema_version": 1,
     "solution": false
    }
   },
   "outputs": [],
   "source": [
    "# Function values can be also be defined by name\n",
    "print(default_function(n_value=-1, input_number=2))\n",
    "print(default_function(input_number=10, n_value=10, ))"
   ]
  },
  {
   "cell_type": "markdown",
   "metadata": {
    "deletable": false,
    "editable": false,
    "nbgrader": {
     "checksum": "cbba5e972a340a0a11fde80bc6e0e348",
     "grade": false,
     "grade_id": "cell-3ae5aae868ce616d",
     "locked": true,
     "schema_version": 1,
     "solution": false
    }
   },
   "source": [
    "### Q2 - Default Value Functions (0.5 points)"
   ]
  },
  {
   "cell_type": "markdown",
   "metadata": {
    "deletable": false,
    "editable": false,
    "nbgrader": {
     "checksum": "f372d9b5177d89a5214b67d01e400a21",
     "grade": false,
     "grade_id": "cell-758a7ee8f79155b1",
     "locked": true,
     "schema_version": 1,
     "solution": false
    }
   },
   "source": [
    "#### a) Sort Keys\n",
    "\n",
    "Write a function called `sort_keys`, which will return a sorted version of the keys from an input dictionary. \n",
    "\n",
    "Input(s):\n",
    "- `dictionary` : dictionary\n",
    "- `reverse` : boolean, default: False\n",
    "\n",
    "Output(s):\n",
    "- `sorted_keys` : list\n",
    "\n",
    "Procedure(s):\n",
    "- Get the keys from the input `dictionary` using the `keys()` method (this will return a list of keys)\n",
    "- Use the `sorted` function to sort the list of keys. Pass in `reverse` to `sorted` to set whether to reverse the sort order\n",
    "- Return the sorted list of dictionary keys"
   ]
  },
  {
   "cell_type": "code",
   "execution_count": null,
   "metadata": {
    "deletable": false,
    "nbgrader": {
     "checksum": "f4bd8fc46363762ab6dff3c8ae26ff77",
     "grade": false,
     "grade_id": "cell-5d1d47b8a663836c",
     "locked": false,
     "schema_version": 1,
     "solution": true
    }
   },
   "outputs": [],
   "source": [
    "# YOUR CODE HERE\n",
    "raise NotImplementedError()"
   ]
  },
  {
   "cell_type": "code",
   "execution_count": null,
   "metadata": {
    "deletable": false,
    "editable": false,
    "nbgrader": {
     "checksum": "fb7025f4b7b92fc2863ee8f9d40fb9a7",
     "grade": true,
     "grade_id": "cell-627722db3fbb5b39",
     "locked": true,
     "points": 0.125,
     "schema_version": 1,
     "solution": false
    }
   },
   "outputs": [],
   "source": [
    "assert callable(sort_keys)\n",
    "assert isinstance(sort_keys({'B': 2, 'A': 1}), list)\n",
    "assert sort_keys({'B': 2, 'A': 1}) == ['A', 'B']\n",
    "assert sort_keys({2: 'B', 1: 'A'}, reverse=True) == [2, 1]"
   ]
  },
  {
   "cell_type": "code",
   "execution_count": null,
   "metadata": {
    "deletable": false,
    "editable": false,
    "nbgrader": {
     "checksum": "579988f75dd6821e929ee316849a2f44",
     "grade": true,
     "grade_id": "cell-5181a4d4f7b2f293",
     "locked": true,
     "points": 0.125,
     "schema_version": 1,
     "solution": false
    }
   },
   "outputs": [],
   "source": [
    "assert callable(sort_keys)\n"
   ]
  },
  {
   "cell_type": "markdown",
   "metadata": {
    "deletable": false,
    "editable": false,
    "nbgrader": {
     "checksum": "50aa75f2abb0841f525ca6ad91f5f371",
     "grade": false,
     "grade_id": "cell-38a3d14601b680c5",
     "locked": true,
     "schema_version": 1,
     "solution": false
    }
   },
   "source": [
    "#### b) List Powers \n",
    "\n",
    "Write a function called `list_powers`. \n",
    "\n",
    "This function will take a list, and return a new list where each element is exponentiated to a specified power. \n",
    "\n",
    "Input(s):\n",
    "- `collection` - collection of numbers\n",
    "- `power` - int, default value: 2\n",
    "\n",
    "Output(s):\n",
    "- `power_list` - list of numbers\n",
    "\n",
    "Procedure(s):\n",
    "- Initialize an empty list to be filled and returned\n",
    "- Loop through each element in the input `collection`\n",
    "    - Take the value to the power specified in `power`\n",
    "    - Append the result to the output list\n",
    "- Return the list of powers"
   ]
  },
  {
   "cell_type": "code",
   "execution_count": null,
   "metadata": {
    "deletable": false,
    "nbgrader": {
     "checksum": "cfd3688ac83a28010b721c0df60da30d",
     "grade": false,
     "grade_id": "cell-5993fedb7f503a6f",
     "locked": false,
     "schema_version": 1,
     "solution": true
    }
   },
   "outputs": [],
   "source": [
    "# YOUR CODE HERE\n",
    "raise NotImplementedError()"
   ]
  },
  {
   "cell_type": "code",
   "execution_count": null,
   "metadata": {
    "deletable": false,
    "editable": false,
    "nbgrader": {
     "checksum": "b29d6f3561b31ea2fff79e7ec7f33f00",
     "grade": true,
     "grade_id": "cell-8a86a6f3ec803f9c",
     "locked": true,
     "points": 0.125,
     "schema_version": 1,
     "solution": false
    }
   },
   "outputs": [],
   "source": [
    "assert callable(list_powers)\n",
    "assert isinstance(list_powers([1, 2]), list)\n",
    "assert list_powers((2, 4)) == [4, 16]\n",
    "assert list_powers([2, 4], 3) == [8, 64]"
   ]
  },
  {
   "cell_type": "code",
   "execution_count": null,
   "metadata": {
    "deletable": false,
    "editable": false,
    "nbgrader": {
     "checksum": "9203d499d1ff89e62aa0019f4da2d30c",
     "grade": true,
     "grade_id": "cell-09d44aca37e9d05f",
     "locked": true,
     "points": 0.125,
     "schema_version": 1,
     "solution": false
    }
   },
   "outputs": [],
   "source": [
    "assert callable(list_powers)\n"
   ]
  },
  {
   "cell_type": "markdown",
   "metadata": {
    "deletable": false,
    "editable": false,
    "nbgrader": {
     "checksum": "52822073a71e2ddbb2b5d55afad7889b",
     "grade": false,
     "grade_id": "cell-9669a5278e848a29",
     "locked": true,
     "schema_version": 1,
     "solution": false
    }
   },
   "source": [
    "### Example: Zip\n",
    "\n",
    "A reasonably common task in Python is to want to iterate across multiple collections items together.\n",
    "\n",
    "To do so, we have the function `zip`, which takes in collection types, and let's you step across them together. \n",
    "\n",
    "This allows you to get, for example, the 0th item of each collection, and then the 1st item of each collection, etc.\n",
    "\n",
    "Below is an example of using `zip`."
   ]
  },
  {
   "cell_type": "code",
   "execution_count": null,
   "metadata": {
    "deletable": false,
    "editable": false,
    "nbgrader": {
     "checksum": "4dff76cf0480e0c955f74fd9dc229c92",
     "grade": false,
     "grade_id": "cell-93da39a3014c2429",
     "locked": true,
     "schema_version": 1,
     "solution": false
    }
   },
   "outputs": [],
   "source": [
    "# Define some collection objects\n",
    "list1 = [1, 2, 3]\n",
    "list2 = ['a', 'b', 'c']\n",
    "\n",
    "# Use zip, in a loop, to loop across both collections at the same time\n",
    "for it1, it2 in zip(list1, list2):\n",
    "    print(it1, it2)"
   ]
  },
  {
   "cell_type": "markdown",
   "metadata": {
    "deletable": false,
    "editable": false,
    "nbgrader": {
     "checksum": "33e02bf1346d9a25ef45b00995e441e8",
     "grade": false,
     "grade_id": "cell-9700a95bcd920dbe",
     "locked": true,
     "schema_version": 1,
     "solution": false
    }
   },
   "source": [
    "### Q3 - Functions for Later (1 point)\n",
    "\n",
    "In this section we will write a set of functions that will be useful for us to use later, with our artificial agents."
   ]
  },
  {
   "cell_type": "markdown",
   "metadata": {
    "deletable": false,
    "editable": false,
    "nbgrader": {
     "checksum": "99140ff352d65da64678d8bfb6df69b9",
     "grade": false,
     "grade_id": "cell-4953b671db745c9e",
     "locked": true,
     "schema_version": 1,
     "solution": false
    }
   },
   "source": [
    "### a) Add Lists\n",
    "\n",
    "Write a function called `add_lists`.\n",
    "\n",
    "Input(s):\n",
    "- `list1` - list of numbers\n",
    "- `list2` - list of numbers\n",
    "\n",
    "Output(s):\n",
    "- `ouput` - list of numbers\n",
    "\n",
    "Procedure(s):\n",
    "- Initialize a new list `output`\n",
    "- Using `zip`, loop through elements of both `list1` and `list2`\n",
    "    - In each iteration, append the sum of the elements to `output`\n",
    "- Return `output`"
   ]
  },
  {
   "cell_type": "code",
   "execution_count": null,
   "metadata": {
    "deletable": false,
    "nbgrader": {
     "checksum": "7c298a662bb154788a64fb6b2493f8ed",
     "grade": false,
     "grade_id": "cell-963c45abb408116d",
     "locked": false,
     "schema_version": 1,
     "solution": true
    }
   },
   "outputs": [],
   "source": [
    "# YOUR CODE HERE\n",
    "raise NotImplementedError()"
   ]
  },
  {
   "cell_type": "code",
   "execution_count": null,
   "metadata": {
    "deletable": false,
    "editable": false,
    "nbgrader": {
     "checksum": "2730b06d46c2c32b802982c1c096293d",
     "grade": true,
     "grade_id": "cell-8292112216198a1c",
     "locked": true,
     "points": 0.125,
     "schema_version": 1,
     "solution": false
    }
   },
   "outputs": [],
   "source": [
    "assert callable(add_lists)\n",
    "assert [1, 1] == add_lists([0, 0], [1, 1])"
   ]
  },
  {
   "cell_type": "code",
   "execution_count": null,
   "metadata": {
    "deletable": false,
    "editable": false,
    "nbgrader": {
     "checksum": "bd5404fb3d915e7d762c9dfe2453dbed",
     "grade": true,
     "grade_id": "cell-b58ee755032740d8",
     "locked": true,
     "points": 0.125,
     "schema_version": 1,
     "solution": false
    }
   },
   "outputs": [],
   "source": [
    "assert callable(add_lists)\n"
   ]
  },
  {
   "cell_type": "markdown",
   "metadata": {
    "deletable": false,
    "editable": false,
    "nbgrader": {
     "checksum": "543ca6345ffb7649897936ad3ecae211",
     "grade": false,
     "grade_id": "cell-dee1719168c21b2b",
     "locked": true,
     "schema_version": 1,
     "solution": false
    }
   },
   "source": [
    "#### b)  Check Bounds\n",
    "\n",
    "Write a function called `check_bounds`.\n",
    "\n",
    "We will be using this function later in our bots. It checks whether a position, given as, for example [2, 3] is within the bounds of a grid of a particular size (say, a 4 x 4 square grid). \n",
    "\n",
    "Input(s):\n",
    "- `position` - list of int\n",
    "- `size` - int\n",
    "\n",
    "Output(s):\n",
    "- `boolean`\n",
    "\n",
    "Procedure(s):\n",
    "- Loop across each element in `position`.\n",
    "    - Check if the element is less than 0, or greater than or equal to `size`\n",
    "        - If so, return `False`\n",
    "- Outside and after the loop, return `True`\n",
    "\n",
    "Note that this means the function will return `False` if any element is outside the specified bounds. \n",
    "\n",
    "After checking all elements, if it hasn't returned yet, it returns `True` to indicate all elements are indeed within the bounds. "
   ]
  },
  {
   "cell_type": "code",
   "execution_count": null,
   "metadata": {
    "deletable": false,
    "nbgrader": {
     "checksum": "cba9979b29a401c35e89bacc901af7fd",
     "grade": false,
     "grade_id": "cell-c3819c01e4c3834f",
     "locked": false,
     "schema_version": 1,
     "solution": true
    }
   },
   "outputs": [],
   "source": [
    "# YOUR CODE HERE\n",
    "raise NotImplementedError()"
   ]
  },
  {
   "cell_type": "code",
   "execution_count": null,
   "metadata": {
    "deletable": false,
    "editable": false,
    "nbgrader": {
     "checksum": "486dc8ef8dfeb8555f926da7fb0360e2",
     "grade": true,
     "grade_id": "cell-14c64b8bf77e81e1",
     "locked": true,
     "points": 0.125,
     "schema_version": 1,
     "solution": false
    }
   },
   "outputs": [],
   "source": [
    "assert callable(check_bounds)\n",
    "assert check_bounds([0, 0], 5)\n",
    "assert not check_bounds([0, -1], 5)\n",
    "assert not check_bounds([0, 5], 5)"
   ]
  },
  {
   "cell_type": "code",
   "execution_count": null,
   "metadata": {
    "deletable": false,
    "editable": false,
    "nbgrader": {
     "checksum": "0d602685d0de58a038c4c3bee94bc71b",
     "grade": true,
     "grade_id": "cell-9abffa396093fb52",
     "locked": true,
     "points": 0.125,
     "schema_version": 1,
     "solution": false
    }
   },
   "outputs": [],
   "source": [
    "assert callable(check_bounds)\n"
   ]
  },
  {
   "cell_type": "markdown",
   "metadata": {
    "deletable": false,
    "editable": false,
    "nbgrader": {
     "checksum": "bb81402b6645d8d8367180e2b0aea908",
     "grade": false,
     "grade_id": "cell-8be1de030251012d",
     "locked": true,
     "schema_version": 1,
     "solution": false
    }
   },
   "source": [
    "## Part 2: Classes\n",
    "\n",
    "In this section we will be working with classes - building several classes to solve a variety of problems."
   ]
  },
  {
   "cell_type": "markdown",
   "metadata": {
    "deletable": false,
    "editable": false,
    "nbgrader": {
     "checksum": "4bddc784fe564cab5b8a59021dc63b2c",
     "grade": false,
     "grade_id": "cell-d904cb8f943ae986",
     "locked": true,
     "schema_version": 1,
     "solution": false
    }
   },
   "source": [
    "### Q4 - Creating a Class\n",
    "\n",
    "We can start with a class object to make a 'schedule book' for our course Office Hours. \n",
    "\n",
    "Create a class called `OfficeHours`\n",
    "\n",
    "- Class Attributes:\n",
    "    - `course`, which has the value \"COGS18\"\n",
    "- Instance Attibutes:\n",
    "    - `name` : string\n",
    "    - `day` : string\n",
    "    - `time` : string\n",
    "    - `place` : string\n",
    "    - Note: all these attributes should be passed into the `__init__`, and attached to the object in there.\n",
    "- Method\n",
    "    - `check()`\n",
    "        - This method should print out information, to look something like:\n",
    "            - `Tom's office hours are on Tuesday at 12:30 in CSB115.`\n",
    "            - Note that this should use the instance attributes to print out `name`, `day`, `time` & `place` of the particular instance. "
   ]
  },
  {
   "cell_type": "code",
   "execution_count": null,
   "metadata": {
    "deletable": false,
    "nbgrader": {
     "checksum": "f4076f01fbb5b118f6b22b9130782684",
     "grade": false,
     "grade_id": "cell-f06ec2d16a49f1ee",
     "locked": false,
     "schema_version": 1,
     "solution": true
    }
   },
   "outputs": [],
   "source": [
    "# YOUR CODE HERE\n",
    "raise NotImplementedError()"
   ]
  },
  {
   "cell_type": "code",
   "execution_count": null,
   "metadata": {
    "deletable": false,
    "editable": false,
    "nbgrader": {
     "checksum": "8d3a35f663c6172766fd7ebc5cef4e59",
     "grade": true,
     "grade_id": "cell-d3cf3d375111f7b4",
     "locked": true,
     "points": 0.5,
     "schema_version": 1,
     "solution": false
    }
   },
   "outputs": [],
   "source": [
    "assert OfficeHours\n",
    "assert OfficeHours('name', 'day', 'time', 'room')\n",
    "\n",
    "name = \"Instructor\"\n",
    "day = \"Tuesday\"\n",
    "time = \"12:30\"\n",
    "place = \"CSB115\"\n",
    "\n",
    "test_oh = OfficeHours(name, day, time, place)\n",
    "assert isinstance(test_oh, OfficeHours)\n",
    "\n",
    "assert test_oh.course == \"COGS18\"\n",
    "assert test_oh.name == name\n",
    "assert test_oh.day == day\n",
    "assert test_oh.time == time\n",
    "assert test_oh.place == place"
   ]
  },
  {
   "cell_type": "markdown",
   "metadata": {
    "deletable": false,
    "editable": false,
    "nbgrader": {
     "checksum": "0ae3583054319154ba38d79a087e4aad",
     "grade": false,
     "grade_id": "cell-02fedb5315a6913a",
     "locked": true,
     "schema_version": 1,
     "solution": false
    }
   },
   "source": [
    "Here is a list of some office hours:\n",
    "- Tom - Monday @ 12:30 in SDSC 212e\n",
    "- Rob - Wednesday @ 2:00 in CSB 114\n",
    "- Daril - Tuesday @ 10:00 in CSB 115\n",
    "- Paolo - Friday @ 1:00 in CSB 106\n",
    "\n",
    "Create a new instance of the OfficeHours class for each of the office hours listed above. \n",
    "\n",
    "Then store each of these instances together in a list called `all_office_hours`. "
   ]
  },
  {
   "cell_type": "code",
   "execution_count": null,
   "metadata": {
    "deletable": false,
    "nbgrader": {
     "checksum": "92057de28c36043a97c4124381a740f7",
     "grade": false,
     "grade_id": "cell-1e6eedb1e6abfc8a",
     "locked": false,
     "schema_version": 1,
     "solution": true
    }
   },
   "outputs": [],
   "source": [
    "# YOUR CODE HERE\n",
    "raise NotImplementedError()"
   ]
  },
  {
   "cell_type": "code",
   "execution_count": null,
   "metadata": {
    "deletable": false,
    "editable": false,
    "nbgrader": {
     "checksum": "61805aa25188fd46436f4f56cf96066b",
     "grade": true,
     "grade_id": "cell-0d1c726578e814b6",
     "locked": true,
     "points": 0.25,
     "schema_version": 1,
     "solution": false
    }
   },
   "outputs": [],
   "source": [
    "assert isinstance(all_office_hours, list)\n",
    "assert len(all_office_hours) == 4\n",
    "for item in all_office_hours:\n",
    "    assert isinstance(item, OfficeHours)\n",
    "    assert item.name in ['Tom', 'Rob', 'Daril', 'Paolo']"
   ]
  },
  {
   "cell_type": "markdown",
   "metadata": {
    "deletable": false,
    "editable": false,
    "nbgrader": {
     "checksum": "32c83471cb719d42cb6d1567c8293b81",
     "grade": false,
     "grade_id": "cell-e13c24c39fe5aace",
     "locked": true,
     "schema_version": 1,
     "solution": false
    }
   },
   "source": [
    "Now write a function called `check_all` that will take in a list of OfficeHour objects, and will call the `check` method on each one, using a loop to loop across each element in the input list. \n",
    "\n",
    "Call this function on your `all_office_hours` list to make sure that it works as expected. \n",
    "\n",
    "You should see that running this function prints out a string of information for each object, that looks like:\n",
    "\n",
    "    Tom's office hours are on Monday at 12:30 in SDSC 212e.\n",
    "    Rob's office hours are on Wednesday at 2:00 in CSB 114.\n",
    "    Daril's office hours are on Tuesday at 10:00 in CSB 115.\n",
    "    Paolo's office hours are on Friday at 1:00 in CSB 106."
   ]
  },
  {
   "cell_type": "code",
   "execution_count": null,
   "metadata": {
    "deletable": false,
    "nbgrader": {
     "checksum": "31474ee11d4327b209036d79e7168557",
     "grade": false,
     "grade_id": "cell-a15125e97cf0fb41",
     "locked": false,
     "schema_version": 1,
     "solution": true
    }
   },
   "outputs": [],
   "source": [
    "# YOUR CODE HERE\n",
    "raise NotImplementedError()"
   ]
  },
  {
   "cell_type": "code",
   "execution_count": null,
   "metadata": {
    "deletable": false,
    "editable": false,
    "nbgrader": {
     "checksum": "c9d3c49d2ccd0e5d0c7b9b6dbc2b0e36",
     "grade": true,
     "grade_id": "cell-28be786a12365f0a",
     "locked": true,
     "points": 0.25,
     "schema_version": 1,
     "solution": false
    }
   },
   "outputs": [],
   "source": [
    "assert callable(check_all)"
   ]
  },
  {
   "cell_type": "markdown",
   "metadata": {
    "deletable": false,
    "editable": false,
    "nbgrader": {
     "checksum": "11e1fa2a861b545b413ffdd3fce1d093",
     "grade": false,
     "grade_id": "cell-197f1611138f9532",
     "locked": true,
     "schema_version": 1,
     "solution": false
    }
   },
   "source": [
    "### Q5 - Car Inventory\n",
    "\n",
    "For this question you will create an object to store information on an inventory of cars.  \n",
    "\n",
    "Create a class called `CarInventory`\n",
    "\n",
    "- Instance Attibutes:\n",
    "    - `n_cars` : int\n",
    "    - `cars` : list\n",
    "- Methods\n",
    "    - `add_car()`\n",
    "    - `compare()`\n",
    "\n",
    "Details:\n",
    "- The constructor (`__init__`) should take no inputs, but set `n_cars` to 0, and `cars` to be `[]` (an empty list). \n",
    "\n",
    "#### Method: `add_car`\n",
    "\n",
    "Input(s):\n",
    "- `manufacturer` : string\n",
    "- `model` : string\n",
    "- `year` : int\n",
    "- `mpg` : float\n",
    "\n",
    "Procedure(s):\n",
    "- Create a dictionary from the values passed with the corresponding keys 'manufacturer', 'model', 'year' and 'mpg'\n",
    "- Append this dictionary to the `cars` attribute\n",
    "- Increment the `n_cars` attribute by 1\n",
    "\n",
    "#### Method: `compare`\n",
    "\n",
    "This method will compare all the cars on a specified `attribute` ('year', or 'mpg'), and find the highest and lowest values. It will return either the highest of lowest value, depending on the setting in a parameter `direction`. \n",
    "\n",
    "Input(s):\n",
    "- `attribute` : string\n",
    "- `direction` : string, default: 'highest'\n",
    "\n",
    "Procedure(s):\n",
    "- Initialize a variable called `lowest` to be the 0th element of `cars`, and another variable `highest` to be the same\n",
    "- Loop through each car in cars\n",
    "    - If the value of the attribute for the car is less than the car stored as `lowest`, replace `lowest` to be the current car\n",
    "    - Similarly, if the value of the attribute for the car is greater than the car stored as `highest`, replace `highest` to be the current car\n",
    "- After the loop, if the value of `direction` is 'highest', set a new variable `output` to be the variable `highest`\n",
    "    - Else if the value of `direction` is 'lowest', set `output` to be `lowest`\n",
    "- Return `output`"
   ]
  },
  {
   "cell_type": "code",
   "execution_count": null,
   "metadata": {
    "deletable": false,
    "nbgrader": {
     "checksum": "3da2f04803aa85c5100f33367d10b604",
     "grade": false,
     "grade_id": "cell-ee3c53999194976f",
     "locked": false,
     "schema_version": 1,
     "solution": true
    }
   },
   "outputs": [],
   "source": [
    "# YOUR CODE HERE\n",
    "raise NotImplementedError()"
   ]
  },
  {
   "cell_type": "code",
   "execution_count": null,
   "metadata": {
    "deletable": false,
    "editable": false,
    "nbgrader": {
     "checksum": "a18dc9bf83a9d89a197e08f496a3c29d",
     "grade": true,
     "grade_id": "cell-263ab69b51816cfb",
     "locked": true,
     "points": 0.25,
     "schema_version": 1,
     "solution": false
    }
   },
   "outputs": [],
   "source": [
    "# Tests for the object\n",
    "assert CarInventory\n",
    "test_car_inv = CarInventory()\n",
    "assert isinstance(test_car_inv, CarInventory)\n",
    "assert test_car_inv.n_cars == 0\n",
    "assert isinstance(test_car_inv.cars, list)"
   ]
  },
  {
   "cell_type": "code",
   "execution_count": null,
   "metadata": {
    "deletable": false,
    "editable": false,
    "nbgrader": {
     "checksum": "e5fc4e5e30f40124f7388a3613306c46",
     "grade": true,
     "grade_id": "cell-5c075163f90c2c29",
     "locked": true,
     "points": 0.25,
     "schema_version": 1,
     "solution": false
    }
   },
   "outputs": [],
   "source": [
    "# Tests for add_car method\n",
    "test_inv = CarInventory()\n",
    "test_inv.add_car('Toyota', 'Prius', 2012, 36)\n",
    "assert test_inv.n_cars == 1\n",
    "assert test_inv.cars[0] == {'manufacturer': 'Toyota', 'model': 'Prius', 'year': 2012, 'mpg':36}"
   ]
  },
  {
   "cell_type": "code",
   "execution_count": null,
   "metadata": {
    "deletable": false,
    "editable": false,
    "nbgrader": {
     "checksum": "e0a57661ca203a661f13be26b59b7cd3",
     "grade": true,
     "grade_id": "cell-d6220a6cb5c68e01",
     "locked": true,
     "points": 0.25,
     "schema_version": 1,
     "solution": false
    }
   },
   "outputs": [],
   "source": [
    "# Tests for compare method\n",
    "test_inv = CarInventory()\n",
    "test_inv.add_car('Toyota', 'Prius', 2012, 36)\n",
    "test_inv.add_car('BMW', 'M3', 2017, 27)\n",
    "assert test_inv.compare('mpg') == {'manufacturer': 'Toyota', 'model': 'Prius', 'year': 2012, 'mpg': 36}\n",
    "assert test_inv.compare('year', 'lowest') == {'manufacturer': 'Toyota', 'model': 'Prius', 'year': 2012, 'mpg': 36}"
   ]
  },
  {
   "cell_type": "markdown",
   "metadata": {
    "deletable": false,
    "editable": false,
    "nbgrader": {
     "checksum": "673c858f56fdb37e999e40f88d510951",
     "grade": false,
     "grade_id": "cell-e5108776548f5324",
     "locked": true,
     "schema_version": 1,
     "solution": false
    }
   },
   "source": [
    "#### b) Using our class\n",
    "\n",
    "Using the `inventory` instance created for you in the cell below, do the following:\n",
    "\n",
    "- Use `compare` to get the car with the highest mpg, and get the manufacturer of that car from the returned car\n",
    "    - Store the answer in a variable called `highest_mpg`\n",
    "- Use `compare` to get the car with the lowest year, and get the model of that car from the returned car\n",
    "    - Store the answer in a variable called `oldest_car`"
   ]
  },
  {
   "cell_type": "code",
   "execution_count": null,
   "metadata": {
    "deletable": false,
    "editable": false,
    "nbgrader": {
     "checksum": "543782feebbecb1f701728e324611a38",
     "grade": false,
     "grade_id": "cell-a711d40c884a08f2",
     "locked": true,
     "schema_version": 1,
     "solution": false
    }
   },
   "outputs": [],
   "source": [
    "# The following code provided for you\n",
    "inventory = CarInventory()\n",
    "inventory.add_car('Ford', 'Mustang', 2004, 20)\n",
    "inventory.add_car('Honda', 'Civic', 2014, 40)\n",
    "inventory.add_car('Toyota', 'Corrolla', 2010, 50)\n",
    "inventory.add_car('Tesla', 'S', 2017, 1000)"
   ]
  },
  {
   "cell_type": "code",
   "execution_count": null,
   "metadata": {
    "deletable": false,
    "editable": false,
    "nbgrader": {
     "checksum": "add2cc238eb1b251addb966f01227043",
     "grade": false,
     "grade_id": "cell-0bdcf9c323bf861e",
     "locked": true,
     "schema_version": 1,
     "solution": false
    }
   },
   "outputs": [],
   "source": [
    "# Example: Get the least efficient car (lowest mpg)\n",
    "inventory.compare('mpg', 'lowest')"
   ]
  },
  {
   "cell_type": "code",
   "execution_count": null,
   "metadata": {
    "deletable": false,
    "editable": false,
    "nbgrader": {
     "checksum": "b2405d48639cf639b8f9cd399ac462ef",
     "grade": false,
     "grade_id": "cell-482933589fa7f291",
     "locked": true,
     "schema_version": 1,
     "solution": false
    }
   },
   "outputs": [],
   "source": [
    "# Example: Get the newest car (highest year), and extract it's mpg\n",
    "inventory.compare('year', 'highest')['mpg']"
   ]
  },
  {
   "cell_type": "code",
   "execution_count": null,
   "metadata": {
    "deletable": false,
    "nbgrader": {
     "checksum": "4a60f7a1f015d7766b62f3c5d0ff8767",
     "grade": false,
     "grade_id": "cell-897c71f409af5d6f",
     "locked": false,
     "schema_version": 1,
     "solution": true
    }
   },
   "outputs": [],
   "source": [
    "# YOUR CODE HERE\n",
    "raise NotImplementedError()"
   ]
  },
  {
   "cell_type": "code",
   "execution_count": null,
   "metadata": {
    "deletable": false,
    "editable": false,
    "nbgrader": {
     "checksum": "3185e5fd22c1a62f0f1e41560c911668",
     "grade": true,
     "grade_id": "cell-267cad251209709d",
     "locked": true,
     "points": 0.125,
     "schema_version": 1,
     "solution": false
    }
   },
   "outputs": [],
   "source": [
    "assert isinstance(highest_mpg, str)\n",
    "assert highest_mpg in ['Ford', 'Honda', 'Toyota', 'Tesla']\n",
    "\n",
    "assert isinstance(oldest_car, str)\n",
    "assert oldest_car in ['Mustang', 'Civic', 'Corrola', 'S']"
   ]
  },
  {
   "cell_type": "code",
   "execution_count": null,
   "metadata": {
    "deletable": false,
    "editable": false,
    "nbgrader": {
     "checksum": "1136aacb1be1874bcc2bb539bb7da51a",
     "grade": true,
     "grade_id": "cell-eb60b6d2c9e2ec00",
     "locked": true,
     "points": 0.125,
     "schema_version": 1,
     "solution": false
    }
   },
   "outputs": [],
   "source": [
    "assert highest_mpg\n",
    "assert oldest_car\n"
   ]
  },
  {
   "cell_type": "markdown",
   "metadata": {
    "deletable": false,
    "editable": false,
    "nbgrader": {
     "checksum": "dddfa133ba6f8099402a1e6259d5499b",
     "grade": false,
     "grade_id": "cell-99f033fceb8993f5",
     "locked": true,
     "schema_version": 1,
     "solution": false
    }
   },
   "source": [
    "### Example: Class Inheritance\n",
    "\n",
    "The following is an extra example of class inheritance. "
   ]
  },
  {
   "cell_type": "code",
   "execution_count": null,
   "metadata": {
    "deletable": false,
    "editable": false,
    "nbgrader": {
     "checksum": "76b754f4ed28230e75f8f013b3614196",
     "grade": false,
     "grade_id": "cell-ad1e0fed96d4165d",
     "locked": true,
     "schema_version": 1,
     "solution": false
    }
   },
   "outputs": [],
   "source": [
    "class TritonCourse:\n",
    "    \n",
    "    university = \"UC San Diego\"\n",
    "    \n",
    "    def __init__(self, department, code, title):\n",
    "        \"\"\"\n",
    "        department: string\n",
    "        code: int\n",
    "        title: string\n",
    "        \"\"\"\n",
    "    \n",
    "        self.department = department\n",
    "        self.code = code\n",
    "        self.title = title\n",
    "    \n",
    "    def print_info(self):\n",
    "        print(self.department + str(self.code) + ': ' + self.title)"
   ]
  },
  {
   "cell_type": "code",
   "execution_count": null,
   "metadata": {
    "deletable": false,
    "editable": false,
    "nbgrader": {
     "checksum": "f948bfe4f66215f493ed54ebdf45d570",
     "grade": false,
     "grade_id": "cell-608661027b9e532b",
     "locked": true,
     "schema_version": 1,
     "solution": false
    }
   },
   "outputs": [],
   "source": [
    "# By passing in `TritonCourse` to our new class, we create a derived class that inherits from `TritonCourse`\n",
    "class TritonProgCourse(TritonCourse):\n",
    "\n",
    "    def __init__(self, department, code, title, language):\n",
    "        \n",
    "        # Call the initializer from the class we inherited from\n",
    "        #  `super` refers to the class that this class inherits from\n",
    "        super().__init__(department, code, title)\n",
    "        \n",
    "        # Add a new instance attribute to our derived class\n",
    "        self.language = language"
   ]
  },
  {
   "cell_type": "code",
   "execution_count": null,
   "metadata": {
    "deletable": false,
    "editable": false,
    "nbgrader": {
     "checksum": "b8fdee103e859eaa6ee84232c8d64c47",
     "grade": false,
     "grade_id": "cell-8888d72108dae7c3",
     "locked": true,
     "schema_version": 1,
     "solution": false
    }
   },
   "outputs": [],
   "source": [
    "# Example: create an instance from our derived class\n",
    "cogs18 = TritonProgCourse('COGS', 18, 'Introduction to Python', 'Python')"
   ]
  },
  {
   "cell_type": "code",
   "execution_count": null,
   "metadata": {
    "deletable": false,
    "editable": false,
    "nbgrader": {
     "checksum": "77444f3834c004dcedfd3f49c2b6d331",
     "grade": false,
     "grade_id": "cell-1eec4fb056fe8b3e",
     "locked": true,
     "schema_version": 1,
     "solution": false
    }
   },
   "outputs": [],
   "source": [
    "# Note that our derived class inherits any class attributes & methods from the inherited class\n",
    "print(cogs18.university)\n",
    "cogs18.print_info()"
   ]
  },
  {
   "cell_type": "code",
   "execution_count": null,
   "metadata": {
    "deletable": false,
    "editable": false,
    "nbgrader": {
     "checksum": "2bb727bf8af204255d504b060a5240a4",
     "grade": false,
     "grade_id": "cell-d2555f0e5e863ab5",
     "locked": true,
     "schema_version": 1,
     "solution": false
    }
   },
   "outputs": [],
   "source": [
    "# Our derived class also has any extra and unique attributes and/or methods that we add to it\n",
    "cogs18.language"
   ]
  },
  {
   "cell_type": "code",
   "execution_count": null,
   "metadata": {
    "deletable": false,
    "editable": false,
    "nbgrader": {
     "checksum": "65e5b421ee0bff3a671265ad0cb117ff",
     "grade": false,
     "grade_id": "cell-d562f79079675904",
     "locked": true,
     "schema_version": 1,
     "solution": false
    }
   },
   "outputs": [],
   "source": [
    "# We can check that our course is both an instance of 'TritonCourse', and of 'TritonProgCourse'\n",
    "print(isinstance(cogs18, TritonCourse))\n",
    "print(isinstance(cogs18, TritonProgCourse))"
   ]
  },
  {
   "cell_type": "markdown",
   "metadata": {
    "deletable": false,
    "editable": false,
    "nbgrader": {
     "checksum": "ac12b45eeac07f52bbced8ba25e003b1",
     "grade": false,
     "grade_id": "cell-91765320f00aafca",
     "locked": true,
     "schema_version": 1,
     "solution": false
    }
   },
   "source": [
    "### Q6 - Extending our Class through Inheritance (0.5 points)\n",
    "\n",
    "Create a `TritonCogsCourse` class that inherits from `TritonCourse`.\n",
    "\n",
    "You can model your answer to this based on how we made `TritonProgCourse` above.\n",
    "\n",
    "`TritonCogsCourse` should inherit from `TritonCourse` and calls it's super's `__init__`. \n",
    "\n",
    "In addition, in it's own `__init__`, it should take an extra parameter called `area`, which will store which area of Cognitive Science the class is related to. \n",
    "\n",
    "`area` should have a default value of `None`. \n",
    "\n",
    "Finally, add a method called `has_area` that returns `True` if the instance has an area defined (is not None), and returns `False` if area is equal to `None`."
   ]
  },
  {
   "cell_type": "code",
   "execution_count": null,
   "metadata": {
    "deletable": false,
    "nbgrader": {
     "checksum": "73a5d6eeb4525bca2aaa5d347151adf8",
     "grade": false,
     "grade_id": "cell-249d571080483d7e",
     "locked": false,
     "schema_version": 1,
     "solution": true
    }
   },
   "outputs": [],
   "source": [
    "# YOUR CODE HERE\n",
    "raise NotImplementedError()"
   ]
  },
  {
   "cell_type": "code",
   "execution_count": null,
   "metadata": {
    "deletable": false,
    "editable": false,
    "nbgrader": {
     "checksum": "30e8110e044e2108f51735952f6fd250",
     "grade": true,
     "grade_id": "cell-1b3efe447d0d6698",
     "locked": true,
     "points": 0.5,
     "schema_version": 1,
     "solution": false
    }
   },
   "outputs": [],
   "source": [
    "assert TritonCogsCourse\n",
    "test_class = TritonCogsCourse('COGS', '108', 'Data Science in Practice')\n",
    "assert test_class"
   ]
  },
  {
   "cell_type": "code",
   "execution_count": null,
   "metadata": {
    "deletable": false,
    "editable": false,
    "nbgrader": {
     "checksum": "a5bbcafccd0cec9de717fbc558c817a5",
     "grade": true,
     "grade_id": "cell-d3dca06625f6275b",
     "locked": true,
     "points": 0.5,
     "schema_version": 1,
     "solution": false
    }
   },
   "outputs": [],
   "source": [
    "cogs108 = TritonCogsCourse('COGS', '108', 'Data Science in Practice', 'Data Science')\n",
    "assert cogs108\n",
    "assert cogs108.area == 'Data Science'\n",
    "assert cogs108.has_area() == True"
   ]
  },
  {
   "cell_type": "markdown",
   "metadata": {
    "deletable": false,
    "editable": false,
    "nbgrader": {
     "checksum": "13e313108f16e31864d71c2edfd89717",
     "grade": false,
     "grade_id": "cell-64515491ae834576",
     "locked": true,
     "schema_version": 1,
     "solution": false
    }
   },
   "source": [
    "## Part 3: Artificial Agents\n",
    "\n",
    "In this last part of the assignment, we will create some 'Bots' - little artificial agents that can move around a predefined space.\n",
    "\n",
    "They will be in the style of PacMan, or little exploration bots. \n",
    "\n",
    "Each of these bots will be able to explore a predefined world, which is a grid of 'dots' (locations).  \n",
    "\n",
    "This grid has labelled locations that can be referenced by a list of integers, with [0, 0] being the top left most corner, and so on.\n",
    "\n",
    "Each bot will have a `move` method, which updates the bot's position, thus moving it around the world.\n",
    "\n",
    "As you start building some bots, there will be a series of test cells that test out your bots on a 'board'. \n",
    "\n",
    "Make sure these cells run to completion without errors - if the cells with `play_board` in them raise an error, there is something wrong with your bot. \n",
    "\n",
    "Note that some errors could come from the functions your wrote above that get used here. "
   ]
  },
  {
   "cell_type": "code",
   "execution_count": null,
   "metadata": {
    "deletable": false,
    "editable": false,
    "nbgrader": {
     "checksum": "3f57cac812370111eaa530c3ef92bcde",
     "grade": false,
     "grade_id": "cell-69ba4de14ba56fb4",
     "locked": true,
     "schema_version": 1,
     "solution": false
    }
   },
   "outputs": [],
   "source": [
    "# This function provided to you to run your bots on a grid world\n",
    "#   You don't have to do anything with this function\n",
    "def play_board(bots, n_iter=25, grid_size=5, sleep_time=0.3):\n",
    "    \"\"\"Run a bot across a board.\n",
    "    \n",
    "    Parameters\n",
    "    ----------\n",
    "    bots : Bot() type or list of Bot() type\n",
    "        One or more bots to be be played on the board\n",
    "    n_iter : int, optional\n",
    "        Number of turns to play on the board. default = 25\n",
    "    grid_size : int, optional\n",
    "        Board size. default = 5\n",
    "    sleep_time : float, optional\n",
    "        Amount of time to pause between turns. default = 0.3.\n",
    "    \"\"\"\n",
    "    \n",
    "    # If input is a single bot, put it in a list so that procedures work\n",
    "    if not isinstance(bots, list):\n",
    "        bots = [bots]\n",
    "    \n",
    "    # Update each bot to know about the grid_size they are on\n",
    "    for bot in bots:\n",
    "        bot.grid_size = grid_size\n",
    "\n",
    "    for it in range(n_iter):\n",
    "\n",
    "        # Create the grid\n",
    "        grid_list = [['.'] * grid_size for ncols in range(grid_size)]\n",
    "        \n",
    "        # Add bot(s) to the grid\n",
    "        for bot in bots:\n",
    "            grid_list[bot.position[0]][bot.position[1]] = bot.character    \n",
    "\n",
    "        # Clear the previous iteration, print the new grid (as a string), and wait\n",
    "        clear_output(True)\n",
    "        print('\\n'.join([' '.join(lst) for lst in grid_list]))\n",
    "        sleep(sleep_time)\n",
    "\n",
    "        # Update bot position(s) for next turn\n",
    "        for bot in bots:\n",
    "            bot.move()"
   ]
  },
  {
   "cell_type": "markdown",
   "metadata": {
    "deletable": false,
    "editable": false,
    "nbgrader": {
     "checksum": "27f93843d783d866eba1d62a5686d42e",
     "grade": false,
     "grade_id": "cell-95088f1402cc4e06",
     "locked": true,
     "schema_version": 1,
     "solution": false
    }
   },
   "source": [
    "### Q7 - Bot Base Class\n",
    "\n",
    "Create a class called `Bot`. This will be our base class for all the bots that we make in this section. \n",
    "\n",
    "- Instance Attibutes:\n",
    "    - `character` - string\n",
    "    - `position` - list of [int, int]\n",
    "    - `moves` - list of list of [int, int]\n",
    "    - `grid_size` - `None` or int\n",
    "\n",
    "Of these instance attributes, only `character` should be taken in as an input to `__init__`, with a default value of 8982.\n",
    "\n",
    "Inside the init:\n",
    "- `self.character` should be set as the `chr` of input `character`\n",
    "- `self.position` should be set to starting position `[0, 0]`\n",
    "- `self.moves` should be set as the list of possible moves, which are `[[-1, 0], [1, 0], [0, 1], [0, -1]]`\n",
    "- `self.grid_size` should be initialized as None"
   ]
  },
  {
   "cell_type": "code",
   "execution_count": null,
   "metadata": {
    "deletable": false,
    "nbgrader": {
     "checksum": "e27297640116c9d81b2dbf602baa91c5",
     "grade": false,
     "grade_id": "cell-5cfb0bb02b42c525",
     "locked": false,
     "schema_version": 1,
     "solution": true
    }
   },
   "outputs": [],
   "source": [
    "# YOUR CODE HERE\n",
    "raise NotImplementedError()"
   ]
  },
  {
   "cell_type": "code",
   "execution_count": null,
   "metadata": {
    "deletable": false,
    "editable": false,
    "nbgrader": {
     "checksum": "49247d56105965db3b6a80ebee007a1b",
     "grade": true,
     "grade_id": "cell-9d8dd2985aac606e",
     "locked": true,
     "points": 0.5,
     "schema_version": 1,
     "solution": false
    }
   },
   "outputs": [],
   "source": [
    "assert Bot()\n",
    "\n",
    "bot = Bot()\n",
    "assert bot.position == [0, 0]\n",
    "assert bot.character == chr(8982)\n",
    "assert bot.moves == [[-1, 0], [1, 0], [0, 1], [0, -1]]\n",
    "assert bot.grid_size == None"
   ]
  },
  {
   "cell_type": "markdown",
   "metadata": {
    "deletable": false,
    "editable": false,
    "nbgrader": {
     "checksum": "be34b1c2781dd3a966a1abc775c11598",
     "grade": false,
     "grade_id": "cell-4644ed6470dd4e6a",
     "locked": true,
     "schema_version": 1,
     "solution": false
    }
   },
   "source": [
    "### Q8 - WanderBot\n",
    "\n",
    "Create a class called `WanderBot`, that inherits from `Bot`. `WanderBot` is a bot that will wander around randomly. \n",
    "\n",
    "- In the `__init__`, it should simply call the init from `super` (and adds no extra instance attributes)\n",
    "- Note that to do this, the `__init__` should take a `character` input, with the same default (8982)\n",
    "    - This value will need to be passed into the super's `__init__`\n",
    "\n",
    "Add two methods to WanderBot:\n",
    "\n",
    "#### Method:  `wander`\n",
    "\n",
    "This method will choose a random move from the possibilities, making sure that move is valid on the current grid.\n",
    "\n",
    "Procedure:\n",
    "- Initialize a boolean variable `has_new_pos` as `False`\n",
    "- Use a while loop, with the condition `not has_new_pos`\n",
    "    - Set a variable `move` as the ouput of calling `random.choice` on `self.moves`\n",
    "    - Add `move` to `self.position`, using `add_lists` (a function we created earlier), and assign the output to a new variable `new_pos`\n",
    "    - Call `check_bounds` on `new_pos`, also passing `self.grid_size` into `check_bounds`\n",
    "        - Assign the output of `check_bounds` to `has_new_pos`\n",
    "        - This will lead to exiting the loop when a valid new position has been assigned\n",
    "- Return `new_pos`\n",
    "\n",
    "#### Method: `move`\n",
    "- No inputs (other than `self`) or outputs, just sets `self.position` to be the output of calling `self.wander()`. "
   ]
  },
  {
   "cell_type": "code",
   "execution_count": null,
   "metadata": {
    "deletable": false,
    "nbgrader": {
     "checksum": "f1c67fba40b89881500358e5b39f45a6",
     "grade": false,
     "grade_id": "cell-747d932ef60403a2",
     "locked": false,
     "schema_version": 1,
     "solution": true
    }
   },
   "outputs": [],
   "source": [
    "# YOUR CODE HERE\n",
    "raise NotImplementedError()"
   ]
  },
  {
   "cell_type": "code",
   "execution_count": null,
   "metadata": {
    "deletable": false,
    "editable": false,
    "nbgrader": {
     "checksum": "8851118fad9e21675146019bc0e10594",
     "grade": true,
     "grade_id": "cell-00c6ff64afe959c8",
     "locked": true,
     "points": 0.5,
     "schema_version": 1,
     "solution": false
    }
   },
   "outputs": [],
   "source": [
    "assert WanderBot\n",
    "wbot = WanderBot()\n",
    "assert wbot"
   ]
  },
  {
   "cell_type": "code",
   "execution_count": null,
   "metadata": {
    "deletable": false,
    "editable": false,
    "nbgrader": {
     "checksum": "3bb47c70d12e50f8125c4c43d5915f4c",
     "grade": true,
     "grade_id": "cell-fa51065257f9a23b",
     "locked": true,
     "points": 0.5,
     "schema_version": 1,
     "solution": false
    }
   },
   "outputs": [],
   "source": [
    "wbot = WanderBot()\n",
    "wbot.grid_size = 3\n",
    "assert wbot.wander()\n",
    "assert isinstance(wbot.wander(), list)\n",
    "wbot.move()\n",
    "assert wbot.position != [0, 0]"
   ]
  },
  {
   "cell_type": "code",
   "execution_count": null,
   "metadata": {
    "deletable": false,
    "editable": false,
    "nbgrader": {
     "checksum": "ef056d51b34a13f436e635ca33dc8249",
     "grade": false,
     "grade_id": "cell-33a0509a54337dd8",
     "locked": true,
     "schema_version": 1,
     "solution": false
    }
   },
   "outputs": [],
   "source": [
    "# Test out our WanderBot\n",
    "#   You should see a 'bot' that steps around different positions randomly\n",
    "bot = WanderBot()\n",
    "play_board(bot, grid_size=5)"
   ]
  },
  {
   "cell_type": "code",
   "execution_count": null,
   "metadata": {
    "deletable": false,
    "editable": false,
    "nbgrader": {
     "checksum": "978a0c28ef255f4ced686b1abb1e63e0",
     "grade": false,
     "grade_id": "cell-7658eb0e9fa2a420",
     "locked": true,
     "schema_version": 1,
     "solution": false
    }
   },
   "outputs": [],
   "source": [
    "# Test out running a group of WanderBots\n",
    "bots = [WanderBot(character=1175), WanderBot(character=1175), WanderBot(character=1175)]\n",
    "play_board(bots, grid_size=8, n_iter=25)"
   ]
  },
  {
   "cell_type": "markdown",
   "metadata": {
    "deletable": false,
    "editable": false,
    "nbgrader": {
     "checksum": "51c3eccc1610fa31bbfd17b32a4fe48a",
     "grade": false,
     "grade_id": "cell-410b07468df052b1",
     "locked": true,
     "schema_version": 1,
     "solution": false
    }
   },
   "source": [
    "### Example: Random Probabilistic Choices\n",
    "\n",
    "For our next bot, we want to be able to make random choice, but with a specified probability. \n",
    "\n",
    "We will use a quick trick to do so:\n",
    "- from the `random` module, we can use the `random()` function to uniformly sample a decimal between 0 and 1\n",
    "- by checking if that random sample is below some value `prob`, we will (on average) make that choice `prob` % of the time\n",
    "\n",
    "An example of this idea is shown below. "
   ]
  },
  {
   "cell_type": "code",
   "execution_count": null,
   "metadata": {
    "deletable": false,
    "editable": false,
    "nbgrader": {
     "checksum": "2da6c416ec2d003d1046a23b30c85d9c",
     "grade": false,
     "grade_id": "cell-e1747e69fa7ea43c",
     "locked": true,
     "schema_version": 1,
     "solution": false
    }
   },
   "outputs": [],
   "source": [
    "# Print out a random decimal value between 0 - 1\n",
    "print(random.random())"
   ]
  },
  {
   "cell_type": "code",
   "execution_count": null,
   "metadata": {
    "deletable": false,
    "editable": false,
    "nbgrader": {
     "checksum": "d1157d96f39facb1157f676043784cf7",
     "grade": false,
     "grade_id": "cell-61daab37f488f2dd",
     "locked": true,
     "schema_version": 1,
     "solution": false
    }
   },
   "outputs": [],
   "source": [
    "# Example of a random probabilistic choice with a specified probability\n",
    "if random.random() < 0.75:\n",
    "    print('This will print out 75% of the time')"
   ]
  },
  {
   "cell_type": "markdown",
   "metadata": {
    "deletable": false,
    "editable": false,
    "nbgrader": {
     "checksum": "110af8efaac3313beab9b12626594ef4",
     "grade": false,
     "grade_id": "cell-b0c042f45f3fb76c",
     "locked": true,
     "schema_version": 1,
     "solution": false
    }
   },
   "source": [
    "### Q9 - ExploreBot\n",
    "\n",
    "Create a class called `ExploreBot`, that inherits from `Bot`. \n",
    "\n",
    "`ExploreBot` is a bot that will explore more systematically, generally continuing in the same direction on consecutive steps.\n",
    "\n",
    "- In the `__init__`, it should call the `__init__` from `super`\n",
    "- Note that to do this, the `__init__` should take a `character` input, with the same default (8982)\n",
    "    - This value will need to be passed into the super's `__init__`\n",
    "- The `__init__` should take an extra input, `move_prob` with default value of 0.75\n",
    "- Add `move_prob` as an instance attribute, and also add a new instance attribute `last_move`, that's initialized as `None`\n",
    "\n",
    "Add three methods to ExploreBot:\n",
    "\n",
    "#### Method:  `biased_choice`\n",
    "\n",
    "This method will chose a new move, but be biased to chose the same move as was taken on the previous step. \n",
    "\n",
    "Procedure:\n",
    "- Initialize a variable called `move` as `None`\n",
    "- if `self.last_move` is not equal to `None`\n",
    "    - Using the random probability procedure described above, if `random.random()` is less that `self.move_prob`\n",
    "        - Set `move` to be `self.last_move`\n",
    "- if `move` is still None, set `move` to be a random choice of `self.moves`\n",
    "- return `move`\n",
    "\n",
    "#### Method:  `explore`\n",
    "\n",
    "Explore should be the same as the `wander()` method in `WanderBot`, with two differences:\n",
    "- Inside the `while` loop, `move` should be the return of `self.biased_choice()` (instead of `wander()`)\n",
    "- At the end of the `while` loop (inside the loop), set `self.last_move` to `move`\n",
    "\n",
    "####  Method: `move`\n",
    "- No inputs (other than `self`) or outputs, just sets `self.position` to be the output of calling `explore()`. "
   ]
  },
  {
   "cell_type": "code",
   "execution_count": null,
   "metadata": {
    "deletable": false,
    "nbgrader": {
     "checksum": "b65eecd2f2daefb6c9b3ac13bf38c4b8",
     "grade": false,
     "grade_id": "cell-16b747fb49442283",
     "locked": false,
     "schema_version": 1,
     "solution": true
    }
   },
   "outputs": [],
   "source": [
    "# YOUR CODE HERE\n",
    "raise NotImplementedError()"
   ]
  },
  {
   "cell_type": "code",
   "execution_count": null,
   "metadata": {
    "deletable": false,
    "editable": false,
    "nbgrader": {
     "checksum": "7b67d73923900218ca9ece02a31a1360",
     "grade": true,
     "grade_id": "cell-fea668aac2c7f867",
     "locked": true,
     "points": 0.5,
     "schema_version": 1,
     "solution": false
    }
   },
   "outputs": [],
   "source": [
    "assert ExploreBot\n",
    "ebot = ExploreBot()\n",
    "assert ebot\n",
    "assert ebot.last_move == None\n",
    "assert ebot.move_prob == 0.75\n",
    "assert ExploreBot(move_prob=0.5)"
   ]
  },
  {
   "cell_type": "code",
   "execution_count": null,
   "metadata": {
    "deletable": false,
    "editable": false,
    "nbgrader": {
     "checksum": "7072d58b98da72951bfd9db7280ec443",
     "grade": true,
     "grade_id": "cell-2b60bf80b7017e7c",
     "locked": true,
     "points": 0.5,
     "schema_version": 1,
     "solution": false
    }
   },
   "outputs": [],
   "source": [
    "assert ExploreBot\n",
    "\n",
    "ebot = ExploreBot()\n",
    "ebot.grid_size = 3\n",
    "assert ebot.explore()\n",
    "assert isinstance(ebot.explore(), list)\n",
    "ebot.move()\n",
    "assert ebot.position != [0, 0]"
   ]
  },
  {
   "cell_type": "code",
   "execution_count": null,
   "metadata": {
    "deletable": false,
    "editable": false,
    "nbgrader": {
     "checksum": "578fb781c13385aeedbca1d9f0f9076a",
     "grade": false,
     "grade_id": "cell-ade905bac2b6dfb5",
     "locked": true,
     "schema_version": 1,
     "solution": false
    }
   },
   "outputs": [],
   "source": [
    "# Test out our ExploreBot\n",
    "#   You should see a 'bot' that steps around different positions, often moving in the same direction\n",
    "bot = ExploreBot()\n",
    "play_board(bot)"
   ]
  },
  {
   "cell_type": "code",
   "execution_count": null,
   "metadata": {
    "deletable": false,
    "editable": false,
    "nbgrader": {
     "checksum": "51624a1d8b3a0f7a563d2a4af01e15f3",
     "grade": false,
     "grade_id": "cell-b491b62097b02568",
     "locked": true,
     "schema_version": 1,
     "solution": false
    }
   },
   "outputs": [],
   "source": [
    "# Test out running a group of WanderBots & ExploreBots\n",
    "bots = [WanderBot(character=1175), WanderBot(character=1175), \n",
    "        ExploreBot(character=1127), ExploreBot(character=1127)]\n",
    "play_board(bots, grid_size=10, n_iter=50)"
   ]
  },
  {
   "cell_type": "markdown",
   "metadata": {
    "deletable": false,
    "editable": false,
    "nbgrader": {
     "checksum": "fc4a84da3cf355fc6f01c924148e42b5",
     "grade": false,
     "grade_id": "cell-fd0022009892ac02",
     "locked": true,
     "schema_version": 1,
     "solution": false
    }
   },
   "source": [
    "### Q10 - TeleportBot\n",
    "\n",
    "Create a class called `TeleportBot`, that inherits from `WanderBot`.\n",
    "\n",
    "`TeleportBot` is a modified version of `WanderBot`, that will generally wander around randomly, but sometimes teleport to a brand new location.\n",
    "\n",
    "- In the `__init__`, it should call the `__init__` from `super`\n",
    "- Note that to do this, the `__init__` should take a `character` input, with the same default (8982)\n",
    "    - This value will need to be passed into the super's `__init__`\n",
    "- The `__init__` should take an extra input, `tele_prob` with default value of 0.2 \n",
    "    - Add `tele_prob` as an instance attribute\n",
    "\n",
    "Add two methods to `TeleportBot`:\n",
    "\n",
    "####  Method: `teleport`\n",
    "\n",
    "This method will chose a totally random location anywhere on the map, 'teleporting' there.\n",
    "\n",
    "To do so, it needs to return a list of two random numbers that define a location of the map (for the current grid size).\n",
    "\n",
    "Use `random.choice` with `range` and `self.grid_size` to create a list of two randomly chosen numbers within the grid size. \n",
    "\n",
    "Note - this will entail using each of these three things twice - one for each number. \n",
    "\n",
    "Return this list. \n",
    "\n",
    "#### Method: `move`\n",
    "- No inputs (other than `self`) or outputs\n",
    "- Using the random probability procedure from before, use an `if` with `random.random() < self.tele_prob`. \n",
    "    - Inside the `if`, set `self.position` to the ouput of `self.teleport()`\n",
    "- `else`, set `self.position` as the ouput of `self.wander()`\n",
    "    - Note that this bot inherits `wander()` from it's super (`WanderBot`)"
   ]
  },
  {
   "cell_type": "code",
   "execution_count": null,
   "metadata": {
    "deletable": false,
    "nbgrader": {
     "checksum": "8447b50a3903daa802d6328c5993a0a8",
     "grade": false,
     "grade_id": "cell-93c8af8e6e7ba78b",
     "locked": false,
     "schema_version": 1,
     "solution": true
    }
   },
   "outputs": [],
   "source": [
    "# YOUR CODE HERE\n",
    "raise NotImplementedError()"
   ]
  },
  {
   "cell_type": "code",
   "execution_count": null,
   "metadata": {
    "deletable": false,
    "editable": false,
    "nbgrader": {
     "checksum": "c9862c3cb611cf76af9b8203f27e2681",
     "grade": true,
     "grade_id": "cell-dc82a096b8ce20ab",
     "locked": true,
     "points": 0.25,
     "schema_version": 1,
     "solution": false
    }
   },
   "outputs": [],
   "source": [
    "assert TeleportBot\n",
    "tbot = TeleportBot()\n",
    "assert tbot\n",
    "assert tbot.tele_prob == 0.2\n",
    "assert TeleportBot(tele_prob=0.5)"
   ]
  },
  {
   "cell_type": "code",
   "execution_count": null,
   "metadata": {
    "deletable": false,
    "editable": false,
    "nbgrader": {
     "checksum": "696f55c7774ee732e1667e9e4adb613b",
     "grade": true,
     "grade_id": "cell-454c3e8671e4c163",
     "locked": true,
     "points": 0.25,
     "schema_version": 1,
     "solution": false
    }
   },
   "outputs": [],
   "source": [
    "assert TeleportBot\n",
    "\n",
    "tbot = TeleportBot()\n",
    "tbot.grid_size = 3\n",
    "assert tbot.teleport()\n",
    "assert isinstance(tbot.teleport(), list)\n",
    "tbot.move()\n",
    "assert tbot.position != [0, 0]"
   ]
  },
  {
   "cell_type": "code",
   "execution_count": null,
   "metadata": {
    "deletable": false,
    "editable": false,
    "nbgrader": {
     "checksum": "ada7f76a6c3e4342ed713e72a5f3a2d9",
     "grade": false,
     "grade_id": "cell-bf810d7bd631afa5",
     "locked": true,
     "schema_version": 1,
     "solution": false
    }
   },
   "outputs": [],
   "source": [
    "# Test out our TeleportBot\n",
    "#   You should see a 'bot' that steps around randomly, sometimes teleporting to a new location\n",
    "bot = TeleportBot()\n",
    "play_board(bot, grid_size=5)"
   ]
  },
  {
   "cell_type": "markdown",
   "metadata": {
    "deletable": false,
    "editable": false,
    "nbgrader": {
     "checksum": "b683d4afae5960d5b7a32defaeb168cb",
     "grade": false,
     "grade_id": "cell-fec9017d614e1655",
     "locked": true,
     "schema_version": 1,
     "solution": false
    }
   },
   "source": [
    "### Running it all together"
   ]
  },
  {
   "cell_type": "code",
   "execution_count": null,
   "metadata": {
    "deletable": false,
    "editable": false,
    "nbgrader": {
     "checksum": "8e5ea8eb06e62cfb0feb3751173b2d97",
     "grade": false,
     "grade_id": "cell-bb997b71ee49a2d4",
     "locked": true,
     "schema_version": 1,
     "solution": false
    }
   },
   "outputs": [],
   "source": [
    "# Define a group of bots\n",
    "bots = [WanderBot(character=1078), WanderBot(character=1078), WanderBot(character=1078),\n",
    "        ExploreBot(character=1127), ExploreBot(character=1127), ExploreBot(character=1127),\n",
    "        TeleportBot(character=1279), TeleportBot(character=1279)]\n",
    "\n",
    "# Play the board with our bot list\n",
    "play_board(bots, grid_size=15, n_iter=50)"
   ]
  },
  {
   "cell_type": "markdown",
   "metadata": {
    "deletable": false,
    "editable": false,
    "nbgrader": {
     "checksum": "7da211626c5f16682ac1cb473e126a8d",
     "grade": false,
     "grade_id": "cell-59afa7155eb2e26f",
     "locked": true,
     "schema_version": 1,
     "solution": false
    }
   },
   "source": [
    "## Extending Our Agents\n",
    "\n",
    "So far, we have some 'artificial agents' that can explore a world, with different strategies to do so.\n",
    "\n",
    "Note that if you want to explore using these bots some more, you can add a new cell, defining a list of bots (changing some inputs to them, if you want to), and use the `play_board` function to run a 'board' (also changing some inputs to `play_board`, if you want to).\n",
    "\n",
    "From here, we could think about ways we could make these agents interact with each other, and/or respond more directly the environment. \n",
    "\n",
    "More broadly - there is any number of ways we could build in more 'cognitive' behaviour, given this starting point.\n",
    "\n",
    "If you are interested in this topic, extending these kinds of 'artificial agents' (or ones like them) is one of your project options."
   ]
  },
  {
   "cell_type": "markdown",
   "metadata": {
    "deletable": false,
    "editable": false,
    "nbgrader": {
     "checksum": "2a4cf847995c37b1b2bc48b360f26ecb",
     "grade": false,
     "grade_id": "cell-ed3a7d420a2cc698",
     "locked": true,
     "schema_version": 1,
     "solution": false
    }
   },
   "source": [
    "## The End!\n",
    "\n",
    "After you've explored running the bots, you are done!\n",
    "\n",
    "Have a look back over your answers, and also make sure to Restart & Run All from the kernel menu to double check that everything is working properly.\n",
    "\n",
    "When you are ready to submit your assignment, upload it to TritonED under Assignment-4."
   ]
  }
 ],
 "metadata": {
  "kernelspec": {
   "display_name": "Python 3",
   "language": "python",
   "name": "python3"
  },
  "language_info": {
   "codemirror_mode": {
    "name": "ipython",
    "version": 3
   },
   "file_extension": ".py",
   "mimetype": "text/x-python",
   "name": "python",
   "nbconvert_exporter": "python",
   "pygments_lexer": "ipython3",
   "version": "3.6.3"
  }
 },
 "nbformat": 4,
 "nbformat_minor": 2
}
