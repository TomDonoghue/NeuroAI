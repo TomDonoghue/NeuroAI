{
 "cells": [
  {
   "cell_type": "markdown",
   "metadata": {
    "deletable": false,
    "editable": false,
    "nbgrader": {
     "checksum": "f7aa6a23308faaed443991c360f708a9",
     "grade": false,
     "grade_id": "cell-08eae0a733656950",
     "locked": true,
     "schema_version": 1,
     "solution": false
    }
   },
   "source": [
    "# Assignment 3: Chatbots"
   ]
  },
  {
   "cell_type": "markdown",
   "metadata": {
    "deletable": false,
    "editable": false,
    "nbgrader": {
     "checksum": "cbcac6fb238ec740650c834e4bcc93ae",
     "grade": false,
     "grade_id": "cell-a58f937c696fa18d",
     "locked": true,
     "schema_version": 1,
     "solution": false
    }
   },
   "source": [
    "## Overview\n",
    "\n",
    "This assignment covers Functions & Algorithms, and builds up to the application of Chatbots. \n",
    "\n",
    "This assignment is out of 8 points, worth 8% of your grade.\n",
    "\n",
    "Make sure your completed assignment passes all the asserts. This assignment also has hidden tests - which means that passing all the asserts you see does not guarantee that you have the correct answer! Make sure to double check and re-run your code to make sure it does what you expect."
   ]
  },
  {
   "cell_type": "markdown",
   "metadata": {
    "deletable": false,
    "editable": false,
    "nbgrader": {
     "checksum": "2ebbd4ed275eaf3ec6c23708871a9423",
     "grade": false,
     "grade_id": "cell-ed15de2db2bbc5c0",
     "locked": true,
     "schema_version": 1,
     "solution": false
    }
   },
   "source": [
    "### Quick Tips\n",
    "\n",
    "Make sure you execute your code to define the functions you write, and then add a new cell to apply your function to different inputs, and check that you get the outputs you expect. \n",
    "\n",
    "If you're not sure where to start, look at the code in the test cases (in the asserts) for examples for what kind of inputs and outputs the function you are writing should take, and what kind of behaviour it should have.\n",
    "\n",
    "Keep in mind that each question is mostly independent from every other - so if you get stuck on something, you can always move on to the next one, and come back to any that you have trouble with later."
   ]
  },
  {
   "cell_type": "markdown",
   "metadata": {
    "deletable": false,
    "editable": false,
    "nbgrader": {
     "checksum": "38e16ce5554c1deabb2625792abb0488",
     "grade": false,
     "grade_id": "cell-564134b0a1d0a91a",
     "locked": true,
     "schema_version": 1,
     "solution": false
    }
   },
   "source": [
    "## Setup"
   ]
  },
  {
   "cell_type": "markdown",
   "metadata": {
    "deletable": false,
    "editable": false,
    "nbgrader": {
     "checksum": "79d7323efebde8b1e59745040aa05512",
     "grade": false,
     "grade_id": "cell-07c8f958ea9f47b5",
     "locked": true,
     "schema_version": 1,
     "solution": false
    }
   },
   "source": [
    "#### Code Imports\n",
    "\n",
    "You must run the following cell before proceeding with the assignment. "
   ]
  },
  {
   "cell_type": "code",
   "execution_count": null,
   "metadata": {
    "deletable": false,
    "editable": false,
    "nbgrader": {
     "checksum": "856f56189eb34e3effd4d7e7f1b307eb",
     "grade": false,
     "grade_id": "cell-d79eb9b76b42d8ac",
     "locked": true,
     "schema_version": 1,
     "solution": false
    }
   },
   "outputs": [],
   "source": [
    "# Setup - run this cell before doing the next part of the assignment\n",
    "#   This imports some extra code, making it available for us to use later\n",
    "import string\n",
    "import random\n",
    "import nltk"
   ]
  },
  {
   "cell_type": "markdown",
   "metadata": {
    "deletable": false,
    "editable": false,
    "nbgrader": {
     "checksum": "2a9dfe7b181e7574dcb74f3276b0cf57",
     "grade": false,
     "grade_id": "cell-467c5c2c4995c775",
     "locked": true,
     "schema_version": 1,
     "solution": false
    }
   },
   "source": [
    "### Zen Chatbot\n",
    "\n",
    "In this assignment, we will be working our way up to building a chatbot.\n",
    "\n",
    "To start with, we can have a quick chat with a zen chatbot, to see what these kinds of chatbots look like. \n",
    "\n",
    "Also, if you get stuck on anything, come back here, and talk to the Zen chatbot, to relax :)\n",
    "\n",
    "Note: in this, and other, chatbot lines, running this code will start an open-ended while loop, that will interupt your code flow, until you explicity quit out of the conversation. If you want to be able to run all your code (from kernel `restart & run all`), then comment these lines back out when you are finished exploring them. "
   ]
  },
  {
   "cell_type": "code",
   "execution_count": null,
   "metadata": {},
   "outputs": [],
   "source": [
    "# Uncomment and run this cell to talk to a Zan Chatbot\n",
    "#nltk.chat.zen.demo()"
   ]
  },
  {
   "cell_type": "markdown",
   "metadata": {
    "deletable": false,
    "editable": false,
    "nbgrader": {
     "checksum": "0507bd1f4f55e435607410f5b254896c",
     "grade": false,
     "grade_id": "cell-a11c701a459782ac",
     "locked": true,
     "schema_version": 1,
     "solution": false
    }
   },
   "source": [
    "## Part 1: Functions \n",
    "\n",
    "This part covers the basics of writing and using functions."
   ]
  },
  {
   "cell_type": "markdown",
   "metadata": {
    "deletable": false,
    "editable": false,
    "nbgrader": {
     "checksum": "3482d954054ff30e8a2ec29f92eeda3f",
     "grade": false,
     "grade_id": "cell-1b82709889d03621",
     "locked": true,
     "schema_version": 1,
     "solution": false
    }
   },
   "source": [
    "### Function Examples\n",
    "\n",
    "The following are a couple examples of functions provided to you, so you can see their structure.\n",
    "\n",
    "You don't need to do anything with these functions."
   ]
  },
  {
   "cell_type": "code",
   "execution_count": null,
   "metadata": {
    "deletable": false,
    "editable": false,
    "nbgrader": {
     "checksum": "752b458dbe57314b9e80637e6174f906",
     "grade": false,
     "grade_id": "cell-723fafc097c2595a",
     "locked": true,
     "schema_version": 1,
     "solution": false
    }
   },
   "outputs": [],
   "source": [
    "def basic_function(input_number):\n",
    "    \"\"\"Multiplies an input number by 2.\"\"\"\n",
    "    \n",
    "    # Multiple the input by 2\n",
    "    output = input_number * 2 \n",
    "    \n",
    "    return output"
   ]
  },
  {
   "cell_type": "code",
   "execution_count": null,
   "metadata": {
    "deletable": false,
    "editable": false,
    "nbgrader": {
     "checksum": "5b5b6ecf08dd3257854f45c7b42dae64",
     "grade": false,
     "grade_id": "cell-13ba8bb63ec78e3e",
     "locked": true,
     "schema_version": 1,
     "solution": false
    }
   },
   "outputs": [],
   "source": [
    "# Test using `basic_function`\n",
    "print(basic_function(2))\n",
    "print(basic_function(5))"
   ]
  },
  {
   "cell_type": "code",
   "execution_count": null,
   "metadata": {
    "deletable": false,
    "editable": false,
    "nbgrader": {
     "checksum": "699bca0a71fba7d51260a0cecf4b1ca5",
     "grade": false,
     "grade_id": "cell-60210727e45d718c",
     "locked": true,
     "schema_version": 1,
     "solution": false
    }
   },
   "outputs": [],
   "source": [
    "def more_complicated_function(input_string):\n",
    "    \"\"\"Counts how many letters are in a string.\"\"\"\n",
    "\n",
    "    letter_count = 0\n",
    "\n",
    "    for item in input_string:\n",
    "        \n",
    "        # Uses the `isalpha` method to check if a character is from the alphabet\n",
    "        if item.isalpha():\n",
    "            \n",
    "            # `+= 1` is a shortcut for `val = val + 1`\n",
    "            letter_count += 1\n",
    "            \n",
    "    return letter_count"
   ]
  },
  {
   "cell_type": "code",
   "execution_count": null,
   "metadata": {
    "deletable": false,
    "editable": false,
    "nbgrader": {
     "checksum": "5cff49a91c8219580554131daaa9cbd4",
     "grade": false,
     "grade_id": "cell-fa146b4b89b7fbd6",
     "locked": true,
     "schema_version": 1,
     "solution": false
    }
   },
   "outputs": [],
   "source": [
    "# Test using `more_complicated_function`\n",
    "print(more_complicated_function('ab45b'))"
   ]
  },
  {
   "cell_type": "markdown",
   "metadata": {
    "deletable": false,
    "editable": false,
    "nbgrader": {
     "checksum": "881e33d2c126a1558c1ae863489a3ba4",
     "grade": false,
     "grade_id": "cell-e7a7c39a4716fdf2",
     "locked": true,
     "schema_version": 1,
     "solution": false
    }
   },
   "source": [
    "### Q1 - Find Max Value  (0.5 points)\n",
    "\n",
    "Write a function called `find_max`, that takes in a single parameter called `random_list`, which should be a list. \n",
    "\n",
    "This function will find the maximum (max) value of the input list, and return it. \n",
    "\n",
    "This function will assume the list is composed of only positive numbers.\n",
    "\n",
    "To find the max, within the function, use a variable called `list_max`, that you initialize to value 0. \n",
    "\n",
    "Then use a `for` loop, to loop through `random_list`. \n",
    "\n",
    "Inside the list, use a conditional to check if the current value is larger than `list_max`, and if so, re-assign `list_max` to store this new value.\n",
    "\n",
    "After the loop, return `list_max`, which should now store the maximum value from within the input list. "
   ]
  },
  {
   "cell_type": "code",
   "execution_count": null,
   "metadata": {
    "deletable": false,
    "nbgrader": {
     "checksum": "581dae803022e87f176448f9cc9bc61b",
     "grade": false,
     "grade_id": "cell-23d051fdc803f0bd",
     "locked": false,
     "schema_version": 1,
     "solution": true
    }
   },
   "outputs": [],
   "source": [
    "# YOUR CODE HERE\n",
    "raise NotImplementedError()"
   ]
  },
  {
   "cell_type": "code",
   "execution_count": null,
   "metadata": {
    "deletable": false,
    "editable": false,
    "nbgrader": {
     "checksum": "f70616fa1d56fe131a114095e2df62cb",
     "grade": true,
     "grade_id": "cell-404d30e1e65b6b83",
     "locked": true,
     "points": 0.25,
     "schema_version": 1,
     "solution": false
    }
   },
   "outputs": [],
   "source": [
    "assert callable(find_max)\n",
    "assert isinstance(find_max([1,7,5]), int)\n",
    "assert find_max([1,7,5]) == 7"
   ]
  },
  {
   "cell_type": "code",
   "execution_count": null,
   "metadata": {
    "deletable": false,
    "editable": false,
    "nbgrader": {
     "checksum": "121481e4ca51a975bacd52534d9191f9",
     "grade": true,
     "grade_id": "cell-f39da4732d3c6281",
     "locked": true,
     "points": 0.25,
     "schema_version": 1,
     "solution": false
    }
   },
   "outputs": [],
   "source": [
    "assert callable(find_max)\n"
   ]
  },
  {
   "cell_type": "markdown",
   "metadata": {
    "deletable": false,
    "editable": false,
    "nbgrader": {
     "checksum": "3afc15f691569a52f8a1c3f68dd7be6c",
     "grade": false,
     "grade_id": "cell-38a3d14601b680c5",
     "locked": true,
     "schema_version": 1,
     "solution": false
    }
   },
   "source": [
    "### Q2 - Square Everything  (0.5 points)\n",
    "\n",
    "Write a function called `square_all` that takes an input called `collection` that you assume to be a list or tuple of numbers. \n",
    "\n",
    "This function should return a new `list`, which contains the square of each value in `collection`. \n",
    "\n",
    "To do so, inside the function, you will define a new list, use a loop to loop through the input list, use an operator to square the current value, and use the `append` method to add this to your output list. After the loop, return the output list."
   ]
  },
  {
   "cell_type": "code",
   "execution_count": null,
   "metadata": {
    "deletable": false,
    "nbgrader": {
     "checksum": "cfd3688ac83a28010b721c0df60da30d",
     "grade": false,
     "grade_id": "cell-5993fedb7f503a6f",
     "locked": false,
     "schema_version": 1,
     "solution": true
    }
   },
   "outputs": [],
   "source": [
    "# YOUR CODE HERE\n",
    "raise NotImplementedError()"
   ]
  },
  {
   "cell_type": "code",
   "execution_count": null,
   "metadata": {
    "deletable": false,
    "editable": false,
    "nbgrader": {
     "checksum": "652d539dfffe056f4e49ed0dc3107870",
     "grade": true,
     "grade_id": "cell-8a86a6f3ec803f9c",
     "locked": true,
     "points": 0.25,
     "schema_version": 1,
     "solution": false
    }
   },
   "outputs": [],
   "source": [
    "assert callable(square_all)\n",
    "assert isinstance(square_all([1, 2]), list)\n",
    "assert square_all((2, 4)) == [4, 16]"
   ]
  },
  {
   "cell_type": "code",
   "execution_count": null,
   "metadata": {
    "deletable": false,
    "editable": false,
    "nbgrader": {
     "checksum": "2ac8b4367d127ba350db601c5d57fbdf",
     "grade": true,
     "grade_id": "cell-09d44aca37e9d05f",
     "locked": true,
     "points": 0.25,
     "schema_version": 1,
     "solution": false
    }
   },
   "outputs": [],
   "source": [
    "assert callable(square_all)\n"
   ]
  },
  {
   "cell_type": "markdown",
   "metadata": {
    "deletable": false,
    "editable": false,
    "nbgrader": {
     "checksum": "55f5feb89f16e9d7a64470e4f4130223",
     "grade": false,
     "grade_id": "cell-8be1de030251012d",
     "locked": true,
     "schema_version": 1,
     "solution": false
    }
   },
   "source": [
    "## Part 2: Refactoring Code to Use Functions\n",
    "\n",
    "'Refactoring' is the process of updating existing computer code, to keep the same outputs, but to have better internal organization and/or properties. \n",
    "\n",
    "We've written a lot of code in previous assignments. However, since we did not yet have functions at our disposal, a lot of that code is not very easy to re-use. \n",
    "\n",
    "In this section we will refactor some code - rewriting (and extending) some code from previous assignments as functions, to make it easier to re-use. "
   ]
  },
  {
   "cell_type": "markdown",
   "metadata": {
    "deletable": false,
    "editable": false,
    "nbgrader": {
     "checksum": "1027dd6abd13cccaec5a7e9e6291f7cf",
     "grade": false,
     "grade_id": "cell-885973b0697cb568",
     "locked": true,
     "schema_version": 1,
     "solution": false
    }
   },
   "source": [
    "### Q3 - Calculator (0.5 points)\n",
    "\n",
    "Let's start with the calculator code that we worked on in A1.\n",
    "\n",
    "Instead of using a conditional, like we did before, we will make a series of functions to do all the mathematical operations that we want to do. \n",
    "\n",
    "Define four functions, called `summation`, `subtraction`, `multiplication`, and `division`. \n",
    "\n",
    "Each of them will take two inputs `num1` and `num2` (that could be `int` or `float`), and use them as follows:\n",
    "- `summation` will add `num1` to `num2` and return the result\n",
    "- `subtraction` will subtract `num2` from `num1` and return the result\n",
    "- `multiplication` will multiply `num1` by `num2` and return the result\n",
    "- `division` will divide `num1` by `num2` and return the result"
   ]
  },
  {
   "cell_type": "code",
   "execution_count": null,
   "metadata": {
    "deletable": false,
    "nbgrader": {
     "checksum": "0b41efbabe21c146104cb6fbc04477a8",
     "grade": false,
     "grade_id": "cell-6da5de076983020f",
     "locked": false,
     "schema_version": 1,
     "solution": true
    }
   },
   "outputs": [],
   "source": [
    "# YOUR CODE HERE\n",
    "raise NotImplementedError()"
   ]
  },
  {
   "cell_type": "code",
   "execution_count": null,
   "metadata": {
    "deletable": false,
    "editable": false,
    "nbgrader": {
     "checksum": "bcdc78ec2643573c41b623a7f2dcd088",
     "grade": true,
     "grade_id": "cell-2db5b9469ddd3f5e",
     "locked": true,
     "points": 0.125,
     "schema_version": 1,
     "solution": false
    }
   },
   "outputs": [],
   "source": [
    "assert callable(summation)\n",
    "assert isinstance(summation(2, 2), int)\n",
    "assert isinstance(summation(2.5, 1), float)\n",
    "assert summation(1, 1) == 2\n"
   ]
  },
  {
   "cell_type": "code",
   "execution_count": null,
   "metadata": {
    "deletable": false,
    "editable": false,
    "nbgrader": {
     "checksum": "04b08c211472bf28826ce8c56d5a9622",
     "grade": true,
     "grade_id": "cell-0e21e32dc2acc953",
     "locked": true,
     "points": 0.125,
     "schema_version": 1,
     "solution": false
    }
   },
   "outputs": [],
   "source": [
    "assert callable(subtraction)\n",
    "assert isinstance(subtraction(2, 2), int)\n",
    "assert isinstance(summation(2.5, 0.5), float)\n",
    "assert subtraction(1, 1) == 0\n"
   ]
  },
  {
   "cell_type": "code",
   "execution_count": null,
   "metadata": {
    "deletable": false,
    "editable": false,
    "nbgrader": {
     "checksum": "d9a6e8e9c86ebbca76006692fb0c56cd",
     "grade": true,
     "grade_id": "cell-89646145e140818b",
     "locked": true,
     "points": 0.125,
     "schema_version": 1,
     "solution": false
    }
   },
   "outputs": [],
   "source": [
    "assert callable(multiplication)\n",
    "assert isinstance(multiplication(2, 2), int)\n",
    "assert isinstance(multiplication(2.5, 2), float)\n",
    "assert multiplication(1, 1) == 1\n"
   ]
  },
  {
   "cell_type": "code",
   "execution_count": null,
   "metadata": {
    "deletable": false,
    "editable": false,
    "nbgrader": {
     "checksum": "0ecec26300abf49866b66d1cd1f23b86",
     "grade": true,
     "grade_id": "cell-065fccebdd8cda04",
     "locked": true,
     "points": 0.125,
     "schema_version": 1,
     "solution": false
    }
   },
   "outputs": [],
   "source": [
    "assert callable(division)\n",
    "assert isinstance(division(2, 2), float)\n",
    "assert isinstance(division(2.5, 0.5), float)\n",
    "assert division(1, 1) == 1\n"
   ]
  },
  {
   "cell_type": "markdown",
   "metadata": {
    "deletable": false,
    "editable": false,
    "nbgrader": {
     "checksum": "c77d72a33f9c7bd6e92602b6e0b7d4c1",
     "grade": false,
     "grade_id": "cell-5ab08f68dc71b58a",
     "locked": true,
     "schema_version": 1,
     "solution": false
    }
   },
   "source": [
    "### Q4 - Extending our Calculator  (0.5 points)\n",
    "\n",
    "Let's now add some more functions to our calculator: \n",
    "\n",
    "- Write a function called `squared` that takes one parameter, called `num`, and returns the square of it. \n",
    "- Write a function called `square_root` that takes one parameter, called `num`, and returns the square root of it. "
   ]
  },
  {
   "cell_type": "code",
   "execution_count": null,
   "metadata": {
    "deletable": false,
    "nbgrader": {
     "checksum": "73a5d6eeb4525bca2aaa5d347151adf8",
     "grade": false,
     "grade_id": "cell-249d571080483d7e",
     "locked": false,
     "schema_version": 1,
     "solution": true
    }
   },
   "outputs": [],
   "source": [
    "# YOUR CODE HERE\n",
    "raise NotImplementedError()"
   ]
  },
  {
   "cell_type": "code",
   "execution_count": null,
   "metadata": {
    "deletable": false,
    "editable": false,
    "nbgrader": {
     "checksum": "eb27dcfec519c3fa99bf368a5ab8b203",
     "grade": true,
     "grade_id": "cell-d9c2b8004a926b36",
     "locked": true,
     "points": 0.25,
     "schema_version": 1,
     "solution": false
    }
   },
   "outputs": [],
   "source": [
    "assert callable(square)\n",
    "assert isinstance(square(2), int)\n",
    "assert square(5) == 25\n"
   ]
  },
  {
   "cell_type": "code",
   "execution_count": null,
   "metadata": {
    "deletable": false,
    "editable": false,
    "nbgrader": {
     "checksum": "63d9e3a4dab2c15b3480cd43cfd516aa",
     "grade": true,
     "grade_id": "cell-259646bd6dbbc035",
     "locked": true,
     "points": 0.25,
     "schema_version": 1,
     "solution": false
    }
   },
   "outputs": [],
   "source": [
    "assert callable(square_root)\n",
    "assert isinstance(square_root(4), float)\n",
    "assert square_root(144) == 12\n"
   ]
  },
  {
   "cell_type": "markdown",
   "metadata": {
    "deletable": false,
    "editable": false,
    "nbgrader": {
     "checksum": "fa41841b8e00ad4c8ffb4e6a37576a91",
     "grade": false,
     "grade_id": "cell-9bbb8063da29deb3",
     "locked": true,
     "schema_version": 1,
     "solution": false
    }
   },
   "source": [
    "### Example: Chaining Functions Together\n",
    "\n",
    "The goal of using functions is partly to be able to re-use code segments. \n",
    "\n",
    "It's also a way to able to flexibly apply and combine different functions together, to build up to more complex and interesting programs. \n",
    "\n",
    "The cell below shows a couple examples of using our calculator functions that we have now defined, in combination with each other. "
   ]
  },
  {
   "cell_type": "code",
   "execution_count": null,
   "metadata": {
    "deletable": false,
    "editable": false,
    "nbgrader": {
     "checksum": "47143cefd1db7e046f70d5a46568507d",
     "grade": false,
     "grade_id": "cell-721029323933293f",
     "locked": true,
     "schema_version": 1,
     "solution": false
    }
   },
   "outputs": [],
   "source": [
    "# Add the multiplication of 2 and 3 to the multiplication of 3 and 4\n",
    "number1 = multiplication(2, 3)\n",
    "number2 = multiplication(3, 4)\n",
    "output1 = summation(number1, number2)\n",
    "print('Output1: \\t', output1)\n",
    "\n",
    "print('')\n",
    "\n",
    "# Note that we can use the outputs of functions directly as inputs to other functions\n",
    "#   Therefore, the above construction is equivalent to the following:\n",
    "output2 = summation(multiplication(2, 3), multiplication(3, 4))\n",
    "print('Output2: \\t', output2)\n",
    "\n",
    "# When we have something like above the functions that are inputs get evaluated first:\n",
    "#   So, first, `multiplication(2, 3)` evaluates as 6, and `multiplication(3, 4)` evaluales as 12\n",
    "#   This then reduces to calling `summation(6, 12)`, which returns our answer of 18"
   ]
  },
  {
   "cell_type": "markdown",
   "metadata": {
    "deletable": false,
    "editable": false,
    "nbgrader": {
     "checksum": "79f0a50c38c8bee389d4d02912a354d6",
     "grade": false,
     "grade_id": "cell-d5566ec96e20686b",
     "locked": true,
     "schema_version": 1,
     "solution": false
    }
   },
   "source": [
    "### Q5 - Using Our Calculator  (0.5 points)\n",
    "\n",
    "Let's now use our new calculator functions to do some calculations!\n",
    "\n",
    "- Add the square of 3 to the square root of 9\n",
    "    - Save the result to a variable called `calc_a`\n",
    "- Subtract the division of 12 by 3 from the the multiplication of 2 and 4\n",
    "    - Save the result to a variable called `calc_b`\n",
    "- Multiply the square root of 16 to the sum of 7 and 9\n",
    "    - Save the result to a variable called `calc_c`\n",
    "- Divide the square of 7 by the square root of 49\n",
    "    - Save the result to a variable called `calc_d`"
   ]
  },
  {
   "cell_type": "code",
   "execution_count": null,
   "metadata": {
    "deletable": false,
    "nbgrader": {
     "checksum": "002c6134313e03b0ab99864d05ebae94",
     "grade": false,
     "grade_id": "cell-78166757e331fd3f",
     "locked": false,
     "schema_version": 1,
     "solution": true
    }
   },
   "outputs": [],
   "source": [
    "# YOUR CODE HERE\n",
    "raise NotImplementedError()"
   ]
  },
  {
   "cell_type": "code",
   "execution_count": null,
   "metadata": {
    "deletable": false,
    "editable": false,
    "nbgrader": {
     "checksum": "bc7036b72d6ba1f8e9761541a61619d1",
     "grade": true,
     "grade_id": "cell-e29a42fbdc3ccdc5",
     "locked": true,
     "points": 0.125,
     "schema_version": 1,
     "solution": false
    }
   },
   "outputs": [],
   "source": [
    "assert calc_a\n",
    "assert isinstance(calc_a, float)\n"
   ]
  },
  {
   "cell_type": "code",
   "execution_count": null,
   "metadata": {
    "deletable": false,
    "editable": false,
    "nbgrader": {
     "checksum": "8d541b14914caa6850a27ad679413a47",
     "grade": true,
     "grade_id": "cell-00d84e7f456e3984",
     "locked": true,
     "points": 0.125,
     "schema_version": 1,
     "solution": false
    }
   },
   "outputs": [],
   "source": [
    "assert calc_b\n",
    "assert isinstance(calc_b, float)\n"
   ]
  },
  {
   "cell_type": "code",
   "execution_count": null,
   "metadata": {
    "deletable": false,
    "editable": false,
    "nbgrader": {
     "checksum": "be4469cd7893f8a9814af5d50506db31",
     "grade": true,
     "grade_id": "cell-c5231a0cfa605a94",
     "locked": true,
     "points": 0.125,
     "schema_version": 1,
     "solution": false
    }
   },
   "outputs": [],
   "source": [
    "assert calc_c\n",
    "assert isinstance(calc_c, float)\n"
   ]
  },
  {
   "cell_type": "code",
   "execution_count": null,
   "metadata": {
    "deletable": false,
    "editable": false,
    "nbgrader": {
     "checksum": "bb9662f1e2308cba0a53eb60ccf1f2ce",
     "grade": true,
     "grade_id": "cell-9b225dabad981fb1",
     "locked": true,
     "points": 0.125,
     "schema_version": 1,
     "solution": false
    }
   },
   "outputs": [],
   "source": [
    "assert calc_d\n",
    "assert isinstance(calc_d, float)\n"
   ]
  },
  {
   "cell_type": "markdown",
   "metadata": {
    "deletable": false,
    "editable": false,
    "nbgrader": {
     "checksum": "1a98b0a182aef64aa0fe639280c96974",
     "grade": false,
     "grade_id": "cell-2231e1b02c9db35e",
     "locked": true,
     "schema_version": 1,
     "solution": false
    }
   },
   "source": [
    "### Calling Functions from Functions\n",
    "\n",
    "In the example above, we were able to refactor our code into re-useable functions. \n",
    "\n",
    "We were then able to use these functions and chain them together to flexibly and extensibly do computation.\n",
    "\n",
    "Next we'll dive into another aspect of writing good modular code: dividing complex tasks into independent functions and then using them together.\n",
    "\n",
    "In practice, this will look like writing lots of and small and specific functions to do simple tasks.\n",
    "\n",
    "We can then use these functions from within other functions build up to being able to do more complex tasks."
   ]
  },
  {
   "cell_type": "markdown",
   "metadata": {
    "deletable": false,
    "editable": false,
    "nbgrader": {
     "checksum": "9b2f3818c9381eeb0390c2018baed995",
     "grade": false,
     "grade_id": "cell-b72503c9394572ce",
     "locked": true,
     "schema_version": 1,
     "solution": false
    }
   },
   "source": [
    "### Q6 - Functions for Even & Positive Numbers (0.5 points)\n",
    "\n",
    "Recall Q13 from A2, when we wanted to check a series of conditions across items in a list. \n",
    "\n",
    "We can consider that checking each of these conditions is really a separate task. \n",
    "\n",
    "When writing modular code, these separate tasks should therefore be organized as separate functions.\n",
    "\n",
    "For this question, write two functions, one called `is_even`, and the other called `is_positive`. \n",
    "\n",
    "Each function should take in a single parameter, a number called `value`:\n",
    "\n",
    "- `is_even` will check if `value` is even, and return `True` if so, and `False` otherwise. \n",
    "- `is_positive` will check if `value` is positive, and return `True` if so, and `False` otherwise. \n",
    "    - Note: for our purposes here, 'positive' numbers are all numbers greater than 0 (so 0 is not considered positive)."
   ]
  },
  {
   "cell_type": "code",
   "execution_count": null,
   "metadata": {
    "deletable": false,
    "nbgrader": {
     "checksum": "5526d5a2b6adaddbb66b19410116927d",
     "grade": false,
     "grade_id": "cell-9224aadc2edad42d",
     "locked": false,
     "schema_version": 1,
     "solution": true
    }
   },
   "outputs": [],
   "source": [
    "# YOUR CODE HERE\n",
    "raise NotImplementedError()"
   ]
  },
  {
   "cell_type": "code",
   "execution_count": null,
   "metadata": {
    "deletable": false,
    "editable": false,
    "nbgrader": {
     "checksum": "574942b57191dc9a3d758f5afb2dc8a5",
     "grade": true,
     "grade_id": "cell-503641a289240788",
     "locked": true,
     "points": 0.25,
     "schema_version": 1,
     "solution": false
    }
   },
   "outputs": [],
   "source": [
    "assert callable(is_even)\n",
    "assert isinstance(is_even(3), bool)\n",
    "assert is_even(3) == False\n"
   ]
  },
  {
   "cell_type": "code",
   "execution_count": null,
   "metadata": {
    "deletable": false,
    "editable": false,
    "nbgrader": {
     "checksum": "218f8298fa445532a963206a8a0db7a3",
     "grade": true,
     "grade_id": "cell-6fa9bc215ef4255e",
     "locked": true,
     "points": 0.25,
     "schema_version": 1,
     "solution": false
    }
   },
   "outputs": [],
   "source": [
    "assert callable(is_positive)\n",
    "assert isinstance(is_positive(3), bool)\n",
    "assert is_positive(-2) == False\n"
   ]
  },
  {
   "cell_type": "markdown",
   "metadata": {
    "deletable": false,
    "editable": false,
    "nbgrader": {
     "checksum": "3088a6d8378a5615b93108513390e591",
     "grade": false,
     "grade_id": "cell-9111802da28eeb60",
     "locked": true,
     "schema_version": 1,
     "solution": false
    }
   },
   "source": [
    "### Q7 - Functions Using Functions (0.5 points)\n",
    "\n",
    "In this section, your are going to recreate a function called `make_new_list` which takes a list called `data_list` as its input. \n",
    "\n",
    "This function will use `is_positive` and `is_even` to mimic the task from A2-Q13. \n",
    "\n",
    "That is, this function will  check each value in `data_list` to see if they are even or odd and whether they are positive or negative.\n",
    "- If they are both positive and even, encode this as the number 1\n",
    "- If they are both negative and odd, encode this as the the number -1\n",
    "- Otherwise, encode this as the number 0\n",
    "\n",
    "- Store the result for each value into a list called `output` and return it."
   ]
  },
  {
   "cell_type": "code",
   "execution_count": null,
   "metadata": {
    "deletable": false,
    "nbgrader": {
     "checksum": "6498454cd0813ea90a3cb53af2383461",
     "grade": false,
     "grade_id": "cell-3566bef39096e64e",
     "locked": false,
     "schema_version": 1,
     "solution": true
    }
   },
   "outputs": [],
   "source": [
    "# YOUR CODE HERE\n",
    "raise NotImplementedError()"
   ]
  },
  {
   "cell_type": "code",
   "execution_count": null,
   "metadata": {
    "deletable": false,
    "editable": false,
    "nbgrader": {
     "checksum": "ffaa90bb20e9d8ded7cc88d1bcbc32e2",
     "grade": true,
     "grade_id": "cell-3db389fe414cc8f7",
     "locked": true,
     "points": 0.25,
     "schema_version": 1,
     "solution": false
    }
   },
   "outputs": [],
   "source": [
    "assert callable(make_new_list)\n",
    "\n",
    "data_list = [-1, 20, -100, -40, 33, 97, -101, 45, -79, 96]\n",
    "assert isinstance(make_new_list(data_list), list)\n",
    "assert(len(make_new_list(data_list)) == len(data_list))"
   ]
  },
  {
   "cell_type": "code",
   "execution_count": null,
   "metadata": {
    "deletable": false,
    "editable": false,
    "nbgrader": {
     "checksum": "f6463ad71c7198398235e02426d8174c",
     "grade": true,
     "grade_id": "cell-7b5868e8184dcde0",
     "locked": true,
     "points": 0.25,
     "schema_version": 1,
     "solution": false
    }
   },
   "outputs": [],
   "source": [
    "assert callable(make_new_list)\n"
   ]
  },
  {
   "cell_type": "markdown",
   "metadata": {
    "deletable": false,
    "editable": false,
    "nbgrader": {
     "checksum": "c56f9f00f0c5c6519adfa35f09dd5bd8",
     "grade": false,
     "grade_id": "cell-5eb9a700f526c52e",
     "locked": true,
     "schema_version": 1,
     "solution": false
    }
   },
   "source": [
    "## Part 3: Algorithms\n",
    "\n",
    "This part covers working with algorithms."
   ]
  },
  {
   "cell_type": "markdown",
   "metadata": {
    "deletable": false,
    "editable": false,
    "nbgrader": {
     "checksum": "ee42b0b3da6eb7440b983b1f0cab0ba4",
     "grade": false,
     "grade_id": "cell-06651a992776948c",
     "locked": true,
     "schema_version": 1,
     "solution": false
    }
   },
   "source": [
    "### Q8 - Algorithms (0.5 points)\n",
    "\n",
    "For each of the tasks below, indicate whether you think it is something that a human or a computer would be better at doing.\n",
    "\n",
    "Answer each question by setting each requested variable to the string either 'human' or 'computer'. \n",
    "\n",
    "Set the variable to reflect the answer of which of them you think would be better at the task.\n",
    "\n",
    "- a) Recognize whether a sentence is sarcastic and/or ironic. \n",
    "    - Answer in a variable called `algo_q_a`\n",
    "- b) Reply to a question with information about a topic, replying with the exact wording from a wikipedia article.\n",
    "    - Answer in a variable called `algo_q_b`\n",
    "- c) Keep answering messages for an arbitrarily long period of time, without demonstrating fatigue.\n",
    "    - Answer in a variable called `algo_q_c`\n",
    "- d) Interpret the tone of what was said, to infer if someone is angry. \n",
    "    - Answer in a variable called `algo_q_d`\n",
    "    \n",
    "For each, try to think through if and how you could write an algorithm to do this task - and if you could not, what about it is hard to formalize. \n",
    "\n",
    "We can use these questions to start to think through what might be easy and hard to program our chatbot to do. "
   ]
  },
  {
   "cell_type": "code",
   "execution_count": null,
   "metadata": {
    "deletable": false,
    "nbgrader": {
     "checksum": "bb6099205a54bc5042056e7b79569a6a",
     "grade": false,
     "grade_id": "cell-af2676bac17c5d61",
     "locked": false,
     "schema_version": 1,
     "solution": true
    }
   },
   "outputs": [],
   "source": [
    "# YOUR CODE HERE\n",
    "raise NotImplementedError()"
   ]
  },
  {
   "cell_type": "code",
   "execution_count": null,
   "metadata": {
    "deletable": false,
    "editable": false,
    "nbgrader": {
     "checksum": "5f2000c7faa76fd7b7b6a2866c6d0991",
     "grade": true,
     "grade_id": "cell-b2c5af845ab5e0e3",
     "locked": true,
     "points": 0.125,
     "schema_version": 1,
     "solution": false
    }
   },
   "outputs": [],
   "source": [
    "assert algo_q_a in ['human', 'computer']\n"
   ]
  },
  {
   "cell_type": "code",
   "execution_count": null,
   "metadata": {
    "deletable": false,
    "editable": false,
    "nbgrader": {
     "checksum": "e67d592facff1f6bbfd3f806c0d1910f",
     "grade": true,
     "grade_id": "cell-863830055e228463",
     "locked": true,
     "points": 0.125,
     "schema_version": 1,
     "solution": false
    }
   },
   "outputs": [],
   "source": [
    "assert algo_q_b in ['human', 'computer']\n"
   ]
  },
  {
   "cell_type": "code",
   "execution_count": null,
   "metadata": {
    "deletable": false,
    "editable": false,
    "nbgrader": {
     "checksum": "ece02b80b997f8b1ce32844f8f65763f",
     "grade": true,
     "grade_id": "cell-be637c928edced6b",
     "locked": true,
     "points": 0.125,
     "schema_version": 1,
     "solution": false
    }
   },
   "outputs": [],
   "source": [
    "assert algo_q_c in ['human', 'computer']\n"
   ]
  },
  {
   "cell_type": "code",
   "execution_count": null,
   "metadata": {
    "deletable": false,
    "editable": false,
    "nbgrader": {
     "checksum": "b8587b5a551aef43d0fba16a0a6f156c",
     "grade": true,
     "grade_id": "cell-6484687fce7ccd33",
     "locked": true,
     "points": 0.125,
     "schema_version": 1,
     "solution": false
    }
   },
   "outputs": [],
   "source": [
    "assert algo_q_d in ['human', 'computer']\n"
   ]
  },
  {
   "cell_type": "markdown",
   "metadata": {
    "deletable": false,
    "editable": false,
    "nbgrader": {
     "checksum": "fb54d8a32ff68691854470288e6d8386",
     "grade": false,
     "grade_id": "cell-ad7046936e9e00e4",
     "locked": true,
     "schema_version": 1,
     "solution": false
    }
   },
   "source": [
    "## Part 4:  Chatbots\n",
    "\n",
    "This part is an application of all the tools we have covered so far, to the problem of creating a chatbot.\n",
    "\n",
    "A chatbot is a piece of software that tries to have a conversation with a human.\n",
    "\n",
    "While today's chatbots are powerful learners, traditional chatbots are much simpler. \n",
    "\n",
    "Traditional chatbots follow a \"rule-based\" approach that is defined for them (by you, the programmer), usually without any learning. \n",
    "\n",
    "These rules can be very simple or sometimes quite complex - but everything is pre-defined. \n",
    "\n",
    "These types of chatbots can handle simple conversations but do tend to fail at more complex ones.\n",
    "\n",
    "#### Chatbot functions \n",
    "\n",
    "In order to make our chatbot, we will create a series of functions that our eventual chatbot will use together to try and chat with a user. \n",
    "\n",
    "At the end, we will test that these functions do indeed allow us to have simple conversations with our chatbot.\n",
    "\n",
    "Below are some more example chatbots to talk to. Remember to comment these lines back out if you want to be able to `Restart and Run All`."
   ]
  },
  {
   "cell_type": "markdown",
   "metadata": {
    "collapsed": true,
    "deletable": false,
    "editable": false,
    "nbgrader": {
     "checksum": "e91aedee5bc304ff4861209b347ed039",
     "grade": false,
     "grade_id": "cell-5b615192a59468e3",
     "locked": true,
     "schema_version": 1,
     "solution": false
    }
   },
   "source": [
    "### Example Chatbot - Eliza\n",
    "\n",
    "The following demo is from the Natural Language ToolKit (nltk), a Python package available through Anaconda. \n",
    "\n",
    "Uncomment the line below, and run the code to be able to have a chat with Eliza.\n",
    "\n",
    "More information on Eliza: https://en.wikipedia.org/wiki/ELIZA"
   ]
  },
  {
   "cell_type": "code",
   "execution_count": null,
   "metadata": {},
   "outputs": [],
   "source": [
    "# Run a demo of a chatbot, with Eliza\n",
    "#nltk.chat.eliza.demo()"
   ]
  },
  {
   "cell_type": "markdown",
   "metadata": {
    "deletable": false,
    "editable": false,
    "nbgrader": {
     "checksum": "303921d9e0103bacea0de22e09d908ed",
     "grade": false,
     "grade_id": "cell-fb303a097252988d",
     "locked": true,
     "schema_version": 1,
     "solution": false
    }
   },
   "source": [
    "### Example Chatbot - Iesha\n",
    "\n",
    "The following is another demo chatbot from nltk, this one called Iesha. "
   ]
  },
  {
   "cell_type": "code",
   "execution_count": null,
   "metadata": {},
   "outputs": [],
   "source": [
    "# Run a demo of a chatbot, with Iesha\n",
    "#nltk.chat.iesha.demo()"
   ]
  },
  {
   "cell_type": "markdown",
   "metadata": {
    "deletable": false,
    "editable": false,
    "nbgrader": {
     "checksum": "889de7da84a4de3be9cdd3f1aa79d368",
     "grade": false,
     "grade_id": "cell-d270d0d8c6fb5619",
     "locked": true,
     "schema_version": 1,
     "solution": false
    }
   },
   "source": [
    "As you try the chatbot demos with Eliza and Iesha, see if you can notice any patterns that might help you figure out how they work. \n",
    "\n",
    "That is, can you guess at what kind of programming structures these programs might use?"
   ]
  },
  {
   "cell_type": "markdown",
   "metadata": {
    "deletable": false,
    "editable": false,
    "nbgrader": {
     "checksum": "6120950f901da0ee554dbcaec683f456",
     "grade": false,
     "grade_id": "cell-fabfa964b619c327",
     "locked": true,
     "schema_version": 1,
     "solution": false
    }
   },
   "source": [
    "### Chatbots: Words & Rules\n",
    "\n",
    "So, how do these kinds of chatbots work? Most broadly, they combine two simple but powerful approaches:\n",
    "- Rule Based Artificial Intelligence (GOFAI)\n",
    "- Bag-Of-Word Language Models\n",
    "\n",
    "**Rule based AI**, sometimes called 'Good Old Fashion Artificial Intelligence', or 'GOFAI', is an approach to making artificial agents that tries to write down a set of rules to follow to perform some task. In practice, this often looks like using a lot of conditionals: if `X` happens, do `Y`. If we can write down enough logical procedures (call them algorithms) to follow to complete some task, then we can create an artificially intelligent agent (for that task).\n",
    "\n",
    "**Bag-Of-Word language models** are an approach to language that takes the simple approach of saying 'lets try and figure out what someone is saying simply by checking and counting which words they use'. If someone says the word 'dog' three times in conversation, they are probably talking about dogs. This ignores many many things about language, and how it works, but is a good 'first guess' for what is being said. \n",
    "\n",
    "From our perspective, this means two things:\n",
    "- We can broadly try to figure out the topic simply by checking which words are used\n",
    "- We can choose a response based on a rule that defines what to do if and when we identify particular topics\n",
    "\n",
    "In code then, this looks like:\n",
    "- taking input as strings of continuous text, and splitting this up into lists that contain all the words we see\n",
    "- use conditionals (if/elif/else) that choose an output based on what words appear in those lists\n",
    "\n",
    "As we work through and create all the function in the next section to create our chatbot, try to think through how these functions relate to this approach."
   ]
  },
  {
   "cell_type": "markdown",
   "metadata": {
    "deletable": false,
    "editable": false,
    "nbgrader": {
     "checksum": "1eba93a89e34d8c27750dcd0be0dc115",
     "grade": false,
     "grade_id": "cell-fc01d901d8794162",
     "locked": true,
     "schema_version": 1,
     "solution": false
    }
   },
   "source": [
    "### Q9 - Is It a Question (0.5 points)\n",
    "\n",
    "One thing we might want to know, given an input to a chatbot, is if the input is a question. \n",
    "\n",
    "We are going to use a very simple heuristic to check this: we will consider any input that has a question mark ('?') in it to be a question. \n",
    "\n",
    "To do so, write a function called `is_question`. \n",
    "\n",
    "This function should have the following inputs, outputs and internal procedures:\n",
    "\n",
    "Input(s):\n",
    "* `input_string` - string\n",
    "\n",
    "Output(s):\n",
    "* `output` - boolean\n",
    "\n",
    "Procedure(s):\n",
    "- if there is a '?' in `input_string`, set `output` to True\n",
    "- otherwise, set output to False. \n",
    "- return output"
   ]
  },
  {
   "cell_type": "code",
   "execution_count": null,
   "metadata": {
    "deletable": false,
    "nbgrader": {
     "checksum": "068acc1357b63454a26a717fc97ad35a",
     "grade": false,
     "grade_id": "cell-06800778424be5ba",
     "locked": false,
     "schema_version": 1,
     "solution": true
    }
   },
   "outputs": [],
   "source": [
    "# YOUR CODE HERE\n",
    "raise NotImplementedError()"
   ]
  },
  {
   "cell_type": "code",
   "execution_count": null,
   "metadata": {
    "deletable": false,
    "editable": false,
    "nbgrader": {
     "checksum": "3321b8134d04b53d52cc5a77312cae1f",
     "grade": true,
     "grade_id": "cell-73224d2951e9985c",
     "locked": true,
     "points": 0.25,
     "schema_version": 1,
     "solution": false
    }
   },
   "outputs": [],
   "source": [
    "assert callable(is_question)\n",
    "assert isinstance(is_question('abc'), bool)\n",
    "assert is_question('what?') == True"
   ]
  },
  {
   "cell_type": "code",
   "execution_count": null,
   "metadata": {
    "deletable": false,
    "editable": false,
    "nbgrader": {
     "checksum": "e958db33191fd392bbab6224e4c47cf7",
     "grade": true,
     "grade_id": "cell-5b61947f11cc79af",
     "locked": true,
     "points": 0.25,
     "schema_version": 1,
     "solution": false
    }
   },
   "outputs": [],
   "source": [
    "assert callable(is_question)\n"
   ]
  },
  {
   "cell_type": "markdown",
   "metadata": {
    "deletable": false,
    "editable": false,
    "nbgrader": {
     "checksum": "22caaf303267205f993d1a7bf683bc1a",
     "grade": false,
     "grade_id": "cell-1342b82039ac580f",
     "locked": true,
     "schema_version": 1,
     "solution": false
    }
   },
   "source": [
    "### Example: string.punctuation\n",
    "\n",
    "When working with strings, it can be useful to check what kind of things particular characters are. \n",
    "\n",
    "To do things like this, Python offers some collections of items, that we can check against.\n",
    "\n",
    "For example, we can ask if a particular character is a punctuation mark, by asking if it is in the collection of punctuation characters. \n"
   ]
  },
  {
   "cell_type": "code",
   "execution_count": null,
   "metadata": {
    "deletable": false,
    "editable": false,
    "nbgrader": {
     "checksum": "df03d08028f20aea0a62965ebb780a1d",
     "grade": false,
     "grade_id": "cell-57606f29c78e9c59",
     "locked": true,
     "schema_version": 1,
     "solution": false
    }
   },
   "outputs": [],
   "source": [
    "# Print out list of punctuation\n",
    "print(string.punctuation)\n",
    "\n",
    "print() # Print blank line\n",
    "\n",
    "# Check if a particular symol is a punctuation mark\n",
    "print('@' in string.punctuation)"
   ]
  },
  {
   "cell_type": "markdown",
   "metadata": {
    "deletable": false,
    "editable": false,
    "nbgrader": {
     "checksum": "61997f5599e8c93c6e4d2c0dae6659cf",
     "grade": false,
     "grade_id": "cell-649bbccda08b6552",
     "locked": true,
     "schema_version": 1,
     "solution": false
    }
   },
   "source": [
    "### Q10 - Removing punctuation (0.5 points)\n",
    "\n",
    "Once we know if an input is a question, we are going to get rid of all punctuation. \n",
    "\n",
    "To do so, write a function called `remove_punctuation`. \n",
    "\n",
    "This function should have the following inputs, outputs and internal procedures:\n",
    "\n",
    "Input(s):\n",
    "* `input_string` - string\n",
    "\n",
    "Output(s):\n",
    "* `out_string` - string\n",
    "\n",
    "Procedure(s):\n",
    "- define a new variable `out_string` as an empty string\n",
    "- loop through each character in `input_string`\n",
    "    - if this character is not in `string.punctuation`\n",
    "        - then append the current character to `out_string`\n",
    "- return `out_string`"
   ]
  },
  {
   "cell_type": "code",
   "execution_count": null,
   "metadata": {
    "deletable": false,
    "nbgrader": {
     "checksum": "b8ad9df8b923ef727ff96b9edd5cf0c4",
     "grade": false,
     "grade_id": "cell-e89fcaa0b5c38b5b",
     "locked": false,
     "schema_version": 1,
     "solution": true
    }
   },
   "outputs": [],
   "source": [
    "# YOUR CODE HERE\n",
    "raise NotImplementedError()"
   ]
  },
  {
   "cell_type": "code",
   "execution_count": null,
   "metadata": {
    "deletable": false,
    "editable": false,
    "nbgrader": {
     "checksum": "5b35d66182c3401b1be53166104bc8d6",
     "grade": true,
     "grade_id": "cell-7653654ef6ba58e1",
     "locked": true,
     "points": 0.25,
     "schema_version": 1,
     "solution": false
    }
   },
   "outputs": [],
   "source": [
    "assert callable(remove_punctuation)\n",
    "assert isinstance(remove_punctuation('a'), str)\n",
    "assert remove_punctuation(\"Hey! It's Tom!\") == \"Hey Its Tom\""
   ]
  },
  {
   "cell_type": "code",
   "execution_count": null,
   "metadata": {
    "deletable": false,
    "editable": false,
    "nbgrader": {
     "checksum": "e3309cf55cf4d46a975093d5b2ed0be3",
     "grade": true,
     "grade_id": "cell-711049dd0e72709a",
     "locked": true,
     "points": 0.25,
     "schema_version": 1,
     "solution": false
    }
   },
   "outputs": [],
   "source": [
    "assert callable(remove_punctuation)\n"
   ]
  },
  {
   "cell_type": "markdown",
   "metadata": {
    "deletable": false,
    "editable": false,
    "nbgrader": {
     "checksum": "b2ace3677c71c6970f56dcb30f4a93db",
     "grade": false,
     "grade_id": "cell-eb983e643c4882d6",
     "locked": true,
     "schema_version": 1,
     "solution": false
    }
   },
   "source": [
    "### Q11 - Preparing Text (0.5 points)\n",
    "\n",
    "Now we want a more general function to prepare the text inputs for processing. \n",
    "\n",
    "Inside this function, we will use some string methods as well as our new `remove_punctuation` function.\n",
    "\n",
    "Write a function called `prepare_text`.\n",
    "\n",
    "This function should have the following inputs, outputs and internal procedures:\n",
    "\n",
    "Input(s):\n",
    "* `input_string` - string\n",
    "\n",
    "Output(s):\n",
    "* `out_list` - list of string\n",
    "\n",
    "Procedure(s):\n",
    "- make the string all lower case (use a string method called `lower`)\n",
    "    - note that you will have to assign the output to a variable. You can use a variable name like `temp_string`\n",
    "- remove all punctuation from the string (use your new function `remove_punctuation`)\n",
    "    - this can also assign out to `temp_string`\n",
    "- split the string into words (look for and use a string method called `split`)\n",
    "    - note that split will return a list of strings. Assign this as `out_list`\n",
    "- return `out_list`"
   ]
  },
  {
   "cell_type": "code",
   "execution_count": null,
   "metadata": {
    "deletable": false,
    "nbgrader": {
     "checksum": "b4cff407bccce751d21cadc588335a02",
     "grade": false,
     "grade_id": "cell-c1c23cc422a6e514",
     "locked": false,
     "schema_version": 1,
     "solution": true
    }
   },
   "outputs": [],
   "source": [
    "# YOUR CODE HERE\n",
    "raise NotImplementedError()"
   ]
  },
  {
   "cell_type": "code",
   "execution_count": null,
   "metadata": {
    "deletable": false,
    "editable": false,
    "nbgrader": {
     "checksum": "990e05180d614a5ae7a70b79235b4a78",
     "grade": true,
     "grade_id": "cell-617b5f8e65de0792",
     "locked": true,
     "points": 0.25,
     "schema_version": 1,
     "solution": false
    }
   },
   "outputs": [],
   "source": [
    "assert callable(prepare_text)\n",
    "assert isinstance(prepare_text('One two three.'), list)\n",
    "assert prepare_text('Hi! Also, howdy.') == ['hi', 'also', 'howdy']"
   ]
  },
  {
   "cell_type": "code",
   "execution_count": null,
   "metadata": {
    "deletable": false,
    "editable": false,
    "nbgrader": {
     "checksum": "e74712a4e12d692669ce9e643b1fe7d9",
     "grade": true,
     "grade_id": "cell-9fb3a5fb59109d2c",
     "locked": true,
     "points": 0.25,
     "schema_version": 1,
     "solution": false
    }
   },
   "outputs": [],
   "source": [
    "assert callable(prepare_text)\n"
   ]
  },
  {
   "cell_type": "markdown",
   "metadata": {
    "deletable": false,
    "editable": false,
    "nbgrader": {
     "checksum": "aff15ae5dc60253e41062d11edc6293b",
     "grade": false,
     "grade_id": "cell-ab7b89763863cab9",
     "locked": true,
     "schema_version": 1,
     "solution": false
    }
   },
   "source": [
    "### Q12 - Echo a Response (0.5 points)\n",
    "\n",
    "We will define a function that will return a string that has been repeated a specified number of times, with a given separator. \n",
    "\n",
    "We will also want to deal with the case where the input to this function may be `None`. \n",
    "\n",
    "Write a function called `respond_echo`. \n",
    "\n",
    "This function should have the following inputs, outputs and internal procedures:\n",
    "\n",
    "Input(s):\n",
    "* `input_string` - string, or None\n",
    "* `number_of_echoes` - integer\n",
    "* `spacer` - string\n",
    "\n",
    "Output(s):\n",
    "* `echo_output` - string, or None\n",
    "\n",
    "Procedure(s):\n",
    "- if `input_string` is not `None`:\n",
    "    - set a variable `echo_output` to be  `input_string`, repeated the number of times specified by `number_of_echoes`, joined by the  `spacer`.\n",
    "        - Hint: to do so, recall what \"*\" does to strings\n",
    "- otherwise (if `input_string` is None)\n",
    "    - set `echo_output` to `None`\n",
    "- return `echo_output`\n",
    "\n",
    "Note that a simple version of this version will end up appending the spacer to the end of the list as well. For our purposes here, implement that simple version.\n",
    "\n",
    "So, for example, `respond_echo('bark', 2, '-')` should return: 'bark-bark-'"
   ]
  },
  {
   "cell_type": "code",
   "execution_count": null,
   "metadata": {
    "deletable": false,
    "nbgrader": {
     "checksum": "7a6f27fae4e1041565911dd5afddd496",
     "grade": false,
     "grade_id": "cell-d77bc7ed64441ebc",
     "locked": false,
     "schema_version": 1,
     "solution": true
    }
   },
   "outputs": [],
   "source": [
    "# YOUR CODE HERE\n",
    "raise NotImplementedError()"
   ]
  },
  {
   "cell_type": "code",
   "execution_count": null,
   "metadata": {
    "deletable": false,
    "editable": false,
    "nbgrader": {
     "checksum": "f5e6e79969e099c14dd57a484d75e974",
     "grade": true,
     "grade_id": "cell-3280829d10a28901",
     "locked": true,
     "points": 0.25,
     "schema_version": 1,
     "solution": false
    }
   },
   "outputs": [],
   "source": [
    "assert callable(respond_echo)\n",
    "assert isinstance(respond_echo('ha', 2, ' '), str)\n",
    "assert respond_echo('meow', 3, '~') == 'meow~meow~meow~'\n",
    "assert respond_echo(None, 2, '') == None"
   ]
  },
  {
   "cell_type": "code",
   "execution_count": null,
   "metadata": {
    "deletable": false,
    "editable": false,
    "nbgrader": {
     "checksum": "295d7d8778db90846e2fe0864bfa4f75",
     "grade": true,
     "grade_id": "cell-e828c225b1081368",
     "locked": true,
     "points": 0.25,
     "schema_version": 1,
     "solution": false
    }
   },
   "outputs": [],
   "source": [
    "assert callable(respond_echo)\n"
   ]
  },
  {
   "cell_type": "markdown",
   "metadata": {
    "deletable": false,
    "editable": false,
    "nbgrader": {
     "checksum": "cc778df875ffcaa8efa6b07e990e6d54",
     "grade": false,
     "grade_id": "cell-7d9cfdf4ac341f83",
     "locked": true,
     "schema_version": 1,
     "solution": false
    }
   },
   "source": [
    "### Example: random.choice\n",
    "\n",
    "We want our chatbot to have some variation in it's responses - not only anwering the same thing.\n",
    "\n",
    "So, we want to be able to choose an output from a list of options. \n",
    "\n",
    "We can use the `random.choice` function to so.\n",
    "\n",
    "An example of using `random.choice` is offered below."
   ]
  },
  {
   "cell_type": "code",
   "execution_count": null,
   "metadata": {
    "deletable": false,
    "editable": false,
    "nbgrader": {
     "checksum": "21c0e5200ac565684e32b0597c964dd3",
     "grade": false,
     "grade_id": "cell-0a566497c3fedd42",
     "locked": true,
     "schema_version": 1,
     "solution": false
    }
   },
   "outputs": [],
   "source": [
    "# Given a list of inputs, randomly choose and return one of them (re-run this to see different outputs)\n",
    "random.choice(['first option', 'second option', 'third option'])"
   ]
  },
  {
   "cell_type": "markdown",
   "metadata": {
    "deletable": false,
    "editable": false,
    "nbgrader": {
     "checksum": "67838be30b485755041ed5c8f1f0a4bf",
     "grade": false,
     "grade_id": "cell-dc5e0416db994eb0",
     "locked": true,
     "schema_version": 1,
     "solution": false
    }
   },
   "source": [
    "### Q13 - Selector (0.5 points)\n",
    "\n",
    "Next we will write a function that will help us select an output for the chatbot, based on the input it got.\n",
    "\n",
    "The overall goal of this function is to take a list of words that we got as input, a list of words to check for if they appear in the input, and a list of possible outputs to return if something from the list to check is in the input list. \n",
    "\n",
    "Define a function, called `selector`.\n",
    "\n",
    "This function should have the following inputs, outputs and internal procedures:\n",
    "\n",
    "Input(s):\n",
    "* `input_list` - list of string\n",
    "* `check_list` - list of string\n",
    "* `return_list` - list of string\n",
    "\n",
    "Output(s):\n",
    "* `output` - string, or None\n",
    "\n",
    "Procedure(s):\n",
    "- Initialize `output` to `None`\n",
    "- Loop through each element in `input_list`\n",
    "- Use a conditional to check if the current element is in `check_list`\n",
    "    - If it is, assign `output` as the returned value of calling the `random.choice` function on `return_list`\n",
    "    - Also, break out of the loop\n",
    "- At the end of the function, return `output`\n",
    "\n",
    "Note that if we don't find any words from `input_list` that are in `check_list`, `output` will be returned as `None`."
   ]
  },
  {
   "cell_type": "code",
   "execution_count": null,
   "metadata": {
    "deletable": false,
    "nbgrader": {
     "checksum": "ae0d9f67e2dabf030b6fc1bd1cfd6e76",
     "grade": false,
     "grade_id": "cell-a85973a26e490194",
     "locked": false,
     "schema_version": 1,
     "solution": true
    }
   },
   "outputs": [],
   "source": [
    "# YOUR CODE HERE\n",
    "raise NotImplementedError()"
   ]
  },
  {
   "cell_type": "code",
   "execution_count": null,
   "metadata": {
    "deletable": false,
    "editable": false,
    "nbgrader": {
     "checksum": "75e5de6978961b5f886673650dcdbc6d",
     "grade": true,
     "grade_id": "cell-88e6e54e20d32647",
     "locked": true,
     "points": 0.25,
     "schema_version": 1,
     "solution": false
    }
   },
   "outputs": [],
   "source": [
    "assert callable(selector)\n",
    "\n",
    "assert selector(['in', 'words'], ['words'], ['yes']) == 'yes'\n",
    "assert selector(['in', 'words'], ['out'], ['yes']) == None"
   ]
  },
  {
   "cell_type": "code",
   "execution_count": null,
   "metadata": {
    "deletable": false,
    "editable": false,
    "nbgrader": {
     "checksum": "a90af1e813df1987e9a915d2848000eb",
     "grade": true,
     "grade_id": "cell-f38dab4bc4b62a22",
     "locked": true,
     "points": 0.25,
     "schema_version": 1,
     "solution": false
    }
   },
   "outputs": [],
   "source": [
    "assert callable(selector)\n"
   ]
  },
  {
   "cell_type": "markdown",
   "metadata": {
    "deletable": false,
    "editable": false,
    "nbgrader": {
     "checksum": "8c706f84058cdbadb9b8b2eef9de691d",
     "grade": false,
     "grade_id": "cell-fc29bd1bdbb6cb34",
     "locked": true,
     "schema_version": 1,
     "solution": false
    }
   },
   "source": [
    "### Q14 - String Concatenator Function (0.5 points)\n",
    "\n",
    "Create a function that will concatenate two strings, combining them with a specified separator. \n",
    "\n",
    "To do so, write a function called `string_concatenator`. \n",
    "\n",
    "This function should have the following inputs, outputs and internal procedures:\n",
    "\n",
    "Input(s)\n",
    "* `string1` - string\n",
    "* `string2` - string\n",
    "* `separator` - string\n",
    "\n",
    "Output(s)\n",
    "* `output` - string, or None\n",
    "\n",
    "Procedure(s):\n",
    "- concatenate `string1` to `string2` with `separator` in between them. \n",
    "- return the result"
   ]
  },
  {
   "cell_type": "code",
   "execution_count": null,
   "metadata": {
    "deletable": false,
    "nbgrader": {
     "checksum": "e4bc948252f041b558e2c3e67773a2aa",
     "grade": false,
     "grade_id": "cell-f24e8fdca335a582",
     "locked": false,
     "schema_version": 1,
     "solution": true
    }
   },
   "outputs": [],
   "source": [
    "# YOUR CODE HERE\n",
    "raise NotImplementedError()"
   ]
  },
  {
   "cell_type": "code",
   "execution_count": null,
   "metadata": {
    "deletable": false,
    "editable": false,
    "nbgrader": {
     "checksum": "e20aea7d889fa8cc11999eeefa29eebd",
     "grade": true,
     "grade_id": "cell-baa25e0ddd0ad3ac",
     "locked": true,
     "points": 0.25,
     "schema_version": 1,
     "solution": false
    }
   },
   "outputs": [],
   "source": [
    "assert callable(string_concatenator)\n",
    "assert isinstance(string_concatenator('hello', 'world', ' '), str)\n",
    "assert string_concatenator('hello', 'world', ' ') == 'hello world'"
   ]
  },
  {
   "cell_type": "code",
   "execution_count": null,
   "metadata": {
    "deletable": false,
    "editable": false,
    "nbgrader": {
     "checksum": "f343a3ee350bfa19dda7ec0911cce14f",
     "grade": true,
     "grade_id": "cell-67395721ec848259",
     "locked": true,
     "points": 0.25,
     "schema_version": 1,
     "solution": false
    }
   },
   "outputs": [],
   "source": [
    "assert callable(string_concatenator)\n"
   ]
  },
  {
   "cell_type": "markdown",
   "metadata": {
    "deletable": false,
    "editable": false,
    "nbgrader": {
     "checksum": "cb8df3c189daa3ed61fbca69c049a7cd",
     "grade": false,
     "grade_id": "cell-251b63522836d89e",
     "locked": true,
     "schema_version": 1,
     "solution": false
    }
   },
   "source": [
    "### Q15 - List to String (0.5 points)\n",
    "\n",
    "Since we are often dealing with a list of strings, it would be useful to have a function to turn a list of strings back into one single concatenated string. \n",
    "\n",
    "This function will return a string that is each element of `input_list` concatenated together with each separated by the string `seperator`. \n",
    "\n",
    "For example, the following function call:\n",
    "\n",
    "    `list_to_string(['This', 'is', 'fun'], ' ')`\n",
    "\n",
    "shoud return: \n",
    "    \n",
    "    'This is fun'\n",
    "    \n",
    "To do this, write a function called `list_to_string`. \n",
    "\n",
    "This function should have the following inputs, outputs and internal procedures:\n",
    "\n",
    "Input(s):\n",
    "* `input_list` - list of string\n",
    "* `separator` - string\n",
    "\n",
    "Output(s):\n",
    "* `output` - string\n",
    "\n",
    "Procedure(s):\n",
    "- assign a variable called `output` to be the first (index 0) element from `input_list`\n",
    "- loop through the rest of `input_list`, looping from the 2nd element (index 1) through to the end of the list\n",
    "    - Within the loop, use `string_concatenator` to combine `output` with the current element, separated by `separator`\n",
    "        - Assign the output of this to be the new value of `output`\n",
    "- return `output`, which should now be a list of the elements of `input_list`, joined together into a a single string"
   ]
  },
  {
   "cell_type": "code",
   "execution_count": null,
   "metadata": {
    "deletable": false,
    "nbgrader": {
     "checksum": "87e21921175966d4800b140caa9e6a71",
     "grade": false,
     "grade_id": "cell-cfabdfe3966db8c6",
     "locked": false,
     "schema_version": 1,
     "solution": true
    }
   },
   "outputs": [],
   "source": [
    "# YOUR CODE HERE\n",
    "raise NotImplementedError()"
   ]
  },
  {
   "cell_type": "code",
   "execution_count": null,
   "metadata": {
    "deletable": false,
    "editable": false,
    "nbgrader": {
     "checksum": "596cd7f190afa70bd951cb7584fc8aec",
     "grade": true,
     "grade_id": "cell-b8d8c7506f53317e",
     "locked": true,
     "points": 0.25,
     "schema_version": 1,
     "solution": false
    }
   },
   "outputs": [],
   "source": [
    "assert callable(list_to_string)\n",
    "assert isinstance(list_to_string(['a', 'b'], '|'), str)\n",
    "assert list_to_string(['a', 'b'], '|') == 'a|b'"
   ]
  },
  {
   "cell_type": "code",
   "execution_count": null,
   "metadata": {
    "deletable": false,
    "editable": false,
    "nbgrader": {
     "checksum": "030918a117999f21d3ef29b903cfc7a8",
     "grade": true,
     "grade_id": "cell-e482a53f1553dc55",
     "locked": true,
     "points": 0.25,
     "schema_version": 1,
     "solution": false
    }
   },
   "outputs": [],
   "source": [
    "assert callable(list_to_string)\n"
   ]
  },
  {
   "cell_type": "markdown",
   "metadata": {
    "deletable": false,
    "editable": false,
    "nbgrader": {
     "checksum": "5b0731d8e46baa40e784fcbb9262b7d7",
     "grade": false,
     "grade_id": "cell-c1813cc24e5aa3fa",
     "locked": true,
     "schema_version": 1,
     "solution": false
    }
   },
   "source": [
    "### Q16 - End Chat (0.5 points)\n",
    "\n",
    "The last thing we need is a way to end the chat with our chatbot. \n",
    "\n",
    "We will use the same convention that `nltk` uses - namely, that we will end the conversation if the word `quit` appears.\n",
    "\n",
    "To be able to do so, write a function called `end_chat`\n",
    "\n",
    "This function should have the following inputs, outputs and internal procedures:\n",
    "\n",
    "Input(s):\n",
    "* `input_list` - list\n",
    "\n",
    "Output(s):\n",
    "* `output` - boolean\n",
    "\n",
    "Procedure(s):\n",
    "- This function should return `True` if the string 'quit' is in `input_list`, and return `False` otherwise. "
   ]
  },
  {
   "cell_type": "code",
   "execution_count": null,
   "metadata": {
    "deletable": false,
    "nbgrader": {
     "checksum": "663e2fb0d0460b0b61970b534b512e30",
     "grade": false,
     "grade_id": "cell-1ab514a0dcaee24e",
     "locked": false,
     "schema_version": 1,
     "solution": true
    }
   },
   "outputs": [],
   "source": [
    "# YOUR CODE HERE\n",
    "raise NotImplementedError()"
   ]
  },
  {
   "cell_type": "code",
   "execution_count": null,
   "metadata": {
    "deletable": false,
    "editable": false,
    "nbgrader": {
     "checksum": "07e76c6e00c682efc4f0826210137ab6",
     "grade": true,
     "grade_id": "cell-7937207e3e365a07",
     "locked": true,
     "points": 0.25,
     "schema_version": 1,
     "solution": false
    }
   },
   "outputs": [],
   "source": [
    "assert callable(end_chat)\n",
    "assert isinstance(end_chat(['a', 'b']), bool)\n",
    "assert end_chat(['quit']) == True"
   ]
  },
  {
   "cell_type": "code",
   "execution_count": null,
   "metadata": {
    "deletable": false,
    "editable": false,
    "nbgrader": {
     "checksum": "f90a14f7a01ce7709153965eab231a74",
     "grade": true,
     "grade_id": "cell-d6260ce7e8bb5e3c",
     "locked": true,
     "points": 0.25,
     "schema_version": 1,
     "solution": false
    }
   },
   "outputs": [],
   "source": [
    "assert callable(end_chat)\n"
   ]
  },
  {
   "cell_type": "markdown",
   "metadata": {
    "deletable": false,
    "editable": false,
    "nbgrader": {
     "checksum": "f0bfa59e540f22d68f0077b1958607ce",
     "grade": false,
     "grade_id": "cell-6bc9e897386effc8",
     "locked": true,
     "schema_version": 1,
     "solution": false
    }
   },
   "source": [
    "## Pulling it all Together\n",
    "\n",
    "If everything has gone well with writing everything above, then we are ready to pull all these functions together to create our chatbot.\n",
    "\n",
    "The next few cells define a bunch of code, all provided for you. This code adds a couple more functions we can use and then defines some lists of inputs and outputs that our chatbot will know about. After that, there is a big function that pulls everything together and creates the procedure to use all of this code together as a chatbot. \n",
    "\n",
    "You don't have to write anything in the cells below (or in the rest of the assignment). \n",
    "\n",
    "Do have a quick read through the code though, to see how our chatbot works, and to see how all the functions you just wrote are used to create the chatbot. \n",
    "\n",
    "If you need, revisit the information at the beginning of this section about the logic our chatbot uses. \n",
    "\n",
    "You don't have to understand everything about what happens here, but try to have a first-pass look through it.\n",
    "\n",
    "We will build up to understanding and writing this kind of code that brings a lot of things together as we continue through the course. \n",
    "\n",
    "If the code seems intimidating, just scroll down to the bottom, and test out talking to our chatbot. "
   ]
  },
  {
   "cell_type": "code",
   "execution_count": null,
   "metadata": {
    "deletable": false,
    "editable": false,
    "nbgrader": {
     "checksum": "9f0c25e1e839dd8f90eed1e96bedc72e",
     "grade": false,
     "grade_id": "cell-78cf6a8e70df6008",
     "locked": true,
     "schema_version": 1,
     "solution": false
    }
   },
   "outputs": [],
   "source": [
    "# These are a couple more function, provided to you, to be used by our chatbot.\n",
    "\n",
    "def is_in_list(list_one, list_two):\n",
    "    \"\"\"Check if any element of list_one is in list_two.\"\"\"\n",
    "    \n",
    "    for element in list_one:\n",
    "        if element in list_two:\n",
    "            return True\n",
    "    return False\n",
    "\n",
    "def find_in_list(list_one, list_two):\n",
    "    \"\"\"Find and return an element from list_one that is in list_two, or None otherwise.\"\"\"\n",
    "    \n",
    "    for element in list_one:\n",
    "        if element in list_two:\n",
    "            return element\n",
    "    return None"
   ]
  },
  {
   "cell_type": "code",
   "execution_count": null,
   "metadata": {
    "deletable": false,
    "editable": false,
    "nbgrader": {
     "checksum": "277b736bf6d4e079009779afd04a4bfc",
     "grade": false,
     "grade_id": "cell-9a477c9657272b28",
     "locked": true,
     "schema_version": 1,
     "solution": false
    }
   },
   "outputs": [],
   "source": [
    "# This cell defines a collection of input and output things our chatbot can say and respond to\n",
    "\n",
    "GREETINGS_IN = ['hello', 'hi', 'hey', 'hola', 'welcome', 'bonjour', 'greetings']\n",
    "GREETINGS_OUT = [\"Hello, it's nice to talk to you!\", 'Nice to meet you!',  \"Hey - Let's chat!\"]\n",
    "\n",
    "COMP_IN = ['python', 'code', 'computer', 'algorithm', ]\n",
    "COMP_OUT = [\"Python is what I'm made of.\", \\\n",
    "            \"Did you know I'm made of code!?\", \\\n",
    "            \"Computers are so magical\", \\\n",
    "            \"Do you think I'll pass the Turing test?\"]\n",
    "\n",
    "PEOPLE_IN = ['turing', 'hopper', 'neumann', 'lovelace']\n",
    "PEOPLE_OUT = ['was awesome!', 'did so many important things!', 'is someone you should look up :).']\n",
    "PEOPLE_NAMES = {'turing': 'Alan', 'hopper': 'Grace', 'neumann': 'John von', 'lovelace': 'Ada'}\n",
    "\n",
    "JOKES_IN = ['funny', 'hilarious', 'ha', 'haha', 'hahaha', 'lol']\n",
    "JOKES_OUT = ['ha', 'haha', 'lol'] \n",
    "\n",
    "NONO_IN = ['matlab', 'java', 'C++']\n",
    "NONO_OUT = [\"I'm sorry, I don't want to talk about\"]\n",
    "\n",
    "UNKNOWN = ['Good.', 'Okay', 'Huh?', 'Yeah!', 'Thanks!']\n",
    "\n",
    "QUESTION = \"I'm too shy to answer questions. What do you want to talk about?\""
   ]
  },
  {
   "cell_type": "code",
   "execution_count": null,
   "metadata": {
    "deletable": false,
    "editable": false,
    "nbgrader": {
     "checksum": "e27ea51dddd92641ed6ba1e11e632ff0",
     "grade": false,
     "grade_id": "cell-8f46287ffc69873d",
     "locked": true,
     "schema_version": 1,
     "solution": false
    }
   },
   "outputs": [],
   "source": [
    "def have_a_chat():\n",
    "    \"\"\"Main function to run our chatbot.\"\"\"\n",
    "    \n",
    "    chat = True\n",
    "    while chat:\n",
    "\n",
    "        # Get a message from the user\n",
    "        msg = input('INPUT :\\t')\n",
    "        out_msg = None\n",
    "\n",
    "        # Check if the input is a question\n",
    "        question = is_question(msg)\n",
    "\n",
    "        # Prepare the input message\n",
    "        msg = prepare_text(msg)\n",
    "\n",
    "        # Check for an end msg \n",
    "        if end_chat(msg):\n",
    "            out_msg = 'Bye!'\n",
    "            chat = False\n",
    "\n",
    "        # Check for a selection of topics that we have defined to respond to\n",
    "        #   Here, we will check for a series of topics that we have designed to answer to\n",
    "        if not out_msg:\n",
    "\n",
    "            # Initialize to collect a list of possible outputs\n",
    "            outs = []\n",
    "\n",
    "            # Check if the input looks like a greeting, add a greeting output if so\n",
    "            outs.append(selector(msg, GREETINGS_IN, GREETINGS_OUT))\n",
    "\n",
    "            # Check if the input looks like a computer thing, add a computer output if so\n",
    "            outs.append(selector(msg, COMP_IN, COMP_OUT))\n",
    "\n",
    "            # Check if the input mentions a person that is specified, add a person output if so\n",
    "            if is_in_list(msg, PEOPLE_IN):\n",
    "                name = find_in_list(msg, PEOPLE_IN)\n",
    "                outs.append(list_to_string([PEOPLE_NAMES[name], name.capitalize(),\n",
    "                                            selector(msg, PEOPLE_IN, PEOPLE_OUT)], ' '))\n",
    "\n",
    "            # Check if the input looks like a joke, add a repeat joke output if so\n",
    "            outs.append(respond_echo(selector(msg, JOKES_IN, JOKES_OUT), 3, ''))\n",
    "\n",
    "            # Check if the input has some words we don't want to talk about, say that, if so\n",
    "            if is_in_list(msg, NONO_IN):\n",
    "                outs.append(list_to_string([selector(msg, NONO_IN, NONO_OUT), find_in_list(msg, NONO_IN)], ' '))\n",
    "\n",
    "            # IF YOU WANTED TO ADD MORE TOPICS TO RESPOND TO, YOU COULD ADD THEM IN HERE\n",
    "\n",
    "            # We could have selected multiple outputs from the topic search above (if multiple return possible outputs)\n",
    "            #   We also might have appended None in some cases, meaning we don't have a reply\n",
    "            #   To deal with this, we are going to randomly select an output from the set of outputs that are not None\n",
    "            options = list(filter(None, outs))\n",
    "            if options:\n",
    "                out_msg = random.choice(options)\n",
    "\n",
    "        # If we don't have an output yet, but the input was a question, return msg related to it being a question\n",
    "        if not out_msg and question:\n",
    "            out_msg = QUESTION\n",
    "\n",
    "        # Catch-all to say something if msg not caught & processed so far\n",
    "        if not out_msg:\n",
    "            out_msg = random.choice(UNKNOWN)\n",
    "\n",
    "        print('OUTPUT:', out_msg)"
   ]
  },
  {
   "cell_type": "markdown",
   "metadata": {
    "deletable": false,
    "editable": false,
    "nbgrader": {
     "checksum": "1f35b891909fa4dd0ab27cf149d66d68",
     "grade": false,
     "grade_id": "cell-b772d97666f86487",
     "locked": true,
     "schema_version": 1,
     "solution": false
    }
   },
   "source": [
    "## Talking to our Chatbot\n",
    "\n",
    "To talk to our chatbot, uncomment and run the cell below. \n",
    "\n",
    "If anything seems to go weird, note that you can always interrupt the code from running with chat with kernel - interrupt from the menu. \n",
    "\n",
    "If this happens, it probably means there is some issue with one of the functions you wrote for the chatbot. "
   ]
  },
  {
   "cell_type": "code",
   "execution_count": null,
   "metadata": {},
   "outputs": [],
   "source": [
    "# Talk to our chatbot\n",
    "have_a_chat()"
   ]
  },
  {
   "cell_type": "markdown",
   "metadata": {
    "deletable": false,
    "editable": false,
    "nbgrader": {
     "checksum": "2119e22f50a39e18a701b1ecbf97b61c",
     "grade": false,
     "grade_id": "cell-40ef8e3f877362e7",
     "locked": true,
     "schema_version": 1,
     "solution": false
    }
   },
   "source": [
    "### Extending Our Chatbot\n",
    "\n",
    "You might notice that our chatbot, right now, is pretty limited in how many things it can respond to.\n",
    "\n",
    "To respond to more topics, we could re-use these same functions, adding more input & output options for our chatbot to respond to, using the basic approaches and functionality we have defined here. \n",
    "\n",
    "If you are interested in this topic, extending this chatbot (or ones like it) will be one of your project options. "
   ]
  },
  {
   "cell_type": "markdown",
   "metadata": {
    "deletable": false,
    "editable": false,
    "nbgrader": {
     "checksum": "799aa3c16f0baa42323106e680e1fefd",
     "grade": false,
     "grade_id": "cell-40d37bfa22765f04",
     "locked": true,
     "schema_version": 1,
     "solution": false
    }
   },
   "source": [
    "## The End!\n",
    "\n",
    "After you've explored chatting to the chatbot, you are done!\n",
    "\n",
    "Have a look back over your answers, and also make sure to Restart & Run All from the kernel menu to double check that everything is working properly. \n",
    "\n",
    "When you are ready to submit your assignment, upload it to TritonED under Assignment-3."
   ]
  }
 ],
 "metadata": {
  "kernelspec": {
   "display_name": "Python 3",
   "language": "python",
   "name": "python3"
  },
  "language_info": {
   "codemirror_mode": {
    "name": "ipython",
    "version": 3
   },
   "file_extension": ".py",
   "mimetype": "text/x-python",
   "name": "python",
   "nbconvert_exporter": "python",
   "pygments_lexer": "ipython3",
   "version": "3.6.3"
  }
 },
 "nbformat": 4,
 "nbformat_minor": 2
}
